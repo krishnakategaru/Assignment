{
  "cells": [
    {
      "cell_type": "code",
      "execution_count": 3,
      "metadata": {
        "id": "QCwibhJ3gBC0"
      },
      "outputs": [],
      "source": [
        "import re\n",
        "import nltk\n",
        "import gensim\n",
        "import gensim.corpora as corpora\n",
        "import pandas as pd\n",
        "import numpy as np\n",
        "from bertopic import BERTopic\n",
        "from sentence_transformers import SentenceTransformer\n",
        "from umap import UMAP\n",
        "from hdbscan import HDBSCAN\n",
        "from nltk.stem import WordNetLemmatizer\n",
        "from nltk.tokenize import word_tokenize\n",
        "from sklearn.feature_extraction.text import CountVectorizer\n",
        "from bertopic.vectorizers import ClassTfidfTransformer\n",
        "from gensim.models.coherencemodel import CoherenceModel\n",
        "import warnings\n",
        "warnings.filterwarnings(\"ignore\")"
      ]
    },
    {
      "cell_type": "code",
      "execution_count": 4,
      "metadata": {
        "colab": {
          "base_uri": "https://localhost:8080/",
          "height": 758
        },
        "id": "ZeV_Ryo0gCJf",
        "outputId": "427d2c48-712e-451a-84de-c418f2a66f9d"
      },
      "outputs": [],
      "source": [
        "dataset = pd.read_csv(\"data/tweets_01-08-2021.csv\")"
      ]
    },
    {
      "cell_type": "code",
      "execution_count": 5,
      "metadata": {
        "id": "Q1ZEEXlghDSo"
      },
      "outputs": [],
      "source": [
        "trump = dataset"
      ]
    },
    {
      "cell_type": "code",
      "execution_count": 6,
      "metadata": {
        "id": "6fe1fa5c"
      },
      "outputs": [
        {
          "name": "stdout",
          "output_type": "stream",
          "text": [
            "56571\n",
            "<class 'pandas.core.frame.DataFrame'>\n",
            "                  id                                               text  \\\n",
            "0  98454970654916608  Republicans and Democrats have both created ou...   \n",
            "\n",
            "  isRetweet isDeleted     device  favorites  retweets                 date  \\\n",
            "0         f         f  TweetDeck         49       255  2011-08-02 18:07:48   \n",
            "\n",
            "  isFlagged  \n",
            "0         f  \n"
          ]
        }
      ],
      "source": [
        "print(len(dataset)) #the length of the data\n",
        "print(type(dataset)) # the type of variable the data is stored in\n",
        "print(dataset[:1]) # the first instance of the content within the data"
      ]
    },
    {
      "cell_type": "code",
      "execution_count": 7,
      "metadata": {
        "id": "BzbQSiCChJBL"
      },
      "outputs": [
        {
          "data": {
            "text/html": [
              "<div>\n",
              "<style scoped>\n",
              "    .dataframe tbody tr th:only-of-type {\n",
              "        vertical-align: middle;\n",
              "    }\n",
              "\n",
              "    .dataframe tbody tr th {\n",
              "        vertical-align: top;\n",
              "    }\n",
              "\n",
              "    .dataframe thead th {\n",
              "        text-align: right;\n",
              "    }\n",
              "</style>\n",
              "<table border=\"1\" class=\"dataframe\">\n",
              "  <thead>\n",
              "    <tr style=\"text-align: right;\">\n",
              "      <th></th>\n",
              "      <th>id</th>\n",
              "      <th>text</th>\n",
              "      <th>isRetweet</th>\n",
              "      <th>isDeleted</th>\n",
              "      <th>device</th>\n",
              "      <th>favorites</th>\n",
              "      <th>retweets</th>\n",
              "      <th>date</th>\n",
              "      <th>isFlagged</th>\n",
              "    </tr>\n",
              "  </thead>\n",
              "  <tbody>\n",
              "    <tr>\n",
              "      <th>0</th>\n",
              "      <td>98454970654916608</td>\n",
              "      <td>Republicans and Democrats have both created ou...</td>\n",
              "      <td>f</td>\n",
              "      <td>f</td>\n",
              "      <td>TweetDeck</td>\n",
              "      <td>49</td>\n",
              "      <td>255</td>\n",
              "      <td>2011-08-02 18:07:48</td>\n",
              "      <td>f</td>\n",
              "    </tr>\n",
              "    <tr>\n",
              "      <th>1</th>\n",
              "      <td>1234653427789070336</td>\n",
              "      <td>I was thrilled to be back in the Great city of...</td>\n",
              "      <td>f</td>\n",
              "      <td>f</td>\n",
              "      <td>Twitter for iPhone</td>\n",
              "      <td>73748</td>\n",
              "      <td>17404</td>\n",
              "      <td>2020-03-03 01:34:50</td>\n",
              "      <td>f</td>\n",
              "    </tr>\n",
              "    <tr>\n",
              "      <th>2</th>\n",
              "      <td>1218010753434820614</td>\n",
              "      <td>RT @CBS_Herridge: READ: Letter to surveillance...</td>\n",
              "      <td>t</td>\n",
              "      <td>f</td>\n",
              "      <td>Twitter for iPhone</td>\n",
              "      <td>0</td>\n",
              "      <td>7396</td>\n",
              "      <td>2020-01-17 03:22:47</td>\n",
              "      <td>f</td>\n",
              "    </tr>\n",
              "    <tr>\n",
              "      <th>3</th>\n",
              "      <td>1304875170860015617</td>\n",
              "      <td>The Unsolicited Mail In Ballot Scam is a major...</td>\n",
              "      <td>f</td>\n",
              "      <td>f</td>\n",
              "      <td>Twitter for iPhone</td>\n",
              "      <td>80527</td>\n",
              "      <td>23502</td>\n",
              "      <td>2020-09-12 20:10:58</td>\n",
              "      <td>f</td>\n",
              "    </tr>\n",
              "    <tr>\n",
              "      <th>4</th>\n",
              "      <td>1218159531554897920</td>\n",
              "      <td>RT @MZHemingway: Very friendly telling of even...</td>\n",
              "      <td>t</td>\n",
              "      <td>f</td>\n",
              "      <td>Twitter for iPhone</td>\n",
              "      <td>0</td>\n",
              "      <td>9081</td>\n",
              "      <td>2020-01-17 13:13:59</td>\n",
              "      <td>f</td>\n",
              "    </tr>\n",
              "  </tbody>\n",
              "</table>\n",
              "</div>"
            ],
            "text/plain": [
              "                    id                                               text  \\\n",
              "0    98454970654916608  Republicans and Democrats have both created ou...   \n",
              "1  1234653427789070336  I was thrilled to be back in the Great city of...   \n",
              "2  1218010753434820614  RT @CBS_Herridge: READ: Letter to surveillance...   \n",
              "3  1304875170860015617  The Unsolicited Mail In Ballot Scam is a major...   \n",
              "4  1218159531554897920  RT @MZHemingway: Very friendly telling of even...   \n",
              "\n",
              "  isRetweet isDeleted              device  favorites  retweets  \\\n",
              "0         f         f           TweetDeck         49       255   \n",
              "1         f         f  Twitter for iPhone      73748     17404   \n",
              "2         t         f  Twitter for iPhone          0      7396   \n",
              "3         f         f  Twitter for iPhone      80527     23502   \n",
              "4         t         f  Twitter for iPhone          0      9081   \n",
              "\n",
              "                  date isFlagged  \n",
              "0  2011-08-02 18:07:48         f  \n",
              "1  2020-03-03 01:34:50         f  \n",
              "2  2020-01-17 03:22:47         f  \n",
              "3  2020-09-12 20:10:58         f  \n",
              "4  2020-01-17 13:13:59         f  "
            ]
          },
          "execution_count": 7,
          "metadata": {},
          "output_type": "execute_result"
        }
      ],
      "source": [
        "dataset.head()"
      ]
    },
    {
      "cell_type": "code",
      "execution_count": 8,
      "metadata": {
        "id": "mEndxhD_hnRf"
      },
      "outputs": [],
      "source": [
        "full_train = pd.DataFrame()\n",
        "full_train['text'] = dataset['text']"
      ]
    },
    {
      "cell_type": "code",
      "execution_count": 9,
      "metadata": {
        "id": "fXxOrZL0ithQ"
      },
      "outputs": [],
      "source": [
        "tweets = full_train"
      ]
    },
    {
      "cell_type": "code",
      "execution_count": 10,
      "metadata": {
        "id": "iHmwN7sqjC0n"
      },
      "outputs": [
        {
          "data": {
            "text/html": [
              "<div>\n",
              "<style scoped>\n",
              "    .dataframe tbody tr th:only-of-type {\n",
              "        vertical-align: middle;\n",
              "    }\n",
              "\n",
              "    .dataframe tbody tr th {\n",
              "        vertical-align: top;\n",
              "    }\n",
              "\n",
              "    .dataframe thead th {\n",
              "        text-align: right;\n",
              "    }\n",
              "</style>\n",
              "<table border=\"1\" class=\"dataframe\">\n",
              "  <thead>\n",
              "    <tr style=\"text-align: right;\">\n",
              "      <th></th>\n",
              "      <th>text</th>\n",
              "    </tr>\n",
              "  </thead>\n",
              "  <tbody>\n",
              "    <tr>\n",
              "      <th>0</th>\n",
              "      <td>Republicans and Democrats have both created ou...</td>\n",
              "    </tr>\n",
              "    <tr>\n",
              "      <th>1</th>\n",
              "      <td>I was thrilled to be back in the Great city of...</td>\n",
              "    </tr>\n",
              "    <tr>\n",
              "      <th>2</th>\n",
              "      <td>RT @CBS_Herridge: READ: Letter to surveillance...</td>\n",
              "    </tr>\n",
              "    <tr>\n",
              "      <th>3</th>\n",
              "      <td>The Unsolicited Mail In Ballot Scam is a major...</td>\n",
              "    </tr>\n",
              "    <tr>\n",
              "      <th>4</th>\n",
              "      <td>RT @MZHemingway: Very friendly telling of even...</td>\n",
              "    </tr>\n",
              "  </tbody>\n",
              "</table>\n",
              "</div>"
            ],
            "text/plain": [
              "                                                text\n",
              "0  Republicans and Democrats have both created ou...\n",
              "1  I was thrilled to be back in the Great city of...\n",
              "2  RT @CBS_Herridge: READ: Letter to surveillance...\n",
              "3  The Unsolicited Mail In Ballot Scam is a major...\n",
              "4  RT @MZHemingway: Very friendly telling of even..."
            ]
          },
          "execution_count": 10,
          "metadata": {},
          "output_type": "execute_result"
        }
      ],
      "source": [
        "tweets.head()"
      ]
    },
    {
      "cell_type": "code",
      "execution_count": 11,
      "metadata": {
        "id": "kKn43IF6jHUq"
      },
      "outputs": [
        {
          "name": "stdout",
          "output_type": "stream",
          "text": [
            "Number of NA rows: text    0\n",
            "dtype: int64\n"
          ]
        }
      ],
      "source": [
        "na_count = tweets.isnull().sum()\n",
        "print(\"Number of NA rows:\", na_count)"
      ]
    },
    {
      "cell_type": "code",
      "execution_count": 12,
      "metadata": {
        "id": "q4fuejGEjNtb"
      },
      "outputs": [
        {
          "name": "stdout",
          "output_type": "stream",
          "text": [
            "text    56571\n",
            "dtype: int64\n"
          ]
        }
      ],
      "source": [
        "print(tweets.count())"
      ]
    },
    {
      "cell_type": "code",
      "execution_count": 13,
      "metadata": {
        "id": "oxUpZUMajfd1"
      },
      "outputs": [],
      "source": [
        "trump.text = trump.apply(lambda row: re.sub(r\"http\\S+\", \"\", row.text).lower(), 1)\n",
        "trump.text = trump.apply(lambda row: \" \".join(filter(lambda x:x[0]!=\"@\", row.text.split())), 1)\n",
        "trump.text = trump.apply(lambda row: \" \".join(re.sub(\"[^a-zA-Z]+\", \" \", row.text).split()), 1)\n",
        "trump = trump.loc[(trump.isRetweet == \"f\") & (trump.text != \"\"), :]\n",
        "timestamps = trump.date.to_list()\n",
        "tweets = trump.text.to_list()"
      ]
    },
    {
      "cell_type": "code",
      "execution_count": 14,
      "metadata": {
        "id": "SnuY2EAXjo18"
      },
      "outputs": [
        {
          "data": {
            "text/plain": [
              "'republicans and democrats have both created our economic problems'"
            ]
          },
          "execution_count": 14,
          "metadata": {},
          "output_type": "execute_result"
        }
      ],
      "source": [
        "tweets[0]"
      ]
    },
    {
      "cell_type": "code",
      "execution_count": 15,
      "metadata": {
        "id": "kbPMRMUUjuT-"
      },
      "outputs": [],
      "source": [
        "trump_tweets = pd.DataFrame()"
      ]
    },
    {
      "cell_type": "code",
      "execution_count": 16,
      "metadata": {
        "id": "qR17LZtTlF8t"
      },
      "outputs": [],
      "source": [
        "trump_tweets['text'] = tweets"
      ]
    },
    {
      "cell_type": "code",
      "execution_count": 17,
      "metadata": {
        "id": "OKTkf1MDlMGw"
      },
      "outputs": [
        {
          "data": {
            "text/html": [
              "<div>\n",
              "<style scoped>\n",
              "    .dataframe tbody tr th:only-of-type {\n",
              "        vertical-align: middle;\n",
              "    }\n",
              "\n",
              "    .dataframe tbody tr th {\n",
              "        vertical-align: top;\n",
              "    }\n",
              "\n",
              "    .dataframe thead th {\n",
              "        text-align: right;\n",
              "    }\n",
              "</style>\n",
              "<table border=\"1\" class=\"dataframe\">\n",
              "  <thead>\n",
              "    <tr style=\"text-align: right;\">\n",
              "      <th></th>\n",
              "      <th>text</th>\n",
              "    </tr>\n",
              "  </thead>\n",
              "  <tbody>\n",
              "    <tr>\n",
              "      <th>0</th>\n",
              "      <td>republicans and democrats have both created ou...</td>\n",
              "    </tr>\n",
              "    <tr>\n",
              "      <th>1</th>\n",
              "      <td>i was thrilled to be back in the great city of...</td>\n",
              "    </tr>\n",
              "    <tr>\n",
              "      <th>2</th>\n",
              "      <td>the unsolicited mail in ballot scam is a major...</td>\n",
              "    </tr>\n",
              "    <tr>\n",
              "      <th>3</th>\n",
              "      <td>getting a little exercise this morning</td>\n",
              "    </tr>\n",
              "    <tr>\n",
              "      <th>4</th>\n",
              "      <td>thank you elise</td>\n",
              "    </tr>\n",
              "  </tbody>\n",
              "</table>\n",
              "</div>"
            ],
            "text/plain": [
              "                                                text\n",
              "0  republicans and democrats have both created ou...\n",
              "1  i was thrilled to be back in the great city of...\n",
              "2  the unsolicited mail in ballot scam is a major...\n",
              "3             getting a little exercise this morning\n",
              "4                                    thank you elise"
            ]
          },
          "execution_count": 17,
          "metadata": {},
          "output_type": "execute_result"
        }
      ],
      "source": [
        "trump_tweets.head()"
      ]
    },
    {
      "cell_type": "code",
      "execution_count": 18,
      "metadata": {
        "id": "1pubVgdNlRZt"
      },
      "outputs": [
        {
          "name": "stderr",
          "output_type": "stream",
          "text": [
            "[nltk_data] Downloading package wordnet to\n",
            "[nltk_data]     C:\\Users\\bhava\\AppData\\Roaming\\nltk_data...\n"
          ]
        },
        {
          "data": {
            "text/plain": [
              "True"
            ]
          },
          "execution_count": 18,
          "metadata": {},
          "output_type": "execute_result"
        }
      ],
      "source": [
        "import nltk\n",
        "nltk.download('wordnet')"
      ]
    },
    {
      "cell_type": "code",
      "execution_count": 19,
      "metadata": {
        "id": "h4Ej4z3WlUoQ"
      },
      "outputs": [
        {
          "name": "stdout",
          "output_type": "stream",
          "text": [
            "['republicans and democrats have both created our economic problems', 'i was thrilled to be back in the great city of charlotte north carolina with thousands of hardworking american patriots who love our country cherish our values respect our laws and always put america first thank you for a wonderful evening kag', 'the unsolicited mail in ballot scam is a major threat to our democracy amp the democrats know it almost all recent elections using this system even though much smaller amp with far fewer ballots to count have ended up being a disaster large numbers of missing ballots amp fraud', 'getting a little exercise this morning', 'thank you elise', 'as per your request joe', 'the threshold identification of ballots is turning out to be even bigger than originally anticipated a very large number of ballots are impacted stay tuned', 'i m running as a proud democrat for the senate sleepy joe biden today it s only going to get worse it is not sustainable for our county china will own us', 'huge win today for the united states and for peace in the world sudan has agreed to a peace and normalization agreement with israel with the united arab emirates and bahrain that s three arab countries to have done so in only a matter of weeks more will follow', 'thank you megyn']\n"
          ]
        }
      ],
      "source": [
        "filtered_text = []\n",
        "lemmatizer = WordNetLemmatizer()\n",
        "\n",
        "for w in tweets:\n",
        "      filtered_text.append(lemmatizer.lemmatize(w))\n",
        "print(filtered_text[:10])"
      ]
    },
    {
      "cell_type": "code",
      "execution_count": 21,
      "metadata": {
        "id": "ZBlQWW7OlZDW"
      },
      "outputs": [],
      "source": [
        "embedding_model = SentenceTransformer(\"all-MiniLM-L6-v2\")"
      ]
    },
    {
      "cell_type": "code",
      "execution_count": 22,
      "metadata": {
        "id": "8jJS-mL4lcLU"
      },
      "outputs": [],
      "source": [
        "umap_model = UMAP(n_neighbors=15, n_components=5, min_dist=0.0, metric='cosine')"
      ]
    },
    {
      "cell_type": "code",
      "execution_count": 23,
      "metadata": {
        "id": "BmhrLvtjlex3"
      },
      "outputs": [],
      "source": [
        "hdbscan_model = HDBSCAN(min_cluster_size=15, metric='euclidean', cluster_selection_method='eom', prediction_data=True)"
      ]
    },
    {
      "cell_type": "code",
      "execution_count": 24,
      "metadata": {
        "id": "O0w1WgOrlhfN"
      },
      "outputs": [],
      "source": [
        "vectorizer_model = CountVectorizer(stop_words=\"english\")"
      ]
    },
    {
      "cell_type": "code",
      "execution_count": 25,
      "metadata": {
        "id": "G2deCHbIlkDG"
      },
      "outputs": [],
      "source": [
        "ctfidf_model = ClassTfidfTransformer()"
      ]
    },
    {
      "cell_type": "code",
      "execution_count": 26,
      "metadata": {
        "id": "Bs3vVgXElmwt"
      },
      "outputs": [],
      "source": [
        "from bertopic.representation import MaximalMarginalRelevance\n",
        "representation_model = MaximalMarginalRelevance(diversity=0.5)"
      ]
    },
    {
      "cell_type": "code",
      "execution_count": null,
      "metadata": {
        "id": "KMpQ0XzHRY-H"
      },
      "outputs": [],
      "source": [
        "from google.colab import drive\n",
        "drive.mount('/content/drive')"
      ]
    },
    {
      "cell_type": "code",
      "execution_count": 27,
      "metadata": {
        "id": "JLEV5Us7lpjH"
      },
      "outputs": [],
      "source": [
        "topic_model = BERTopic(\n",
        "                embedding_model=embedding_model,    # Step 1 - Extract embeddings\n",
        "                  umap_model=umap_model,              # Step 2 - Reduce dimensionality\n",
        "                  hdbscan_model=hdbscan_model,        # Step 3 - Cluster reduced embeddings\n",
        "                  vectorizer_model=vectorizer_model,  # Step 4 - Tokenize topics\n",
        "                  ctfidf_model=ctfidf_model,          # Step 5 - Extract topic words\n",
        "                  representation_model=representation_model,\n",
        "                  nr_topics=10                        # Step 6 - Diversify topic words\n",
        ")"
      ]
    },
    {
      "cell_type": "code",
      "execution_count": 28,
      "metadata": {
        "id": "Vwwz-HcMlstp"
      },
      "outputs": [],
      "source": [
        "topics, probs = topic_model.fit_transform(filtered_text)"
      ]
    },
    {
      "cell_type": "code",
      "execution_count": 30,
      "metadata": {},
      "outputs": [
        {
          "data": {
            "text/plain": [
              "[-1,\n",
              " -1,\n",
              " 0,\n",
              " -1,\n",
              " 1,\n",
              " -1,\n",
              " 0,\n",
              " 0,\n",
              " 0,\n",
              " 1,\n",
              " 0,\n",
              " 0,\n",
              " 0,\n",
              " -1,\n",
              " 0,\n",
              " 0,\n",
              " -1,\n",
              " 0,\n",
              " -1,\n",
              " 0,\n",
              " 0,\n",
              " 0,\n",
              " 0,\n",
              " -1,\n",
              " 0,\n",
              " 0,\n",
              " 1,\n",
              " -1,\n",
              " 1,\n",
              " -1,\n",
              " -1,\n",
              " 1,\n",
              " 0,\n",
              " 0,\n",
              " 0,\n",
              " 0,\n",
              " 0,\n",
              " -1,\n",
              " -1,\n",
              " 0,\n",
              " 0,\n",
              " 0,\n",
              " -1,\n",
              " 0,\n",
              " 0,\n",
              " -1,\n",
              " -1,\n",
              " 0,\n",
              " 0,\n",
              " -1,\n",
              " -1,\n",
              " 0,\n",
              " 0,\n",
              " 0,\n",
              " -1,\n",
              " 0,\n",
              " -1,\n",
              " 0,\n",
              " -1,\n",
              " 0,\n",
              " -1,\n",
              " 1,\n",
              " -1,\n",
              " 0,\n",
              " 0,\n",
              " -1,\n",
              " 0,\n",
              " 0,\n",
              " -1,\n",
              " 0,\n",
              " 0,\n",
              " 0,\n",
              " 0,\n",
              " 0,\n",
              " 0,\n",
              " 0,\n",
              " 0,\n",
              " -1,\n",
              " 2,\n",
              " -1,\n",
              " 0,\n",
              " -1,\n",
              " 0,\n",
              " 0,\n",
              " 0,\n",
              " 0,\n",
              " 0,\n",
              " -1,\n",
              " 0,\n",
              " -1,\n",
              " -1,\n",
              " 0,\n",
              " 0,\n",
              " 0,\n",
              " -1,\n",
              " 1,\n",
              " -1,\n",
              " -1,\n",
              " 0,\n",
              " -1,\n",
              " -1,\n",
              " 0,\n",
              " -1,\n",
              " 0,\n",
              " 0,\n",
              " 1,\n",
              " 4,\n",
              " -1,\n",
              " -1,\n",
              " 0,\n",
              " 0,\n",
              " 0,\n",
              " 0,\n",
              " -1,\n",
              " -1,\n",
              " 0,\n",
              " 0,\n",
              " 0,\n",
              " 0,\n",
              " 0,\n",
              " 0,\n",
              " 0,\n",
              " 0,\n",
              " 0,\n",
              " 0,\n",
              " 0,\n",
              " 0,\n",
              " 0,\n",
              " -1,\n",
              " 0,\n",
              " 2,\n",
              " 0,\n",
              " 0,\n",
              " 0,\n",
              " -1,\n",
              " 0,\n",
              " -1,\n",
              " -1,\n",
              " 0,\n",
              " 0,\n",
              " 0,\n",
              " 0,\n",
              " 0,\n",
              " -1,\n",
              " -1,\n",
              " 0,\n",
              " 0,\n",
              " -1,\n",
              " -1,\n",
              " 0,\n",
              " 0,\n",
              " 0,\n",
              " 0,\n",
              " 0,\n",
              " -1,\n",
              " 0,\n",
              " -1,\n",
              " -1,\n",
              " -1,\n",
              " 0,\n",
              " -1,\n",
              " 0,\n",
              " 0,\n",
              " -1,\n",
              " 1,\n",
              " 0,\n",
              " 0,\n",
              " 0,\n",
              " -1,\n",
              " 0,\n",
              " 0,\n",
              " -1,\n",
              " 0,\n",
              " 1,\n",
              " 0,\n",
              " 0,\n",
              " -1,\n",
              " 0,\n",
              " 0,\n",
              " -1,\n",
              " -1,\n",
              " 0,\n",
              " 0,\n",
              " -1,\n",
              " 0,\n",
              " 0,\n",
              " 0,\n",
              " 0,\n",
              " 0,\n",
              " 0,\n",
              " 0,\n",
              " 0,\n",
              " 0,\n",
              " 0,\n",
              " 0,\n",
              " 0,\n",
              " 0,\n",
              " -1,\n",
              " 1,\n",
              " 0,\n",
              " -1,\n",
              " -1,\n",
              " 1,\n",
              " -1,\n",
              " -1,\n",
              " 0,\n",
              " 0,\n",
              " 0,\n",
              " -1,\n",
              " 0,\n",
              " -1,\n",
              " -1,\n",
              " 0,\n",
              " -1,\n",
              " -1,\n",
              " 2,\n",
              " 0,\n",
              " -1,\n",
              " -1,\n",
              " -1,\n",
              " -1,\n",
              " -1,\n",
              " 0,\n",
              " 0,\n",
              " -1,\n",
              " 0,\n",
              " 0,\n",
              " 0,\n",
              " 0,\n",
              " -1,\n",
              " 0,\n",
              " -1,\n",
              " -1,\n",
              " 0,\n",
              " 0,\n",
              " 0,\n",
              " 0,\n",
              " 0,\n",
              " -1,\n",
              " 0,\n",
              " 0,\n",
              " 0,\n",
              " -1,\n",
              " -1,\n",
              " -1,\n",
              " 0,\n",
              " -1,\n",
              " 0,\n",
              " -1,\n",
              " -1,\n",
              " 0,\n",
              " 0,\n",
              " 0,\n",
              " 0,\n",
              " 0,\n",
              " 0,\n",
              " -1,\n",
              " 0,\n",
              " 0,\n",
              " 0,\n",
              " -1,\n",
              " 0,\n",
              " -1,\n",
              " 0,\n",
              " 0,\n",
              " -1,\n",
              " -1,\n",
              " 0,\n",
              " 0,\n",
              " 0,\n",
              " 0,\n",
              " 0,\n",
              " 0,\n",
              " 0,\n",
              " 0,\n",
              " 0,\n",
              " -1,\n",
              " -1,\n",
              " 0,\n",
              " -1,\n",
              " -1,\n",
              " 0,\n",
              " -1,\n",
              " -1,\n",
              " -1,\n",
              " 0,\n",
              " 0,\n",
              " 0,\n",
              " 0,\n",
              " -1,\n",
              " 0,\n",
              " 0,\n",
              " 0,\n",
              " -1,\n",
              " -1,\n",
              " -1,\n",
              " 0,\n",
              " -1,\n",
              " 0,\n",
              " -1,\n",
              " -1,\n",
              " -1,\n",
              " 0,\n",
              " -1,\n",
              " 0,\n",
              " -1,\n",
              " 0,\n",
              " 0,\n",
              " 0,\n",
              " 1,\n",
              " 0,\n",
              " -1,\n",
              " -1,\n",
              " -1,\n",
              " -1,\n",
              " -1,\n",
              " 0,\n",
              " 0,\n",
              " 0,\n",
              " -1,\n",
              " -1,\n",
              " 0,\n",
              " 0,\n",
              " 0,\n",
              " 0,\n",
              " 0,\n",
              " -1,\n",
              " -1,\n",
              " -1,\n",
              " 0,\n",
              " 0,\n",
              " -1,\n",
              " 0,\n",
              " 0,\n",
              " 0,\n",
              " -1,\n",
              " -1,\n",
              " 0,\n",
              " -1,\n",
              " -1,\n",
              " 1,\n",
              " 0,\n",
              " 0,\n",
              " -1,\n",
              " -1,\n",
              " 0,\n",
              " 1,\n",
              " -1,\n",
              " 1,\n",
              " 1,\n",
              " 1,\n",
              " 0,\n",
              " -1,\n",
              " -1,\n",
              " -1,\n",
              " 1,\n",
              " -1,\n",
              " 0,\n",
              " -1,\n",
              " -1,\n",
              " 0,\n",
              " -1,\n",
              " -1,\n",
              " -1,\n",
              " 0,\n",
              " 1,\n",
              " 0,\n",
              " 1,\n",
              " 0,\n",
              " -1,\n",
              " -1,\n",
              " 0,\n",
              " -1,\n",
              " -1,\n",
              " 0,\n",
              " 0,\n",
              " 0,\n",
              " 0,\n",
              " 0,\n",
              " 0,\n",
              " 1,\n",
              " -1,\n",
              " -1,\n",
              " -1,\n",
              " -1,\n",
              " 0,\n",
              " 0,\n",
              " -1,\n",
              " 1,\n",
              " -1,\n",
              " 0,\n",
              " 0,\n",
              " -1,\n",
              " -1,\n",
              " 0,\n",
              " 0,\n",
              " 3,\n",
              " 0,\n",
              " 0,\n",
              " 0,\n",
              " -1,\n",
              " 0,\n",
              " -1,\n",
              " -1,\n",
              " -1,\n",
              " 0,\n",
              " 1,\n",
              " -1,\n",
              " -1,\n",
              " 0,\n",
              " -1,\n",
              " 1,\n",
              " 0,\n",
              " 0,\n",
              " 0,\n",
              " 0,\n",
              " 1,\n",
              " 0,\n",
              " 0,\n",
              " 1,\n",
              " -1,\n",
              " 0,\n",
              " -1,\n",
              " -1,\n",
              " 0,\n",
              " 4,\n",
              " 0,\n",
              " 1,\n",
              " 0,\n",
              " -1,\n",
              " 0,\n",
              " 0,\n",
              " -1,\n",
              " -1,\n",
              " 0,\n",
              " 0,\n",
              " -1,\n",
              " 0,\n",
              " 0,\n",
              " 0,\n",
              " 2,\n",
              " 0,\n",
              " -1,\n",
              " 0,\n",
              " 4,\n",
              " 3,\n",
              " 0,\n",
              " 4,\n",
              " -1,\n",
              " 0,\n",
              " -1,\n",
              " -1,\n",
              " -1,\n",
              " 0,\n",
              " 0,\n",
              " 0,\n",
              " 0,\n",
              " -1,\n",
              " -1,\n",
              " 0,\n",
              " -1,\n",
              " 2,\n",
              " -1,\n",
              " 0,\n",
              " -1,\n",
              " 0,\n",
              " -1,\n",
              " -1,\n",
              " 0,\n",
              " -1,\n",
              " -1,\n",
              " 0,\n",
              " -1,\n",
              " 0,\n",
              " 1,\n",
              " 1,\n",
              " 0,\n",
              " 0,\n",
              " 0,\n",
              " 0,\n",
              " -1,\n",
              " 0,\n",
              " 0,\n",
              " 0,\n",
              " 0,\n",
              " 0,\n",
              " 0,\n",
              " -1,\n",
              " 0,\n",
              " -1,\n",
              " -1,\n",
              " 0,\n",
              " 0,\n",
              " 0,\n",
              " -1,\n",
              " 1,\n",
              " 1,\n",
              " -1,\n",
              " 0,\n",
              " 0,\n",
              " -1,\n",
              " 0,\n",
              " 0,\n",
              " 0,\n",
              " -1,\n",
              " 0,\n",
              " 2,\n",
              " -1,\n",
              " -1,\n",
              " 0,\n",
              " -1,\n",
              " 0,\n",
              " -1,\n",
              " 1,\n",
              " 0,\n",
              " 0,\n",
              " 0,\n",
              " 0,\n",
              " 0,\n",
              " 1,\n",
              " 0,\n",
              " 1,\n",
              " 0,\n",
              " -1,\n",
              " 0,\n",
              " -1,\n",
              " 0,\n",
              " 0,\n",
              " -1,\n",
              " -1,\n",
              " -1,\n",
              " 0,\n",
              " 0,\n",
              " 0,\n",
              " 0,\n",
              " -1,\n",
              " 1,\n",
              " 0,\n",
              " 0,\n",
              " -1,\n",
              " 1,\n",
              " -1,\n",
              " 0,\n",
              " -1,\n",
              " 0,\n",
              " -1,\n",
              " 0,\n",
              " 0,\n",
              " 0,\n",
              " 0,\n",
              " 0,\n",
              " 0,\n",
              " -1,\n",
              " 0,\n",
              " 1,\n",
              " -1,\n",
              " -1,\n",
              " 0,\n",
              " 3,\n",
              " 0,\n",
              " 0,\n",
              " 4,\n",
              " 0,\n",
              " 0,\n",
              " -1,\n",
              " 0,\n",
              " 0,\n",
              " -1,\n",
              " -1,\n",
              " 0,\n",
              " -1,\n",
              " 0,\n",
              " -1,\n",
              " 0,\n",
              " -1,\n",
              " 0,\n",
              " 0,\n",
              " -1,\n",
              " 2,\n",
              " -1,\n",
              " 0,\n",
              " -1,\n",
              " 0,\n",
              " 0,\n",
              " 0,\n",
              " 0,\n",
              " -1,\n",
              " 0,\n",
              " 0,\n",
              " 0,\n",
              " 0,\n",
              " 0,\n",
              " -1,\n",
              " 0,\n",
              " 0,\n",
              " 0,\n",
              " 0,\n",
              " -1,\n",
              " -1,\n",
              " -1,\n",
              " 0,\n",
              " 0,\n",
              " 0,\n",
              " 0,\n",
              " 0,\n",
              " 0,\n",
              " 0,\n",
              " 0,\n",
              " -1,\n",
              " 1,\n",
              " -1,\n",
              " 0,\n",
              " 0,\n",
              " 0,\n",
              " 0,\n",
              " 0,\n",
              " -1,\n",
              " 0,\n",
              " -1,\n",
              " -1,\n",
              " -1,\n",
              " -1,\n",
              " 0,\n",
              " 1,\n",
              " 0,\n",
              " 0,\n",
              " 0,\n",
              " 0,\n",
              " -1,\n",
              " -1,\n",
              " -1,\n",
              " 0,\n",
              " -1,\n",
              " 0,\n",
              " 0,\n",
              " 0,\n",
              " -1,\n",
              " 0,\n",
              " 0,\n",
              " 0,\n",
              " 0,\n",
              " 0,\n",
              " -1,\n",
              " 0,\n",
              " 0,\n",
              " 0,\n",
              " 0,\n",
              " -1,\n",
              " 0,\n",
              " -1,\n",
              " -1,\n",
              " 0,\n",
              " -1,\n",
              " 0,\n",
              " 0,\n",
              " -1,\n",
              " 0,\n",
              " 0,\n",
              " -1,\n",
              " -1,\n",
              " 0,\n",
              " -1,\n",
              " 0,\n",
              " 0,\n",
              " 0,\n",
              " -1,\n",
              " 0,\n",
              " -1,\n",
              " 0,\n",
              " 1,\n",
              " 0,\n",
              " 2,\n",
              " 0,\n",
              " 1,\n",
              " 0,\n",
              " 0,\n",
              " -1,\n",
              " -1,\n",
              " 0,\n",
              " 4,\n",
              " 0,\n",
              " 1,\n",
              " 0,\n",
              " -1,\n",
              " -1,\n",
              " 0,\n",
              " 0,\n",
              " 1,\n",
              " -1,\n",
              " -1,\n",
              " 0,\n",
              " 1,\n",
              " 0,\n",
              " 0,\n",
              " 0,\n",
              " 1,\n",
              " -1,\n",
              " 0,\n",
              " 2,\n",
              " -1,\n",
              " -1,\n",
              " -1,\n",
              " 0,\n",
              " 0,\n",
              " 0,\n",
              " 1,\n",
              " -1,\n",
              " 0,\n",
              " 0,\n",
              " -1,\n",
              " 0,\n",
              " -1,\n",
              " 0,\n",
              " 0,\n",
              " 0,\n",
              " 3,\n",
              " 0,\n",
              " 0,\n",
              " 0,\n",
              " 0,\n",
              " -1,\n",
              " -1,\n",
              " 0,\n",
              " 0,\n",
              " 1,\n",
              " 0,\n",
              " 0,\n",
              " -1,\n",
              " -1,\n",
              " 0,\n",
              " -1,\n",
              " 0,\n",
              " 1,\n",
              " 0,\n",
              " 0,\n",
              " 0,\n",
              " -1,\n",
              " 0,\n",
              " 0,\n",
              " -1,\n",
              " -1,\n",
              " 1,\n",
              " 0,\n",
              " -1,\n",
              " -1,\n",
              " 4,\n",
              " 1,\n",
              " 0,\n",
              " 0,\n",
              " -1,\n",
              " 1,\n",
              " 0,\n",
              " 0,\n",
              " -1,\n",
              " 0,\n",
              " 0,\n",
              " -1,\n",
              " 0,\n",
              " 0,\n",
              " 0,\n",
              " -1,\n",
              " -1,\n",
              " 0,\n",
              " 0,\n",
              " 0,\n",
              " -1,\n",
              " -1,\n",
              " 2,\n",
              " -1,\n",
              " 0,\n",
              " 0,\n",
              " 0,\n",
              " 0,\n",
              " 0,\n",
              " -1,\n",
              " 0,\n",
              " 0,\n",
              " 0,\n",
              " -1,\n",
              " 0,\n",
              " -1,\n",
              " -1,\n",
              " 0,\n",
              " -1,\n",
              " 0,\n",
              " 0,\n",
              " 0,\n",
              " -1,\n",
              " 0,\n",
              " -1,\n",
              " 0,\n",
              " 0,\n",
              " 6,\n",
              " -1,\n",
              " 0,\n",
              " -1,\n",
              " 0,\n",
              " 0,\n",
              " 1,\n",
              " 0,\n",
              " 0,\n",
              " 0,\n",
              " 0,\n",
              " 1,\n",
              " 1,\n",
              " -1,\n",
              " -1,\n",
              " -1,\n",
              " 0,\n",
              " 4,\n",
              " -1,\n",
              " 0,\n",
              " 0,\n",
              " -1,\n",
              " 1,\n",
              " -1,\n",
              " -1,\n",
              " 0,\n",
              " -1,\n",
              " 0,\n",
              " 1,\n",
              " 0,\n",
              " 0,\n",
              " 0,\n",
              " -1,\n",
              " 0,\n",
              " 0,\n",
              " 0,\n",
              " -1,\n",
              " -1,\n",
              " 0,\n",
              " 0,\n",
              " 0,\n",
              " -1,\n",
              " -1,\n",
              " 0,\n",
              " 0,\n",
              " 0,\n",
              " 1,\n",
              " 0,\n",
              " 0,\n",
              " 0,\n",
              " -1,\n",
              " 0,\n",
              " -1,\n",
              " -1,\n",
              " 0,\n",
              " 0,\n",
              " 0,\n",
              " 0,\n",
              " -1,\n",
              " -1,\n",
              " 0,\n",
              " -1,\n",
              " -1,\n",
              " 0,\n",
              " -1,\n",
              " 0,\n",
              " 0,\n",
              " -1,\n",
              " 0,\n",
              " 0,\n",
              " 0,\n",
              " 0,\n",
              " 0,\n",
              " 0,\n",
              " -1,\n",
              " 0,\n",
              " 0,\n",
              " 0,\n",
              " -1,\n",
              " -1,\n",
              " 0,\n",
              " 0,\n",
              " 0,\n",
              " 0,\n",
              " 0,\n",
              " 0,\n",
              " -1,\n",
              " -1,\n",
              " 0,\n",
              " 0,\n",
              " 0,\n",
              " 1,\n",
              " 0,\n",
              " 0,\n",
              " -1,\n",
              " 4,\n",
              " 0,\n",
              " 0,\n",
              " 0,\n",
              " -1,\n",
              " -1,\n",
              " -1,\n",
              " -1,\n",
              " -1,\n",
              " 0,\n",
              " 0,\n",
              " 0,\n",
              " 0,\n",
              " 0,\n",
              " -1,\n",
              " 0,\n",
              " 0,\n",
              " 0,\n",
              " 0,\n",
              " -1,\n",
              " 0,\n",
              " 0,\n",
              " 0,\n",
              " 0,\n",
              " 0,\n",
              " 0,\n",
              " -1,\n",
              " -1,\n",
              " 1,\n",
              " 0,\n",
              " -1,\n",
              " -1,\n",
              " -1,\n",
              " -1,\n",
              " -1,\n",
              " 1,\n",
              " 0,\n",
              " 0,\n",
              " 0,\n",
              " 0,\n",
              " -1,\n",
              " -1,\n",
              " 0,\n",
              " 0,\n",
              " 0,\n",
              " 0,\n",
              " 0,\n",
              " 0,\n",
              " 0,\n",
              " 0,\n",
              " 0,\n",
              " 0,\n",
              " 0,\n",
              " -1,\n",
              " 0,\n",
              " 0,\n",
              " 0,\n",
              " 0,\n",
              " 0,\n",
              " -1,\n",
              " 0,\n",
              " -1,\n",
              " 0,\n",
              " -1,\n",
              " 0,\n",
              " -1,\n",
              " 0,\n",
              " 0,\n",
              " -1,\n",
              " 0,\n",
              " 0,\n",
              " 0,\n",
              " 0,\n",
              " 0,\n",
              " -1,\n",
              " 0,\n",
              " -1,\n",
              " -1,\n",
              " 0,\n",
              " 0,\n",
              " 0,\n",
              " -1,\n",
              " 0,\n",
              " 1,\n",
              " 0,\n",
              " 0,\n",
              " -1,\n",
              " 0,\n",
              " 0,\n",
              " 0,\n",
              " 1,\n",
              " -1,\n",
              " 1,\n",
              " 0,\n",
              " 0,\n",
              " -1,\n",
              " -1,\n",
              " 0,\n",
              " -1,\n",
              " -1,\n",
              " -1,\n",
              " 0,\n",
              " 0,\n",
              " 0,\n",
              " 1,\n",
              " 0,\n",
              " 1,\n",
              " 0,\n",
              " 0,\n",
              " 0,\n",
              " 0,\n",
              " 0,\n",
              " -1,\n",
              " ...]"
            ]
          },
          "execution_count": 30,
          "metadata": {},
          "output_type": "execute_result"
        }
      ],
      "source": [
        "topics"
      ]
    },
    {
      "cell_type": "code",
      "execution_count": 31,
      "metadata": {
        "colab": {
          "base_uri": "https://localhost:8080/",
          "height": 667
        },
        "id": "-mV0CNWcmeI5",
        "outputId": "b3c7217e-a4c9-4d17-d135-d6e1f9d67070"
      },
      "outputs": [
        {
          "ename": "ValueError",
          "evalue": "Mime type rendering requires nbformat>=4.2.0 but it is not installed",
          "output_type": "error",
          "traceback": [
            "\u001b[1;31m---------------------------------------------------------------------------\u001b[0m",
            "\u001b[1;31mValueError\u001b[0m                                Traceback (most recent call last)",
            "File \u001b[1;32mc:\\Users\\bhava\\anaconda3\\envs\\dsm509\\Lib\\site-packages\\IPython\\core\\formatters.py:925\u001b[0m, in \u001b[0;36mIPythonDisplayFormatter.__call__\u001b[1;34m(self, obj)\u001b[0m\n\u001b[0;32m    923\u001b[0m method \u001b[39m=\u001b[39m get_real_method(obj, \u001b[39mself\u001b[39m\u001b[39m.\u001b[39mprint_method)\n\u001b[0;32m    924\u001b[0m \u001b[39mif\u001b[39;00m method \u001b[39mis\u001b[39;00m \u001b[39mnot\u001b[39;00m \u001b[39mNone\u001b[39;00m:\n\u001b[1;32m--> 925\u001b[0m     method()\n\u001b[0;32m    926\u001b[0m     \u001b[39mreturn\u001b[39;00m \u001b[39mTrue\u001b[39;00m\n",
            "File \u001b[1;32mc:\\Users\\bhava\\anaconda3\\envs\\dsm509\\Lib\\site-packages\\plotly\\basedatatypes.py:832\u001b[0m, in \u001b[0;36mBaseFigure._ipython_display_\u001b[1;34m(self)\u001b[0m\n\u001b[0;32m    829\u001b[0m \u001b[39mimport\u001b[39;00m \u001b[39mplotly\u001b[39;00m\u001b[39m.\u001b[39;00m\u001b[39mio\u001b[39;00m \u001b[39mas\u001b[39;00m \u001b[39mpio\u001b[39;00m\n\u001b[0;32m    831\u001b[0m \u001b[39mif\u001b[39;00m pio\u001b[39m.\u001b[39mrenderers\u001b[39m.\u001b[39mrender_on_display \u001b[39mand\u001b[39;00m pio\u001b[39m.\u001b[39mrenderers\u001b[39m.\u001b[39mdefault:\n\u001b[1;32m--> 832\u001b[0m     pio\u001b[39m.\u001b[39;49mshow(\u001b[39mself\u001b[39;49m)\n\u001b[0;32m    833\u001b[0m \u001b[39melse\u001b[39;00m:\n\u001b[0;32m    834\u001b[0m     \u001b[39mprint\u001b[39m(\u001b[39mrepr\u001b[39m(\u001b[39mself\u001b[39m))\n",
            "File \u001b[1;32mc:\\Users\\bhava\\anaconda3\\envs\\dsm509\\Lib\\site-packages\\plotly\\io\\_renderers.py:394\u001b[0m, in \u001b[0;36mshow\u001b[1;34m(fig, renderer, validate, **kwargs)\u001b[0m\n\u001b[0;32m    389\u001b[0m         \u001b[39mraise\u001b[39;00m \u001b[39mValueError\u001b[39;00m(\n\u001b[0;32m    390\u001b[0m             \u001b[39m\"\u001b[39m\u001b[39mMime type rendering requires ipython but it is not installed\u001b[39m\u001b[39m\"\u001b[39m\n\u001b[0;32m    391\u001b[0m         )\n\u001b[0;32m    393\u001b[0m     \u001b[39mif\u001b[39;00m \u001b[39mnot\u001b[39;00m nbformat \u001b[39mor\u001b[39;00m Version(nbformat\u001b[39m.\u001b[39m__version__) \u001b[39m<\u001b[39m Version(\u001b[39m\"\u001b[39m\u001b[39m4.2.0\u001b[39m\u001b[39m\"\u001b[39m):\n\u001b[1;32m--> 394\u001b[0m         \u001b[39mraise\u001b[39;00m \u001b[39mValueError\u001b[39;00m(\n\u001b[0;32m    395\u001b[0m             \u001b[39m\"\u001b[39m\u001b[39mMime type rendering requires nbformat>=4.2.0 but it is not installed\u001b[39m\u001b[39m\"\u001b[39m\n\u001b[0;32m    396\u001b[0m         )\n\u001b[0;32m    398\u001b[0m     ipython_display\u001b[39m.\u001b[39mdisplay(bundle, raw\u001b[39m=\u001b[39m\u001b[39mTrue\u001b[39;00m)\n\u001b[0;32m    400\u001b[0m \u001b[39m# external renderers\u001b[39;00m\n",
            "\u001b[1;31mValueError\u001b[0m: Mime type rendering requires nbformat>=4.2.0 but it is not installed"
          ]
        },
        {
          "data": {
            "application/vnd.plotly.v1+json": {
              "config": {
                "plotlyServerURL": "https://plot.ly"
              },
              "data": [
                {
                  "customdata": [
                    [
                      0,
                      "amp | thank | china | vote | make",
                      21517
                    ],
                    [
                      1,
                      "thanks | happy | birthday | christmas | merry",
                      2875
                    ],
                    [
                      2,
                      "apprentice | celebapprentice | celebrity | miss | melania",
                      2500
                    ],
                    [
                      3,
                      "entrepreneurs | think | success | focus | passion",
                      1252
                    ],
                    [
                      4,
                      "amp | order | big | thank | law",
                      590
                    ],
                    [
                      5,
                      "wind | warming | turbines | windmills | birds",
                      391
                    ],
                    [
                      6,
                      "hunt | swamp | draining | continues | schneiderman",
                      73
                    ],
                    [
                      7,
                      "screen | apple | larger | mobile | samsung",
                      54
                    ],
                    [
                      8,
                      "pinehurst | golf | greens | critical | looked",
                      17
                    ]
                  ],
                  "hovertemplate": "<b>Topic %{customdata[0]}</b><br>%{customdata[1]}<br>Size: %{customdata[2]}",
                  "legendgroup": "",
                  "marker": {
                    "color": "#B0BEC5",
                    "line": {
                      "color": "DarkSlateGrey",
                      "width": 2
                    },
                    "size": [
                      21517,
                      2875,
                      2500,
                      1252,
                      590,
                      391,
                      73,
                      54,
                      17
                    ],
                    "sizemode": "area",
                    "sizeref": 13.448125,
                    "symbol": "circle"
                  },
                  "mode": "markers",
                  "name": "",
                  "orientation": "v",
                  "showlegend": false,
                  "type": "scatter",
                  "x": [
                    -16.893407821655273,
                    -17.665542602539062,
                    -17.027572631835938,
                    -15.147217750549316,
                    -16.2399959564209,
                    -15.094372749328613,
                    -16.81910514831543,
                    -16.544883728027344,
                    -17.276979446411133
                  ],
                  "xaxis": "x",
                  "y": [
                    8.481073379516602,
                    4.0167951583862305,
                    3.9122884273529053,
                    8.42148208618164,
                    8.553058624267578,
                    7.182237148284912,
                    6.2764105796813965,
                    7.871213912963867,
                    3.335832357406616
                  ],
                  "yaxis": "y"
                }
              ],
              "layout": {
                "annotations": [
                  {
                    "showarrow": false,
                    "text": "D1",
                    "x": -20.315373992919923,
                    "y": 6.33573746085167,
                    "yshift": 10
                  },
                  {
                    "showarrow": false,
                    "text": "D2",
                    "x": -16.57279541492462,
                    "xshift": 10,
                    "y": 9.836017417907716
                  }
                ],
                "height": 650,
                "hoverlabel": {
                  "bgcolor": "white",
                  "font": {
                    "family": "Rockwell",
                    "size": 16
                  }
                },
                "legend": {
                  "itemsizing": "constant",
                  "tracegroupgap": 0
                },
                "margin": {
                  "t": 60
                },
                "shapes": [
                  {
                    "line": {
                      "color": "#CFD8DC",
                      "width": 2
                    },
                    "type": "line",
                    "x0": -16.57279541492462,
                    "x1": -16.57279541492462,
                    "y0": 2.835457503795624,
                    "y1": 9.836017417907716
                  },
                  {
                    "line": {
                      "color": "#9E9E9E",
                      "width": 2
                    },
                    "type": "line",
                    "x0": -20.315373992919923,
                    "x1": -12.83021683692932,
                    "y0": 6.33573746085167,
                    "y1": 6.33573746085167
                  }
                ],
                "sliders": [
                  {
                    "active": 0,
                    "pad": {
                      "t": 50
                    },
                    "steps": [
                      {
                        "args": [
                          {
                            "marker.color": [
                              [
                                "red",
                                "#B0BEC5",
                                "#B0BEC5",
                                "#B0BEC5",
                                "#B0BEC5",
                                "#B0BEC5",
                                "#B0BEC5",
                                "#B0BEC5",
                                "#B0BEC5"
                              ]
                            ]
                          }
                        ],
                        "label": "Topic 0",
                        "method": "update"
                      },
                      {
                        "args": [
                          {
                            "marker.color": [
                              [
                                "#B0BEC5",
                                "red",
                                "#B0BEC5",
                                "#B0BEC5",
                                "#B0BEC5",
                                "#B0BEC5",
                                "#B0BEC5",
                                "#B0BEC5",
                                "#B0BEC5"
                              ]
                            ]
                          }
                        ],
                        "label": "Topic 1",
                        "method": "update"
                      },
                      {
                        "args": [
                          {
                            "marker.color": [
                              [
                                "#B0BEC5",
                                "#B0BEC5",
                                "red",
                                "#B0BEC5",
                                "#B0BEC5",
                                "#B0BEC5",
                                "#B0BEC5",
                                "#B0BEC5",
                                "#B0BEC5"
                              ]
                            ]
                          }
                        ],
                        "label": "Topic 2",
                        "method": "update"
                      },
                      {
                        "args": [
                          {
                            "marker.color": [
                              [
                                "#B0BEC5",
                                "#B0BEC5",
                                "#B0BEC5",
                                "red",
                                "#B0BEC5",
                                "#B0BEC5",
                                "#B0BEC5",
                                "#B0BEC5",
                                "#B0BEC5"
                              ]
                            ]
                          }
                        ],
                        "label": "Topic 3",
                        "method": "update"
                      },
                      {
                        "args": [
                          {
                            "marker.color": [
                              [
                                "#B0BEC5",
                                "#B0BEC5",
                                "#B0BEC5",
                                "#B0BEC5",
                                "red",
                                "#B0BEC5",
                                "#B0BEC5",
                                "#B0BEC5",
                                "#B0BEC5"
                              ]
                            ]
                          }
                        ],
                        "label": "Topic 4",
                        "method": "update"
                      },
                      {
                        "args": [
                          {
                            "marker.color": [
                              [
                                "#B0BEC5",
                                "#B0BEC5",
                                "#B0BEC5",
                                "#B0BEC5",
                                "#B0BEC5",
                                "red",
                                "#B0BEC5",
                                "#B0BEC5",
                                "#B0BEC5"
                              ]
                            ]
                          }
                        ],
                        "label": "Topic 5",
                        "method": "update"
                      },
                      {
                        "args": [
                          {
                            "marker.color": [
                              [
                                "#B0BEC5",
                                "#B0BEC5",
                                "#B0BEC5",
                                "#B0BEC5",
                                "#B0BEC5",
                                "#B0BEC5",
                                "red",
                                "#B0BEC5",
                                "#B0BEC5"
                              ]
                            ]
                          }
                        ],
                        "label": "Topic 6",
                        "method": "update"
                      },
                      {
                        "args": [
                          {
                            "marker.color": [
                              [
                                "#B0BEC5",
                                "#B0BEC5",
                                "#B0BEC5",
                                "#B0BEC5",
                                "#B0BEC5",
                                "#B0BEC5",
                                "#B0BEC5",
                                "red",
                                "#B0BEC5"
                              ]
                            ]
                          }
                        ],
                        "label": "Topic 7",
                        "method": "update"
                      },
                      {
                        "args": [
                          {
                            "marker.color": [
                              [
                                "#B0BEC5",
                                "#B0BEC5",
                                "#B0BEC5",
                                "#B0BEC5",
                                "#B0BEC5",
                                "#B0BEC5",
                                "#B0BEC5",
                                "#B0BEC5",
                                "red"
                              ]
                            ]
                          }
                        ],
                        "label": "Topic 8",
                        "method": "update"
                      }
                    ]
                  }
                ],
                "template": {
                  "data": {
                    "bar": [
                      {
                        "error_x": {
                          "color": "rgb(36,36,36)"
                        },
                        "error_y": {
                          "color": "rgb(36,36,36)"
                        },
                        "marker": {
                          "line": {
                            "color": "white",
                            "width": 0.5
                          },
                          "pattern": {
                            "fillmode": "overlay",
                            "size": 10,
                            "solidity": 0.2
                          }
                        },
                        "type": "bar"
                      }
                    ],
                    "barpolar": [
                      {
                        "marker": {
                          "line": {
                            "color": "white",
                            "width": 0.5
                          },
                          "pattern": {
                            "fillmode": "overlay",
                            "size": 10,
                            "solidity": 0.2
                          }
                        },
                        "type": "barpolar"
                      }
                    ],
                    "carpet": [
                      {
                        "aaxis": {
                          "endlinecolor": "rgb(36,36,36)",
                          "gridcolor": "white",
                          "linecolor": "white",
                          "minorgridcolor": "white",
                          "startlinecolor": "rgb(36,36,36)"
                        },
                        "baxis": {
                          "endlinecolor": "rgb(36,36,36)",
                          "gridcolor": "white",
                          "linecolor": "white",
                          "minorgridcolor": "white",
                          "startlinecolor": "rgb(36,36,36)"
                        },
                        "type": "carpet"
                      }
                    ],
                    "choropleth": [
                      {
                        "colorbar": {
                          "outlinewidth": 1,
                          "tickcolor": "rgb(36,36,36)",
                          "ticks": "outside"
                        },
                        "type": "choropleth"
                      }
                    ],
                    "contour": [
                      {
                        "colorbar": {
                          "outlinewidth": 1,
                          "tickcolor": "rgb(36,36,36)",
                          "ticks": "outside"
                        },
                        "colorscale": [
                          [
                            0,
                            "#440154"
                          ],
                          [
                            0.1111111111111111,
                            "#482878"
                          ],
                          [
                            0.2222222222222222,
                            "#3e4989"
                          ],
                          [
                            0.3333333333333333,
                            "#31688e"
                          ],
                          [
                            0.4444444444444444,
                            "#26828e"
                          ],
                          [
                            0.5555555555555556,
                            "#1f9e89"
                          ],
                          [
                            0.6666666666666666,
                            "#35b779"
                          ],
                          [
                            0.7777777777777778,
                            "#6ece58"
                          ],
                          [
                            0.8888888888888888,
                            "#b5de2b"
                          ],
                          [
                            1,
                            "#fde725"
                          ]
                        ],
                        "type": "contour"
                      }
                    ],
                    "contourcarpet": [
                      {
                        "colorbar": {
                          "outlinewidth": 1,
                          "tickcolor": "rgb(36,36,36)",
                          "ticks": "outside"
                        },
                        "type": "contourcarpet"
                      }
                    ],
                    "heatmap": [
                      {
                        "colorbar": {
                          "outlinewidth": 1,
                          "tickcolor": "rgb(36,36,36)",
                          "ticks": "outside"
                        },
                        "colorscale": [
                          [
                            0,
                            "#440154"
                          ],
                          [
                            0.1111111111111111,
                            "#482878"
                          ],
                          [
                            0.2222222222222222,
                            "#3e4989"
                          ],
                          [
                            0.3333333333333333,
                            "#31688e"
                          ],
                          [
                            0.4444444444444444,
                            "#26828e"
                          ],
                          [
                            0.5555555555555556,
                            "#1f9e89"
                          ],
                          [
                            0.6666666666666666,
                            "#35b779"
                          ],
                          [
                            0.7777777777777778,
                            "#6ece58"
                          ],
                          [
                            0.8888888888888888,
                            "#b5de2b"
                          ],
                          [
                            1,
                            "#fde725"
                          ]
                        ],
                        "type": "heatmap"
                      }
                    ],
                    "heatmapgl": [
                      {
                        "colorbar": {
                          "outlinewidth": 1,
                          "tickcolor": "rgb(36,36,36)",
                          "ticks": "outside"
                        },
                        "colorscale": [
                          [
                            0,
                            "#440154"
                          ],
                          [
                            0.1111111111111111,
                            "#482878"
                          ],
                          [
                            0.2222222222222222,
                            "#3e4989"
                          ],
                          [
                            0.3333333333333333,
                            "#31688e"
                          ],
                          [
                            0.4444444444444444,
                            "#26828e"
                          ],
                          [
                            0.5555555555555556,
                            "#1f9e89"
                          ],
                          [
                            0.6666666666666666,
                            "#35b779"
                          ],
                          [
                            0.7777777777777778,
                            "#6ece58"
                          ],
                          [
                            0.8888888888888888,
                            "#b5de2b"
                          ],
                          [
                            1,
                            "#fde725"
                          ]
                        ],
                        "type": "heatmapgl"
                      }
                    ],
                    "histogram": [
                      {
                        "marker": {
                          "line": {
                            "color": "white",
                            "width": 0.6
                          }
                        },
                        "type": "histogram"
                      }
                    ],
                    "histogram2d": [
                      {
                        "colorbar": {
                          "outlinewidth": 1,
                          "tickcolor": "rgb(36,36,36)",
                          "ticks": "outside"
                        },
                        "colorscale": [
                          [
                            0,
                            "#440154"
                          ],
                          [
                            0.1111111111111111,
                            "#482878"
                          ],
                          [
                            0.2222222222222222,
                            "#3e4989"
                          ],
                          [
                            0.3333333333333333,
                            "#31688e"
                          ],
                          [
                            0.4444444444444444,
                            "#26828e"
                          ],
                          [
                            0.5555555555555556,
                            "#1f9e89"
                          ],
                          [
                            0.6666666666666666,
                            "#35b779"
                          ],
                          [
                            0.7777777777777778,
                            "#6ece58"
                          ],
                          [
                            0.8888888888888888,
                            "#b5de2b"
                          ],
                          [
                            1,
                            "#fde725"
                          ]
                        ],
                        "type": "histogram2d"
                      }
                    ],
                    "histogram2dcontour": [
                      {
                        "colorbar": {
                          "outlinewidth": 1,
                          "tickcolor": "rgb(36,36,36)",
                          "ticks": "outside"
                        },
                        "colorscale": [
                          [
                            0,
                            "#440154"
                          ],
                          [
                            0.1111111111111111,
                            "#482878"
                          ],
                          [
                            0.2222222222222222,
                            "#3e4989"
                          ],
                          [
                            0.3333333333333333,
                            "#31688e"
                          ],
                          [
                            0.4444444444444444,
                            "#26828e"
                          ],
                          [
                            0.5555555555555556,
                            "#1f9e89"
                          ],
                          [
                            0.6666666666666666,
                            "#35b779"
                          ],
                          [
                            0.7777777777777778,
                            "#6ece58"
                          ],
                          [
                            0.8888888888888888,
                            "#b5de2b"
                          ],
                          [
                            1,
                            "#fde725"
                          ]
                        ],
                        "type": "histogram2dcontour"
                      }
                    ],
                    "mesh3d": [
                      {
                        "colorbar": {
                          "outlinewidth": 1,
                          "tickcolor": "rgb(36,36,36)",
                          "ticks": "outside"
                        },
                        "type": "mesh3d"
                      }
                    ],
                    "parcoords": [
                      {
                        "line": {
                          "colorbar": {
                            "outlinewidth": 1,
                            "tickcolor": "rgb(36,36,36)",
                            "ticks": "outside"
                          }
                        },
                        "type": "parcoords"
                      }
                    ],
                    "pie": [
                      {
                        "automargin": true,
                        "type": "pie"
                      }
                    ],
                    "scatter": [
                      {
                        "fillpattern": {
                          "fillmode": "overlay",
                          "size": 10,
                          "solidity": 0.2
                        },
                        "type": "scatter"
                      }
                    ],
                    "scatter3d": [
                      {
                        "line": {
                          "colorbar": {
                            "outlinewidth": 1,
                            "tickcolor": "rgb(36,36,36)",
                            "ticks": "outside"
                          }
                        },
                        "marker": {
                          "colorbar": {
                            "outlinewidth": 1,
                            "tickcolor": "rgb(36,36,36)",
                            "ticks": "outside"
                          }
                        },
                        "type": "scatter3d"
                      }
                    ],
                    "scattercarpet": [
                      {
                        "marker": {
                          "colorbar": {
                            "outlinewidth": 1,
                            "tickcolor": "rgb(36,36,36)",
                            "ticks": "outside"
                          }
                        },
                        "type": "scattercarpet"
                      }
                    ],
                    "scattergeo": [
                      {
                        "marker": {
                          "colorbar": {
                            "outlinewidth": 1,
                            "tickcolor": "rgb(36,36,36)",
                            "ticks": "outside"
                          }
                        },
                        "type": "scattergeo"
                      }
                    ],
                    "scattergl": [
                      {
                        "marker": {
                          "colorbar": {
                            "outlinewidth": 1,
                            "tickcolor": "rgb(36,36,36)",
                            "ticks": "outside"
                          }
                        },
                        "type": "scattergl"
                      }
                    ],
                    "scattermapbox": [
                      {
                        "marker": {
                          "colorbar": {
                            "outlinewidth": 1,
                            "tickcolor": "rgb(36,36,36)",
                            "ticks": "outside"
                          }
                        },
                        "type": "scattermapbox"
                      }
                    ],
                    "scatterpolar": [
                      {
                        "marker": {
                          "colorbar": {
                            "outlinewidth": 1,
                            "tickcolor": "rgb(36,36,36)",
                            "ticks": "outside"
                          }
                        },
                        "type": "scatterpolar"
                      }
                    ],
                    "scatterpolargl": [
                      {
                        "marker": {
                          "colorbar": {
                            "outlinewidth": 1,
                            "tickcolor": "rgb(36,36,36)",
                            "ticks": "outside"
                          }
                        },
                        "type": "scatterpolargl"
                      }
                    ],
                    "scatterternary": [
                      {
                        "marker": {
                          "colorbar": {
                            "outlinewidth": 1,
                            "tickcolor": "rgb(36,36,36)",
                            "ticks": "outside"
                          }
                        },
                        "type": "scatterternary"
                      }
                    ],
                    "surface": [
                      {
                        "colorbar": {
                          "outlinewidth": 1,
                          "tickcolor": "rgb(36,36,36)",
                          "ticks": "outside"
                        },
                        "colorscale": [
                          [
                            0,
                            "#440154"
                          ],
                          [
                            0.1111111111111111,
                            "#482878"
                          ],
                          [
                            0.2222222222222222,
                            "#3e4989"
                          ],
                          [
                            0.3333333333333333,
                            "#31688e"
                          ],
                          [
                            0.4444444444444444,
                            "#26828e"
                          ],
                          [
                            0.5555555555555556,
                            "#1f9e89"
                          ],
                          [
                            0.6666666666666666,
                            "#35b779"
                          ],
                          [
                            0.7777777777777778,
                            "#6ece58"
                          ],
                          [
                            0.8888888888888888,
                            "#b5de2b"
                          ],
                          [
                            1,
                            "#fde725"
                          ]
                        ],
                        "type": "surface"
                      }
                    ],
                    "table": [
                      {
                        "cells": {
                          "fill": {
                            "color": "rgb(237,237,237)"
                          },
                          "line": {
                            "color": "white"
                          }
                        },
                        "header": {
                          "fill": {
                            "color": "rgb(217,217,217)"
                          },
                          "line": {
                            "color": "white"
                          }
                        },
                        "type": "table"
                      }
                    ]
                  },
                  "layout": {
                    "annotationdefaults": {
                      "arrowhead": 0,
                      "arrowwidth": 1
                    },
                    "autotypenumbers": "strict",
                    "coloraxis": {
                      "colorbar": {
                        "outlinewidth": 1,
                        "tickcolor": "rgb(36,36,36)",
                        "ticks": "outside"
                      }
                    },
                    "colorscale": {
                      "diverging": [
                        [
                          0,
                          "rgb(103,0,31)"
                        ],
                        [
                          0.1,
                          "rgb(178,24,43)"
                        ],
                        [
                          0.2,
                          "rgb(214,96,77)"
                        ],
                        [
                          0.3,
                          "rgb(244,165,130)"
                        ],
                        [
                          0.4,
                          "rgb(253,219,199)"
                        ],
                        [
                          0.5,
                          "rgb(247,247,247)"
                        ],
                        [
                          0.6,
                          "rgb(209,229,240)"
                        ],
                        [
                          0.7,
                          "rgb(146,197,222)"
                        ],
                        [
                          0.8,
                          "rgb(67,147,195)"
                        ],
                        [
                          0.9,
                          "rgb(33,102,172)"
                        ],
                        [
                          1,
                          "rgb(5,48,97)"
                        ]
                      ],
                      "sequential": [
                        [
                          0,
                          "#440154"
                        ],
                        [
                          0.1111111111111111,
                          "#482878"
                        ],
                        [
                          0.2222222222222222,
                          "#3e4989"
                        ],
                        [
                          0.3333333333333333,
                          "#31688e"
                        ],
                        [
                          0.4444444444444444,
                          "#26828e"
                        ],
                        [
                          0.5555555555555556,
                          "#1f9e89"
                        ],
                        [
                          0.6666666666666666,
                          "#35b779"
                        ],
                        [
                          0.7777777777777778,
                          "#6ece58"
                        ],
                        [
                          0.8888888888888888,
                          "#b5de2b"
                        ],
                        [
                          1,
                          "#fde725"
                        ]
                      ],
                      "sequentialminus": [
                        [
                          0,
                          "#440154"
                        ],
                        [
                          0.1111111111111111,
                          "#482878"
                        ],
                        [
                          0.2222222222222222,
                          "#3e4989"
                        ],
                        [
                          0.3333333333333333,
                          "#31688e"
                        ],
                        [
                          0.4444444444444444,
                          "#26828e"
                        ],
                        [
                          0.5555555555555556,
                          "#1f9e89"
                        ],
                        [
                          0.6666666666666666,
                          "#35b779"
                        ],
                        [
                          0.7777777777777778,
                          "#6ece58"
                        ],
                        [
                          0.8888888888888888,
                          "#b5de2b"
                        ],
                        [
                          1,
                          "#fde725"
                        ]
                      ]
                    },
                    "colorway": [
                      "#1F77B4",
                      "#FF7F0E",
                      "#2CA02C",
                      "#D62728",
                      "#9467BD",
                      "#8C564B",
                      "#E377C2",
                      "#7F7F7F",
                      "#BCBD22",
                      "#17BECF"
                    ],
                    "font": {
                      "color": "rgb(36,36,36)"
                    },
                    "geo": {
                      "bgcolor": "white",
                      "lakecolor": "white",
                      "landcolor": "white",
                      "showlakes": true,
                      "showland": true,
                      "subunitcolor": "white"
                    },
                    "hoverlabel": {
                      "align": "left"
                    },
                    "hovermode": "closest",
                    "mapbox": {
                      "style": "light"
                    },
                    "paper_bgcolor": "white",
                    "plot_bgcolor": "white",
                    "polar": {
                      "angularaxis": {
                        "gridcolor": "rgb(232,232,232)",
                        "linecolor": "rgb(36,36,36)",
                        "showgrid": false,
                        "showline": true,
                        "ticks": "outside"
                      },
                      "bgcolor": "white",
                      "radialaxis": {
                        "gridcolor": "rgb(232,232,232)",
                        "linecolor": "rgb(36,36,36)",
                        "showgrid": false,
                        "showline": true,
                        "ticks": "outside"
                      }
                    },
                    "scene": {
                      "xaxis": {
                        "backgroundcolor": "white",
                        "gridcolor": "rgb(232,232,232)",
                        "gridwidth": 2,
                        "linecolor": "rgb(36,36,36)",
                        "showbackground": true,
                        "showgrid": false,
                        "showline": true,
                        "ticks": "outside",
                        "zeroline": false,
                        "zerolinecolor": "rgb(36,36,36)"
                      },
                      "yaxis": {
                        "backgroundcolor": "white",
                        "gridcolor": "rgb(232,232,232)",
                        "gridwidth": 2,
                        "linecolor": "rgb(36,36,36)",
                        "showbackground": true,
                        "showgrid": false,
                        "showline": true,
                        "ticks": "outside",
                        "zeroline": false,
                        "zerolinecolor": "rgb(36,36,36)"
                      },
                      "zaxis": {
                        "backgroundcolor": "white",
                        "gridcolor": "rgb(232,232,232)",
                        "gridwidth": 2,
                        "linecolor": "rgb(36,36,36)",
                        "showbackground": true,
                        "showgrid": false,
                        "showline": true,
                        "ticks": "outside",
                        "zeroline": false,
                        "zerolinecolor": "rgb(36,36,36)"
                      }
                    },
                    "shapedefaults": {
                      "fillcolor": "black",
                      "line": {
                        "width": 0
                      },
                      "opacity": 0.3
                    },
                    "ternary": {
                      "aaxis": {
                        "gridcolor": "rgb(232,232,232)",
                        "linecolor": "rgb(36,36,36)",
                        "showgrid": false,
                        "showline": true,
                        "ticks": "outside"
                      },
                      "baxis": {
                        "gridcolor": "rgb(232,232,232)",
                        "linecolor": "rgb(36,36,36)",
                        "showgrid": false,
                        "showline": true,
                        "ticks": "outside"
                      },
                      "bgcolor": "white",
                      "caxis": {
                        "gridcolor": "rgb(232,232,232)",
                        "linecolor": "rgb(36,36,36)",
                        "showgrid": false,
                        "showline": true,
                        "ticks": "outside"
                      }
                    },
                    "title": {
                      "x": 0.05
                    },
                    "xaxis": {
                      "automargin": true,
                      "gridcolor": "rgb(232,232,232)",
                      "linecolor": "rgb(36,36,36)",
                      "showgrid": false,
                      "showline": true,
                      "ticks": "outside",
                      "title": {
                        "standoff": 15
                      },
                      "zeroline": false,
                      "zerolinecolor": "rgb(36,36,36)"
                    },
                    "yaxis": {
                      "automargin": true,
                      "gridcolor": "rgb(232,232,232)",
                      "linecolor": "rgb(36,36,36)",
                      "showgrid": false,
                      "showline": true,
                      "ticks": "outside",
                      "title": {
                        "standoff": 15
                      },
                      "zeroline": false,
                      "zerolinecolor": "rgb(36,36,36)"
                    }
                  }
                },
                "title": {
                  "font": {
                    "color": "Black",
                    "size": 22
                  },
                  "text": "<b>Intertopic Distance Map</b>",
                  "x": 0.5,
                  "xanchor": "center",
                  "y": 0.95,
                  "yanchor": "top"
                },
                "width": 650,
                "xaxis": {
                  "anchor": "y",
                  "domain": [
                    0,
                    1
                  ],
                  "range": [
                    -20.315373992919923,
                    -12.83021683692932
                  ],
                  "title": {
                    "text": ""
                  },
                  "visible": false
                },
                "yaxis": {
                  "anchor": "x",
                  "domain": [
                    0,
                    1
                  ],
                  "range": [
                    2.835457503795624,
                    9.836017417907716
                  ],
                  "title": {
                    "text": ""
                  },
                  "visible": false
                }
              }
            },
            "text/html": [
              "<div>                        <script type=\"text/javascript\">window.PlotlyConfig = {MathJaxConfig: 'local'};</script>\n",
              "        <script charset=\"utf-8\" src=\"https://cdn.plot.ly/plotly-2.29.1.min.js\"></script>                <div id=\"3008d8eb-0aed-4f0e-8f8d-36fbc7f3de5b\" class=\"plotly-graph-div\" style=\"height:650px; width:650px;\"></div>            <script type=\"text/javascript\">                                    window.PLOTLYENV=window.PLOTLYENV || {};                                    if (document.getElementById(\"3008d8eb-0aed-4f0e-8f8d-36fbc7f3de5b\")) {                    Plotly.newPlot(                        \"3008d8eb-0aed-4f0e-8f8d-36fbc7f3de5b\",                        [{\"customdata\":[[0,\"amp | thank | china | vote | make\",21517],[1,\"thanks | happy | birthday | christmas | merry\",2875],[2,\"apprentice | celebapprentice | celebrity | miss | melania\",2500],[3,\"entrepreneurs | think | success | focus | passion\",1252],[4,\"amp | order | big | thank | law\",590],[5,\"wind | warming | turbines | windmills | birds\",391],[6,\"hunt | swamp | draining | continues | schneiderman\",73],[7,\"screen | apple | larger | mobile | samsung\",54],[8,\"pinehurst | golf | greens | critical | looked\",17]],\"hovertemplate\":\"\\u003cb\\u003eTopic %{customdata[0]}\\u003c\\u002fb\\u003e\\u003cbr\\u003e%{customdata[1]}\\u003cbr\\u003eSize: %{customdata[2]}\",\"legendgroup\":\"\",\"marker\":{\"color\":\"#B0BEC5\",\"size\":[21517,2875,2500,1252,590,391,73,54,17],\"sizemode\":\"area\",\"sizeref\":13.448125,\"symbol\":\"circle\",\"line\":{\"color\":\"DarkSlateGrey\",\"width\":2}},\"mode\":\"markers\",\"name\":\"\",\"orientation\":\"v\",\"showlegend\":false,\"x\":[-16.893407821655273,-17.665542602539062,-17.027572631835938,-15.147217750549316,-16.2399959564209,-15.094372749328613,-16.81910514831543,-16.544883728027344,-17.276979446411133],\"xaxis\":\"x\",\"y\":[8.481073379516602,4.0167951583862305,3.9122884273529053,8.42148208618164,8.553058624267578,7.182237148284912,6.2764105796813965,7.871213912963867,3.335832357406616],\"yaxis\":\"y\",\"type\":\"scatter\"}],                        {\"template\":{\"data\":{\"barpolar\":[{\"marker\":{\"line\":{\"color\":\"white\",\"width\":0.5},\"pattern\":{\"fillmode\":\"overlay\",\"size\":10,\"solidity\":0.2}},\"type\":\"barpolar\"}],\"bar\":[{\"error_x\":{\"color\":\"rgb(36,36,36)\"},\"error_y\":{\"color\":\"rgb(36,36,36)\"},\"marker\":{\"line\":{\"color\":\"white\",\"width\":0.5},\"pattern\":{\"fillmode\":\"overlay\",\"size\":10,\"solidity\":0.2}},\"type\":\"bar\"}],\"carpet\":[{\"aaxis\":{\"endlinecolor\":\"rgb(36,36,36)\",\"gridcolor\":\"white\",\"linecolor\":\"white\",\"minorgridcolor\":\"white\",\"startlinecolor\":\"rgb(36,36,36)\"},\"baxis\":{\"endlinecolor\":\"rgb(36,36,36)\",\"gridcolor\":\"white\",\"linecolor\":\"white\",\"minorgridcolor\":\"white\",\"startlinecolor\":\"rgb(36,36,36)\"},\"type\":\"carpet\"}],\"choropleth\":[{\"colorbar\":{\"outlinewidth\":1,\"tickcolor\":\"rgb(36,36,36)\",\"ticks\":\"outside\"},\"type\":\"choropleth\"}],\"contourcarpet\":[{\"colorbar\":{\"outlinewidth\":1,\"tickcolor\":\"rgb(36,36,36)\",\"ticks\":\"outside\"},\"type\":\"contourcarpet\"}],\"contour\":[{\"colorbar\":{\"outlinewidth\":1,\"tickcolor\":\"rgb(36,36,36)\",\"ticks\":\"outside\"},\"colorscale\":[[0.0,\"#440154\"],[0.1111111111111111,\"#482878\"],[0.2222222222222222,\"#3e4989\"],[0.3333333333333333,\"#31688e\"],[0.4444444444444444,\"#26828e\"],[0.5555555555555556,\"#1f9e89\"],[0.6666666666666666,\"#35b779\"],[0.7777777777777778,\"#6ece58\"],[0.8888888888888888,\"#b5de2b\"],[1.0,\"#fde725\"]],\"type\":\"contour\"}],\"heatmapgl\":[{\"colorbar\":{\"outlinewidth\":1,\"tickcolor\":\"rgb(36,36,36)\",\"ticks\":\"outside\"},\"colorscale\":[[0.0,\"#440154\"],[0.1111111111111111,\"#482878\"],[0.2222222222222222,\"#3e4989\"],[0.3333333333333333,\"#31688e\"],[0.4444444444444444,\"#26828e\"],[0.5555555555555556,\"#1f9e89\"],[0.6666666666666666,\"#35b779\"],[0.7777777777777778,\"#6ece58\"],[0.8888888888888888,\"#b5de2b\"],[1.0,\"#fde725\"]],\"type\":\"heatmapgl\"}],\"heatmap\":[{\"colorbar\":{\"outlinewidth\":1,\"tickcolor\":\"rgb(36,36,36)\",\"ticks\":\"outside\"},\"colorscale\":[[0.0,\"#440154\"],[0.1111111111111111,\"#482878\"],[0.2222222222222222,\"#3e4989\"],[0.3333333333333333,\"#31688e\"],[0.4444444444444444,\"#26828e\"],[0.5555555555555556,\"#1f9e89\"],[0.6666666666666666,\"#35b779\"],[0.7777777777777778,\"#6ece58\"],[0.8888888888888888,\"#b5de2b\"],[1.0,\"#fde725\"]],\"type\":\"heatmap\"}],\"histogram2dcontour\":[{\"colorbar\":{\"outlinewidth\":1,\"tickcolor\":\"rgb(36,36,36)\",\"ticks\":\"outside\"},\"colorscale\":[[0.0,\"#440154\"],[0.1111111111111111,\"#482878\"],[0.2222222222222222,\"#3e4989\"],[0.3333333333333333,\"#31688e\"],[0.4444444444444444,\"#26828e\"],[0.5555555555555556,\"#1f9e89\"],[0.6666666666666666,\"#35b779\"],[0.7777777777777778,\"#6ece58\"],[0.8888888888888888,\"#b5de2b\"],[1.0,\"#fde725\"]],\"type\":\"histogram2dcontour\"}],\"histogram2d\":[{\"colorbar\":{\"outlinewidth\":1,\"tickcolor\":\"rgb(36,36,36)\",\"ticks\":\"outside\"},\"colorscale\":[[0.0,\"#440154\"],[0.1111111111111111,\"#482878\"],[0.2222222222222222,\"#3e4989\"],[0.3333333333333333,\"#31688e\"],[0.4444444444444444,\"#26828e\"],[0.5555555555555556,\"#1f9e89\"],[0.6666666666666666,\"#35b779\"],[0.7777777777777778,\"#6ece58\"],[0.8888888888888888,\"#b5de2b\"],[1.0,\"#fde725\"]],\"type\":\"histogram2d\"}],\"histogram\":[{\"marker\":{\"line\":{\"color\":\"white\",\"width\":0.6}},\"type\":\"histogram\"}],\"mesh3d\":[{\"colorbar\":{\"outlinewidth\":1,\"tickcolor\":\"rgb(36,36,36)\",\"ticks\":\"outside\"},\"type\":\"mesh3d\"}],\"parcoords\":[{\"line\":{\"colorbar\":{\"outlinewidth\":1,\"tickcolor\":\"rgb(36,36,36)\",\"ticks\":\"outside\"}},\"type\":\"parcoords\"}],\"pie\":[{\"automargin\":true,\"type\":\"pie\"}],\"scatter3d\":[{\"line\":{\"colorbar\":{\"outlinewidth\":1,\"tickcolor\":\"rgb(36,36,36)\",\"ticks\":\"outside\"}},\"marker\":{\"colorbar\":{\"outlinewidth\":1,\"tickcolor\":\"rgb(36,36,36)\",\"ticks\":\"outside\"}},\"type\":\"scatter3d\"}],\"scattercarpet\":[{\"marker\":{\"colorbar\":{\"outlinewidth\":1,\"tickcolor\":\"rgb(36,36,36)\",\"ticks\":\"outside\"}},\"type\":\"scattercarpet\"}],\"scattergeo\":[{\"marker\":{\"colorbar\":{\"outlinewidth\":1,\"tickcolor\":\"rgb(36,36,36)\",\"ticks\":\"outside\"}},\"type\":\"scattergeo\"}],\"scattergl\":[{\"marker\":{\"colorbar\":{\"outlinewidth\":1,\"tickcolor\":\"rgb(36,36,36)\",\"ticks\":\"outside\"}},\"type\":\"scattergl\"}],\"scattermapbox\":[{\"marker\":{\"colorbar\":{\"outlinewidth\":1,\"tickcolor\":\"rgb(36,36,36)\",\"ticks\":\"outside\"}},\"type\":\"scattermapbox\"}],\"scatterpolargl\":[{\"marker\":{\"colorbar\":{\"outlinewidth\":1,\"tickcolor\":\"rgb(36,36,36)\",\"ticks\":\"outside\"}},\"type\":\"scatterpolargl\"}],\"scatterpolar\":[{\"marker\":{\"colorbar\":{\"outlinewidth\":1,\"tickcolor\":\"rgb(36,36,36)\",\"ticks\":\"outside\"}},\"type\":\"scatterpolar\"}],\"scatter\":[{\"fillpattern\":{\"fillmode\":\"overlay\",\"size\":10,\"solidity\":0.2},\"type\":\"scatter\"}],\"scatterternary\":[{\"marker\":{\"colorbar\":{\"outlinewidth\":1,\"tickcolor\":\"rgb(36,36,36)\",\"ticks\":\"outside\"}},\"type\":\"scatterternary\"}],\"surface\":[{\"colorbar\":{\"outlinewidth\":1,\"tickcolor\":\"rgb(36,36,36)\",\"ticks\":\"outside\"},\"colorscale\":[[0.0,\"#440154\"],[0.1111111111111111,\"#482878\"],[0.2222222222222222,\"#3e4989\"],[0.3333333333333333,\"#31688e\"],[0.4444444444444444,\"#26828e\"],[0.5555555555555556,\"#1f9e89\"],[0.6666666666666666,\"#35b779\"],[0.7777777777777778,\"#6ece58\"],[0.8888888888888888,\"#b5de2b\"],[1.0,\"#fde725\"]],\"type\":\"surface\"}],\"table\":[{\"cells\":{\"fill\":{\"color\":\"rgb(237,237,237)\"},\"line\":{\"color\":\"white\"}},\"header\":{\"fill\":{\"color\":\"rgb(217,217,217)\"},\"line\":{\"color\":\"white\"}},\"type\":\"table\"}]},\"layout\":{\"annotationdefaults\":{\"arrowhead\":0,\"arrowwidth\":1},\"autotypenumbers\":\"strict\",\"coloraxis\":{\"colorbar\":{\"outlinewidth\":1,\"tickcolor\":\"rgb(36,36,36)\",\"ticks\":\"outside\"}},\"colorscale\":{\"diverging\":[[0.0,\"rgb(103,0,31)\"],[0.1,\"rgb(178,24,43)\"],[0.2,\"rgb(214,96,77)\"],[0.3,\"rgb(244,165,130)\"],[0.4,\"rgb(253,219,199)\"],[0.5,\"rgb(247,247,247)\"],[0.6,\"rgb(209,229,240)\"],[0.7,\"rgb(146,197,222)\"],[0.8,\"rgb(67,147,195)\"],[0.9,\"rgb(33,102,172)\"],[1.0,\"rgb(5,48,97)\"]],\"sequential\":[[0.0,\"#440154\"],[0.1111111111111111,\"#482878\"],[0.2222222222222222,\"#3e4989\"],[0.3333333333333333,\"#31688e\"],[0.4444444444444444,\"#26828e\"],[0.5555555555555556,\"#1f9e89\"],[0.6666666666666666,\"#35b779\"],[0.7777777777777778,\"#6ece58\"],[0.8888888888888888,\"#b5de2b\"],[1.0,\"#fde725\"]],\"sequentialminus\":[[0.0,\"#440154\"],[0.1111111111111111,\"#482878\"],[0.2222222222222222,\"#3e4989\"],[0.3333333333333333,\"#31688e\"],[0.4444444444444444,\"#26828e\"],[0.5555555555555556,\"#1f9e89\"],[0.6666666666666666,\"#35b779\"],[0.7777777777777778,\"#6ece58\"],[0.8888888888888888,\"#b5de2b\"],[1.0,\"#fde725\"]]},\"colorway\":[\"#1F77B4\",\"#FF7F0E\",\"#2CA02C\",\"#D62728\",\"#9467BD\",\"#8C564B\",\"#E377C2\",\"#7F7F7F\",\"#BCBD22\",\"#17BECF\"],\"font\":{\"color\":\"rgb(36,36,36)\"},\"geo\":{\"bgcolor\":\"white\",\"lakecolor\":\"white\",\"landcolor\":\"white\",\"showlakes\":true,\"showland\":true,\"subunitcolor\":\"white\"},\"hoverlabel\":{\"align\":\"left\"},\"hovermode\":\"closest\",\"mapbox\":{\"style\":\"light\"},\"paper_bgcolor\":\"white\",\"plot_bgcolor\":\"white\",\"polar\":{\"angularaxis\":{\"gridcolor\":\"rgb(232,232,232)\",\"linecolor\":\"rgb(36,36,36)\",\"showgrid\":false,\"showline\":true,\"ticks\":\"outside\"},\"bgcolor\":\"white\",\"radialaxis\":{\"gridcolor\":\"rgb(232,232,232)\",\"linecolor\":\"rgb(36,36,36)\",\"showgrid\":false,\"showline\":true,\"ticks\":\"outside\"}},\"scene\":{\"xaxis\":{\"backgroundcolor\":\"white\",\"gridcolor\":\"rgb(232,232,232)\",\"gridwidth\":2,\"linecolor\":\"rgb(36,36,36)\",\"showbackground\":true,\"showgrid\":false,\"showline\":true,\"ticks\":\"outside\",\"zeroline\":false,\"zerolinecolor\":\"rgb(36,36,36)\"},\"yaxis\":{\"backgroundcolor\":\"white\",\"gridcolor\":\"rgb(232,232,232)\",\"gridwidth\":2,\"linecolor\":\"rgb(36,36,36)\",\"showbackground\":true,\"showgrid\":false,\"showline\":true,\"ticks\":\"outside\",\"zeroline\":false,\"zerolinecolor\":\"rgb(36,36,36)\"},\"zaxis\":{\"backgroundcolor\":\"white\",\"gridcolor\":\"rgb(232,232,232)\",\"gridwidth\":2,\"linecolor\":\"rgb(36,36,36)\",\"showbackground\":true,\"showgrid\":false,\"showline\":true,\"ticks\":\"outside\",\"zeroline\":false,\"zerolinecolor\":\"rgb(36,36,36)\"}},\"shapedefaults\":{\"fillcolor\":\"black\",\"line\":{\"width\":0},\"opacity\":0.3},\"ternary\":{\"aaxis\":{\"gridcolor\":\"rgb(232,232,232)\",\"linecolor\":\"rgb(36,36,36)\",\"showgrid\":false,\"showline\":true,\"ticks\":\"outside\"},\"baxis\":{\"gridcolor\":\"rgb(232,232,232)\",\"linecolor\":\"rgb(36,36,36)\",\"showgrid\":false,\"showline\":true,\"ticks\":\"outside\"},\"bgcolor\":\"white\",\"caxis\":{\"gridcolor\":\"rgb(232,232,232)\",\"linecolor\":\"rgb(36,36,36)\",\"showgrid\":false,\"showline\":true,\"ticks\":\"outside\"}},\"title\":{\"x\":0.05},\"xaxis\":{\"automargin\":true,\"gridcolor\":\"rgb(232,232,232)\",\"linecolor\":\"rgb(36,36,36)\",\"showgrid\":false,\"showline\":true,\"ticks\":\"outside\",\"title\":{\"standoff\":15},\"zeroline\":false,\"zerolinecolor\":\"rgb(36,36,36)\"},\"yaxis\":{\"automargin\":true,\"gridcolor\":\"rgb(232,232,232)\",\"linecolor\":\"rgb(36,36,36)\",\"showgrid\":false,\"showline\":true,\"ticks\":\"outside\",\"title\":{\"standoff\":15},\"zeroline\":false,\"zerolinecolor\":\"rgb(36,36,36)\"}}},\"xaxis\":{\"anchor\":\"y\",\"domain\":[0.0,1.0],\"title\":{\"text\":\"\"},\"visible\":false,\"range\":[-20.315373992919923,-12.83021683692932]},\"yaxis\":{\"anchor\":\"x\",\"domain\":[0.0,1.0],\"title\":{\"text\":\"\"},\"visible\":false,\"range\":[2.835457503795624,9.836017417907716]},\"legend\":{\"tracegroupgap\":0,\"itemsizing\":\"constant\"},\"margin\":{\"t\":60},\"title\":{\"font\":{\"size\":22,\"color\":\"Black\"},\"text\":\"\\u003cb\\u003eIntertopic Distance Map\\u003c\\u002fb\\u003e\",\"y\":0.95,\"x\":0.5,\"xanchor\":\"center\",\"yanchor\":\"top\"},\"hoverlabel\":{\"font\":{\"size\":16,\"family\":\"Rockwell\"},\"bgcolor\":\"white\"},\"width\":650,\"height\":650,\"sliders\":[{\"active\":0,\"pad\":{\"t\":50},\"steps\":[{\"args\":[{\"marker.color\":[[\"red\",\"#B0BEC5\",\"#B0BEC5\",\"#B0BEC5\",\"#B0BEC5\",\"#B0BEC5\",\"#B0BEC5\",\"#B0BEC5\",\"#B0BEC5\"]]}],\"label\":\"Topic 0\",\"method\":\"update\"},{\"args\":[{\"marker.color\":[[\"#B0BEC5\",\"red\",\"#B0BEC5\",\"#B0BEC5\",\"#B0BEC5\",\"#B0BEC5\",\"#B0BEC5\",\"#B0BEC5\",\"#B0BEC5\"]]}],\"label\":\"Topic 1\",\"method\":\"update\"},{\"args\":[{\"marker.color\":[[\"#B0BEC5\",\"#B0BEC5\",\"red\",\"#B0BEC5\",\"#B0BEC5\",\"#B0BEC5\",\"#B0BEC5\",\"#B0BEC5\",\"#B0BEC5\"]]}],\"label\":\"Topic 2\",\"method\":\"update\"},{\"args\":[{\"marker.color\":[[\"#B0BEC5\",\"#B0BEC5\",\"#B0BEC5\",\"red\",\"#B0BEC5\",\"#B0BEC5\",\"#B0BEC5\",\"#B0BEC5\",\"#B0BEC5\"]]}],\"label\":\"Topic 3\",\"method\":\"update\"},{\"args\":[{\"marker.color\":[[\"#B0BEC5\",\"#B0BEC5\",\"#B0BEC5\",\"#B0BEC5\",\"red\",\"#B0BEC5\",\"#B0BEC5\",\"#B0BEC5\",\"#B0BEC5\"]]}],\"label\":\"Topic 4\",\"method\":\"update\"},{\"args\":[{\"marker.color\":[[\"#B0BEC5\",\"#B0BEC5\",\"#B0BEC5\",\"#B0BEC5\",\"#B0BEC5\",\"red\",\"#B0BEC5\",\"#B0BEC5\",\"#B0BEC5\"]]}],\"label\":\"Topic 5\",\"method\":\"update\"},{\"args\":[{\"marker.color\":[[\"#B0BEC5\",\"#B0BEC5\",\"#B0BEC5\",\"#B0BEC5\",\"#B0BEC5\",\"#B0BEC5\",\"red\",\"#B0BEC5\",\"#B0BEC5\"]]}],\"label\":\"Topic 6\",\"method\":\"update\"},{\"args\":[{\"marker.color\":[[\"#B0BEC5\",\"#B0BEC5\",\"#B0BEC5\",\"#B0BEC5\",\"#B0BEC5\",\"#B0BEC5\",\"#B0BEC5\",\"red\",\"#B0BEC5\"]]}],\"label\":\"Topic 7\",\"method\":\"update\"},{\"args\":[{\"marker.color\":[[\"#B0BEC5\",\"#B0BEC5\",\"#B0BEC5\",\"#B0BEC5\",\"#B0BEC5\",\"#B0BEC5\",\"#B0BEC5\",\"#B0BEC5\",\"red\"]]}],\"label\":\"Topic 8\",\"method\":\"update\"}]}],\"shapes\":[{\"line\":{\"color\":\"#CFD8DC\",\"width\":2},\"type\":\"line\",\"x0\":-16.57279541492462,\"x1\":-16.57279541492462,\"y0\":2.835457503795624,\"y1\":9.836017417907716},{\"line\":{\"color\":\"#9E9E9E\",\"width\":2},\"type\":\"line\",\"x0\":-20.315373992919923,\"x1\":-12.83021683692932,\"y0\":6.33573746085167,\"y1\":6.33573746085167}],\"annotations\":[{\"showarrow\":false,\"text\":\"D1\",\"x\":-20.315373992919923,\"y\":6.33573746085167,\"yshift\":10},{\"showarrow\":false,\"text\":\"D2\",\"x\":-16.57279541492462,\"xshift\":10,\"y\":9.836017417907716}]},                        {\"responsive\": true}                    )                };                            </script>        </div>"
            ],
            "text/plain": [
              "Figure({\n",
              "    'data': [{'customdata': array([[0, 'amp | thank | china | vote | make', 21517],\n",
              "                                   [1, 'thanks | happy | birthday | christmas | merry', 2875],\n",
              "                                   [2, 'apprentice | celebapprentice | celebrity | miss | melania', 2500],\n",
              "                                   [3, 'entrepreneurs | think | success | focus | passion', 1252],\n",
              "                                   [4, 'amp | order | big | thank | law', 590],\n",
              "                                   [5, 'wind | warming | turbines | windmills | birds', 391],\n",
              "                                   [6, 'hunt | swamp | draining | continues | schneiderman', 73],\n",
              "                                   [7, 'screen | apple | larger | mobile | samsung', 54],\n",
              "                                   [8, 'pinehurst | golf | greens | critical | looked', 17]], dtype=object),\n",
              "              'hovertemplate': '<b>Topic %{customdata[0]}</b><br>%{customdata[1]}<br>Size: %{customdata[2]}',\n",
              "              'legendgroup': '',\n",
              "              'marker': {'color': '#B0BEC5',\n",
              "                         'line': {'color': 'DarkSlateGrey', 'width': 2},\n",
              "                         'size': array([21517,  2875,  2500,  1252,   590,   391,    73,    54,    17],\n",
              "                                       dtype=int64),\n",
              "                         'sizemode': 'area',\n",
              "                         'sizeref': 13.448125,\n",
              "                         'symbol': 'circle'},\n",
              "              'mode': 'markers',\n",
              "              'name': '',\n",
              "              'orientation': 'v',\n",
              "              'showlegend': False,\n",
              "              'type': 'scatter',\n",
              "              'x': array([-16.893408, -17.665543, -17.027573, -15.147218, -16.239996, -15.094373,\n",
              "                          -16.819105, -16.544884, -17.27698 ], dtype=float32),\n",
              "              'xaxis': 'x',\n",
              "              'y': array([8.481073 , 4.016795 , 3.9122884, 8.421482 , 8.553059 , 7.182237 ,\n",
              "                          6.2764106, 7.871214 , 3.3358324], dtype=float32),\n",
              "              'yaxis': 'y'}],\n",
              "    'layout': {'annotations': [{'showarrow': False,\n",
              "                                'text': 'D1',\n",
              "                                'x': -20.315373992919923,\n",
              "                                'y': 6.33573746085167,\n",
              "                                'yshift': 10},\n",
              "                               {'showarrow': False,\n",
              "                                'text': 'D2',\n",
              "                                'x': -16.57279541492462,\n",
              "                                'xshift': 10,\n",
              "                                'y': 9.836017417907716}],\n",
              "               'height': 650,\n",
              "               'hoverlabel': {'bgcolor': 'white', 'font': {'family': 'Rockwell', 'size': 16}},\n",
              "               'legend': {'itemsizing': 'constant', 'tracegroupgap': 0},\n",
              "               'margin': {'t': 60},\n",
              "               'shapes': [{'line': {'color': '#CFD8DC', 'width': 2},\n",
              "                           'type': 'line',\n",
              "                           'x0': -16.57279541492462,\n",
              "                           'x1': -16.57279541492462,\n",
              "                           'y0': 2.835457503795624,\n",
              "                           'y1': 9.836017417907716},\n",
              "                          {'line': {'color': '#9E9E9E', 'width': 2},\n",
              "                           'type': 'line',\n",
              "                           'x0': -20.315373992919923,\n",
              "                           'x1': -12.83021683692932,\n",
              "                           'y0': 6.33573746085167,\n",
              "                           'y1': 6.33573746085167}],\n",
              "               'sliders': [{'active': 0,\n",
              "                            'pad': {'t': 50},\n",
              "                            'steps': [{'args': [{'marker.color': [['red',\n",
              "                                                                  '#B0BEC5',\n",
              "                                                                  '#B0BEC5',\n",
              "                                                                  '#B0BEC5',\n",
              "                                                                  '#B0BEC5',\n",
              "                                                                  '#B0BEC5',\n",
              "                                                                  '#B0BEC5',\n",
              "                                                                  '#B0BEC5',\n",
              "                                                                  '#B0BEC5']]}],\n",
              "                                       'label': 'Topic 0',\n",
              "                                       'method': 'update'},\n",
              "                                      {'args': [{'marker.color': [['#B0BEC5',\n",
              "                                                                  'red', '#B0BEC5',\n",
              "                                                                  '#B0BEC5',\n",
              "                                                                  '#B0BEC5',\n",
              "                                                                  '#B0BEC5',\n",
              "                                                                  '#B0BEC5',\n",
              "                                                                  '#B0BEC5',\n",
              "                                                                  '#B0BEC5']]}],\n",
              "                                       'label': 'Topic 1',\n",
              "                                       'method': 'update'},\n",
              "                                      {'args': [{'marker.color': [['#B0BEC5',\n",
              "                                                                  '#B0BEC5', 'red',\n",
              "                                                                  '#B0BEC5',\n",
              "                                                                  '#B0BEC5',\n",
              "                                                                  '#B0BEC5',\n",
              "                                                                  '#B0BEC5',\n",
              "                                                                  '#B0BEC5',\n",
              "                                                                  '#B0BEC5']]}],\n",
              "                                       'label': 'Topic 2',\n",
              "                                       'method': 'update'},\n",
              "                                      {'args': [{'marker.color': [['#B0BEC5',\n",
              "                                                                  '#B0BEC5',\n",
              "                                                                  '#B0BEC5', 'red',\n",
              "                                                                  '#B0BEC5',\n",
              "                                                                  '#B0BEC5',\n",
              "                                                                  '#B0BEC5',\n",
              "                                                                  '#B0BEC5',\n",
              "                                                                  '#B0BEC5']]}],\n",
              "                                       'label': 'Topic 3',\n",
              "                                       'method': 'update'},\n",
              "                                      {'args': [{'marker.color': [['#B0BEC5',\n",
              "                                                                  '#B0BEC5',\n",
              "                                                                  '#B0BEC5',\n",
              "                                                                  '#B0BEC5', 'red',\n",
              "                                                                  '#B0BEC5',\n",
              "                                                                  '#B0BEC5',\n",
              "                                                                  '#B0BEC5',\n",
              "                                                                  '#B0BEC5']]}],\n",
              "                                       'label': 'Topic 4',\n",
              "                                       'method': 'update'},\n",
              "                                      {'args': [{'marker.color': [['#B0BEC5',\n",
              "                                                                  '#B0BEC5',\n",
              "                                                                  '#B0BEC5',\n",
              "                                                                  '#B0BEC5',\n",
              "                                                                  '#B0BEC5', 'red',\n",
              "                                                                  '#B0BEC5',\n",
              "                                                                  '#B0BEC5',\n",
              "                                                                  '#B0BEC5']]}],\n",
              "                                       'label': 'Topic 5',\n",
              "                                       'method': 'update'},\n",
              "                                      {'args': [{'marker.color': [['#B0BEC5',\n",
              "                                                                  '#B0BEC5',\n",
              "                                                                  '#B0BEC5',\n",
              "                                                                  '#B0BEC5',\n",
              "                                                                  '#B0BEC5',\n",
              "                                                                  '#B0BEC5', 'red',\n",
              "                                                                  '#B0BEC5',\n",
              "                                                                  '#B0BEC5']]}],\n",
              "                                       'label': 'Topic 6',\n",
              "                                       'method': 'update'},\n",
              "                                      {'args': [{'marker.color': [['#B0BEC5',\n",
              "                                                                  '#B0BEC5',\n",
              "                                                                  '#B0BEC5',\n",
              "                                                                  '#B0BEC5',\n",
              "                                                                  '#B0BEC5',\n",
              "                                                                  '#B0BEC5',\n",
              "                                                                  '#B0BEC5', 'red',\n",
              "                                                                  '#B0BEC5']]}],\n",
              "                                       'label': 'Topic 7',\n",
              "                                       'method': 'update'},\n",
              "                                      {'args': [{'marker.color': [['#B0BEC5',\n",
              "                                                                  '#B0BEC5',\n",
              "                                                                  '#B0BEC5',\n",
              "                                                                  '#B0BEC5',\n",
              "                                                                  '#B0BEC5',\n",
              "                                                                  '#B0BEC5',\n",
              "                                                                  '#B0BEC5',\n",
              "                                                                  '#B0BEC5',\n",
              "                                                                  'red']]}],\n",
              "                                       'label': 'Topic 8',\n",
              "                                       'method': 'update'}]}],\n",
              "               'template': '...',\n",
              "               'title': {'font': {'color': 'Black', 'size': 22},\n",
              "                         'text': '<b>Intertopic Distance Map</b>',\n",
              "                         'x': 0.5,\n",
              "                         'xanchor': 'center',\n",
              "                         'y': 0.95,\n",
              "                         'yanchor': 'top'},\n",
              "               'width': 650,\n",
              "               'xaxis': {'anchor': 'y',\n",
              "                         'domain': [0.0, 1.0],\n",
              "                         'range': [-20.315373992919923, -12.83021683692932],\n",
              "                         'title': {'text': ''},\n",
              "                         'visible': False},\n",
              "               'yaxis': {'anchor': 'x',\n",
              "                         'domain': [0.0, 1.0],\n",
              "                         'range': [2.835457503795624, 9.836017417907716],\n",
              "                         'title': {'text': ''},\n",
              "                         'visible': False}}\n",
              "})"
            ]
          },
          "execution_count": 31,
          "metadata": {},
          "output_type": "execute_result"
        }
      ],
      "source": [
        "topic_model.visualize_topics()"
      ]
    },
    {
      "cell_type": "code",
      "execution_count": 32,
      "metadata": {
        "colab": {
          "base_uri": "https://localhost:8080/",
          "height": 517
        },
        "id": "B4rf8aflmeqO",
        "outputId": "d651d0c6-38c9-4376-82a9-a77e169b9902"
      },
      "outputs": [
        {
          "ename": "ValueError",
          "evalue": "Mime type rendering requires nbformat>=4.2.0 but it is not installed",
          "output_type": "error",
          "traceback": [
            "\u001b[1;31m---------------------------------------------------------------------------\u001b[0m",
            "\u001b[1;31mValueError\u001b[0m                                Traceback (most recent call last)",
            "File \u001b[1;32mc:\\Users\\bhava\\anaconda3\\envs\\dsm509\\Lib\\site-packages\\IPython\\core\\formatters.py:925\u001b[0m, in \u001b[0;36mIPythonDisplayFormatter.__call__\u001b[1;34m(self, obj)\u001b[0m\n\u001b[0;32m    923\u001b[0m method \u001b[39m=\u001b[39m get_real_method(obj, \u001b[39mself\u001b[39m\u001b[39m.\u001b[39mprint_method)\n\u001b[0;32m    924\u001b[0m \u001b[39mif\u001b[39;00m method \u001b[39mis\u001b[39;00m \u001b[39mnot\u001b[39;00m \u001b[39mNone\u001b[39;00m:\n\u001b[1;32m--> 925\u001b[0m     method()\n\u001b[0;32m    926\u001b[0m     \u001b[39mreturn\u001b[39;00m \u001b[39mTrue\u001b[39;00m\n",
            "File \u001b[1;32mc:\\Users\\bhava\\anaconda3\\envs\\dsm509\\Lib\\site-packages\\plotly\\basedatatypes.py:832\u001b[0m, in \u001b[0;36mBaseFigure._ipython_display_\u001b[1;34m(self)\u001b[0m\n\u001b[0;32m    829\u001b[0m \u001b[39mimport\u001b[39;00m \u001b[39mplotly\u001b[39;00m\u001b[39m.\u001b[39;00m\u001b[39mio\u001b[39;00m \u001b[39mas\u001b[39;00m \u001b[39mpio\u001b[39;00m\n\u001b[0;32m    831\u001b[0m \u001b[39mif\u001b[39;00m pio\u001b[39m.\u001b[39mrenderers\u001b[39m.\u001b[39mrender_on_display \u001b[39mand\u001b[39;00m pio\u001b[39m.\u001b[39mrenderers\u001b[39m.\u001b[39mdefault:\n\u001b[1;32m--> 832\u001b[0m     pio\u001b[39m.\u001b[39;49mshow(\u001b[39mself\u001b[39;49m)\n\u001b[0;32m    833\u001b[0m \u001b[39melse\u001b[39;00m:\n\u001b[0;32m    834\u001b[0m     \u001b[39mprint\u001b[39m(\u001b[39mrepr\u001b[39m(\u001b[39mself\u001b[39m))\n",
            "File \u001b[1;32mc:\\Users\\bhava\\anaconda3\\envs\\dsm509\\Lib\\site-packages\\plotly\\io\\_renderers.py:394\u001b[0m, in \u001b[0;36mshow\u001b[1;34m(fig, renderer, validate, **kwargs)\u001b[0m\n\u001b[0;32m    389\u001b[0m         \u001b[39mraise\u001b[39;00m \u001b[39mValueError\u001b[39;00m(\n\u001b[0;32m    390\u001b[0m             \u001b[39m\"\u001b[39m\u001b[39mMime type rendering requires ipython but it is not installed\u001b[39m\u001b[39m\"\u001b[39m\n\u001b[0;32m    391\u001b[0m         )\n\u001b[0;32m    393\u001b[0m     \u001b[39mif\u001b[39;00m \u001b[39mnot\u001b[39;00m nbformat \u001b[39mor\u001b[39;00m Version(nbformat\u001b[39m.\u001b[39m__version__) \u001b[39m<\u001b[39m Version(\u001b[39m\"\u001b[39m\u001b[39m4.2.0\u001b[39m\u001b[39m\"\u001b[39m):\n\u001b[1;32m--> 394\u001b[0m         \u001b[39mraise\u001b[39;00m \u001b[39mValueError\u001b[39;00m(\n\u001b[0;32m    395\u001b[0m             \u001b[39m\"\u001b[39m\u001b[39mMime type rendering requires nbformat>=4.2.0 but it is not installed\u001b[39m\u001b[39m\"\u001b[39m\n\u001b[0;32m    396\u001b[0m         )\n\u001b[0;32m    398\u001b[0m     ipython_display\u001b[39m.\u001b[39mdisplay(bundle, raw\u001b[39m=\u001b[39m\u001b[39mTrue\u001b[39;00m)\n\u001b[0;32m    400\u001b[0m \u001b[39m# external renderers\u001b[39;00m\n",
            "\u001b[1;31mValueError\u001b[0m: Mime type rendering requires nbformat>=4.2.0 but it is not installed"
          ]
        },
        {
          "data": {
            "application/vnd.plotly.v1+json": {
              "config": {
                "plotlyServerURL": "https://plot.ly"
              },
              "data": [
                {
                  "marker": {
                    "color": "#D55E00"
                  },
                  "orientation": "h",
                  "type": "bar",
                  "x": [
                    0.013656749575440998,
                    0.01448069628091833,
                    0.014676975160006038,
                    0.016886318911797822,
                    0.021324508681186665
                  ],
                  "xaxis": "x",
                  "y": [
                    "make  ",
                    "vote  ",
                    "china  ",
                    "thank  ",
                    "amp  "
                  ],
                  "yaxis": "y"
                },
                {
                  "marker": {
                    "color": "#0072B2"
                  },
                  "orientation": "h",
                  "type": "bar",
                  "x": [
                    0.0288634957483809,
                    0.04038531036098023,
                    0.09907068649174938,
                    0.11232075960755757,
                    0.3136301979973973
                  ],
                  "xaxis": "x2",
                  "y": [
                    "merry  ",
                    "christmas  ",
                    "birthday  ",
                    "happy  ",
                    "thanks  "
                  ],
                  "yaxis": "y2"
                },
                {
                  "marker": {
                    "color": "#CC79A7"
                  },
                  "orientation": "h",
                  "type": "bar",
                  "x": [
                    0.03450960044485094,
                    0.04355210009512805,
                    0.04379540791688855,
                    0.04417849719970491,
                    0.08200740415431565
                  ],
                  "xaxis": "x3",
                  "y": [
                    "melania  ",
                    "miss  ",
                    "celebrity  ",
                    "celebapprentice  ",
                    "apprentice  "
                  ],
                  "yaxis": "y3"
                },
                {
                  "marker": {
                    "color": "#E69F00"
                  },
                  "orientation": "h",
                  "type": "bar",
                  "x": [
                    0.023968529750574924,
                    0.03322224900222096,
                    0.0398345851280326,
                    0.056793743770523326,
                    0.09632528017286539
                  ],
                  "xaxis": "x4",
                  "y": [
                    "passion  ",
                    "focus  ",
                    "success  ",
                    "think  ",
                    "entrepreneurs  "
                  ],
                  "yaxis": "y4"
                },
                {
                  "marker": {
                    "color": "#56B4E9"
                  },
                  "orientation": "h",
                  "type": "bar",
                  "x": [
                    0.017920071387336207,
                    0.020525890432343163,
                    0.020785720311300243,
                    0.022822116127165063,
                    0.26577300946926935
                  ],
                  "xaxis": "x5",
                  "y": [
                    "law  ",
                    "thank  ",
                    "big  ",
                    "order  ",
                    "amp  "
                  ],
                  "yaxis": "y5"
                },
                {
                  "marker": {
                    "color": "#009E73"
                  },
                  "orientation": "h",
                  "type": "bar",
                  "x": [
                    0.039184475626963554,
                    0.040400258429047806,
                    0.14131392997004436,
                    0.16935620714960475,
                    0.2046283627333394
                  ],
                  "xaxis": "x6",
                  "y": [
                    "birds  ",
                    "windmills  ",
                    "turbines  ",
                    "warming  ",
                    "wind  "
                  ],
                  "yaxis": "y6"
                },
                {
                  "marker": {
                    "color": "#F0E442"
                  },
                  "orientation": "h",
                  "type": "bar",
                  "x": [
                    0.04261816156802776,
                    0.049154769368457134,
                    0.09365579166354761,
                    0.34854022438054844,
                    0.49718322416631977
                  ],
                  "xaxis": "x7",
                  "y": [
                    "schneiderman  ",
                    "continues  ",
                    "draining  ",
                    "swamp  ",
                    "hunt  "
                  ],
                  "yaxis": "y7"
                },
                {
                  "marker": {
                    "color": "#D55E00"
                  },
                  "orientation": "h",
                  "type": "bar",
                  "x": [
                    0.149834431716826,
                    0.15486983517124414,
                    0.1707693916966973,
                    0.27018360907079403,
                    0.28672091774025343
                  ],
                  "xaxis": "x8",
                  "y": [
                    "samsung  ",
                    "mobile  ",
                    "larger  ",
                    "apple  ",
                    "screen  "
                  ],
                  "yaxis": "y8"
                }
              ],
              "layout": {
                "annotations": [
                  {
                    "font": {
                      "size": 16
                    },
                    "showarrow": false,
                    "text": "Topic 0",
                    "x": 0.0875,
                    "xanchor": "center",
                    "xref": "paper",
                    "y": 1,
                    "yanchor": "bottom",
                    "yref": "paper"
                  },
                  {
                    "font": {
                      "size": 16
                    },
                    "showarrow": false,
                    "text": "Topic 1",
                    "x": 0.36250000000000004,
                    "xanchor": "center",
                    "xref": "paper",
                    "y": 1,
                    "yanchor": "bottom",
                    "yref": "paper"
                  },
                  {
                    "font": {
                      "size": 16
                    },
                    "showarrow": false,
                    "text": "Topic 2",
                    "x": 0.6375000000000001,
                    "xanchor": "center",
                    "xref": "paper",
                    "y": 1,
                    "yanchor": "bottom",
                    "yref": "paper"
                  },
                  {
                    "font": {
                      "size": 16
                    },
                    "showarrow": false,
                    "text": "Topic 3",
                    "x": 0.9125,
                    "xanchor": "center",
                    "xref": "paper",
                    "y": 1,
                    "yanchor": "bottom",
                    "yref": "paper"
                  },
                  {
                    "font": {
                      "size": 16
                    },
                    "showarrow": false,
                    "text": "Topic 4",
                    "x": 0.0875,
                    "xanchor": "center",
                    "xref": "paper",
                    "y": 0.4,
                    "yanchor": "bottom",
                    "yref": "paper"
                  },
                  {
                    "font": {
                      "size": 16
                    },
                    "showarrow": false,
                    "text": "Topic 5",
                    "x": 0.36250000000000004,
                    "xanchor": "center",
                    "xref": "paper",
                    "y": 0.4,
                    "yanchor": "bottom",
                    "yref": "paper"
                  },
                  {
                    "font": {
                      "size": 16
                    },
                    "showarrow": false,
                    "text": "Topic 6",
                    "x": 0.6375000000000001,
                    "xanchor": "center",
                    "xref": "paper",
                    "y": 0.4,
                    "yanchor": "bottom",
                    "yref": "paper"
                  },
                  {
                    "font": {
                      "size": 16
                    },
                    "showarrow": false,
                    "text": "Topic 7",
                    "x": 0.9125,
                    "xanchor": "center",
                    "xref": "paper",
                    "y": 0.4,
                    "yanchor": "bottom",
                    "yref": "paper"
                  }
                ],
                "height": 500,
                "hoverlabel": {
                  "bgcolor": "white",
                  "font": {
                    "family": "Rockwell",
                    "size": 16
                  }
                },
                "showlegend": false,
                "template": {
                  "data": {
                    "bar": [
                      {
                        "error_x": {
                          "color": "#2a3f5f"
                        },
                        "error_y": {
                          "color": "#2a3f5f"
                        },
                        "marker": {
                          "line": {
                            "color": "white",
                            "width": 0.5
                          },
                          "pattern": {
                            "fillmode": "overlay",
                            "size": 10,
                            "solidity": 0.2
                          }
                        },
                        "type": "bar"
                      }
                    ],
                    "barpolar": [
                      {
                        "marker": {
                          "line": {
                            "color": "white",
                            "width": 0.5
                          },
                          "pattern": {
                            "fillmode": "overlay",
                            "size": 10,
                            "solidity": 0.2
                          }
                        },
                        "type": "barpolar"
                      }
                    ],
                    "carpet": [
                      {
                        "aaxis": {
                          "endlinecolor": "#2a3f5f",
                          "gridcolor": "#C8D4E3",
                          "linecolor": "#C8D4E3",
                          "minorgridcolor": "#C8D4E3",
                          "startlinecolor": "#2a3f5f"
                        },
                        "baxis": {
                          "endlinecolor": "#2a3f5f",
                          "gridcolor": "#C8D4E3",
                          "linecolor": "#C8D4E3",
                          "minorgridcolor": "#C8D4E3",
                          "startlinecolor": "#2a3f5f"
                        },
                        "type": "carpet"
                      }
                    ],
                    "choropleth": [
                      {
                        "colorbar": {
                          "outlinewidth": 0,
                          "ticks": ""
                        },
                        "type": "choropleth"
                      }
                    ],
                    "contour": [
                      {
                        "colorbar": {
                          "outlinewidth": 0,
                          "ticks": ""
                        },
                        "colorscale": [
                          [
                            0,
                            "#0d0887"
                          ],
                          [
                            0.1111111111111111,
                            "#46039f"
                          ],
                          [
                            0.2222222222222222,
                            "#7201a8"
                          ],
                          [
                            0.3333333333333333,
                            "#9c179e"
                          ],
                          [
                            0.4444444444444444,
                            "#bd3786"
                          ],
                          [
                            0.5555555555555556,
                            "#d8576b"
                          ],
                          [
                            0.6666666666666666,
                            "#ed7953"
                          ],
                          [
                            0.7777777777777778,
                            "#fb9f3a"
                          ],
                          [
                            0.8888888888888888,
                            "#fdca26"
                          ],
                          [
                            1,
                            "#f0f921"
                          ]
                        ],
                        "type": "contour"
                      }
                    ],
                    "contourcarpet": [
                      {
                        "colorbar": {
                          "outlinewidth": 0,
                          "ticks": ""
                        },
                        "type": "contourcarpet"
                      }
                    ],
                    "heatmap": [
                      {
                        "colorbar": {
                          "outlinewidth": 0,
                          "ticks": ""
                        },
                        "colorscale": [
                          [
                            0,
                            "#0d0887"
                          ],
                          [
                            0.1111111111111111,
                            "#46039f"
                          ],
                          [
                            0.2222222222222222,
                            "#7201a8"
                          ],
                          [
                            0.3333333333333333,
                            "#9c179e"
                          ],
                          [
                            0.4444444444444444,
                            "#bd3786"
                          ],
                          [
                            0.5555555555555556,
                            "#d8576b"
                          ],
                          [
                            0.6666666666666666,
                            "#ed7953"
                          ],
                          [
                            0.7777777777777778,
                            "#fb9f3a"
                          ],
                          [
                            0.8888888888888888,
                            "#fdca26"
                          ],
                          [
                            1,
                            "#f0f921"
                          ]
                        ],
                        "type": "heatmap"
                      }
                    ],
                    "heatmapgl": [
                      {
                        "colorbar": {
                          "outlinewidth": 0,
                          "ticks": ""
                        },
                        "colorscale": [
                          [
                            0,
                            "#0d0887"
                          ],
                          [
                            0.1111111111111111,
                            "#46039f"
                          ],
                          [
                            0.2222222222222222,
                            "#7201a8"
                          ],
                          [
                            0.3333333333333333,
                            "#9c179e"
                          ],
                          [
                            0.4444444444444444,
                            "#bd3786"
                          ],
                          [
                            0.5555555555555556,
                            "#d8576b"
                          ],
                          [
                            0.6666666666666666,
                            "#ed7953"
                          ],
                          [
                            0.7777777777777778,
                            "#fb9f3a"
                          ],
                          [
                            0.8888888888888888,
                            "#fdca26"
                          ],
                          [
                            1,
                            "#f0f921"
                          ]
                        ],
                        "type": "heatmapgl"
                      }
                    ],
                    "histogram": [
                      {
                        "marker": {
                          "pattern": {
                            "fillmode": "overlay",
                            "size": 10,
                            "solidity": 0.2
                          }
                        },
                        "type": "histogram"
                      }
                    ],
                    "histogram2d": [
                      {
                        "colorbar": {
                          "outlinewidth": 0,
                          "ticks": ""
                        },
                        "colorscale": [
                          [
                            0,
                            "#0d0887"
                          ],
                          [
                            0.1111111111111111,
                            "#46039f"
                          ],
                          [
                            0.2222222222222222,
                            "#7201a8"
                          ],
                          [
                            0.3333333333333333,
                            "#9c179e"
                          ],
                          [
                            0.4444444444444444,
                            "#bd3786"
                          ],
                          [
                            0.5555555555555556,
                            "#d8576b"
                          ],
                          [
                            0.6666666666666666,
                            "#ed7953"
                          ],
                          [
                            0.7777777777777778,
                            "#fb9f3a"
                          ],
                          [
                            0.8888888888888888,
                            "#fdca26"
                          ],
                          [
                            1,
                            "#f0f921"
                          ]
                        ],
                        "type": "histogram2d"
                      }
                    ],
                    "histogram2dcontour": [
                      {
                        "colorbar": {
                          "outlinewidth": 0,
                          "ticks": ""
                        },
                        "colorscale": [
                          [
                            0,
                            "#0d0887"
                          ],
                          [
                            0.1111111111111111,
                            "#46039f"
                          ],
                          [
                            0.2222222222222222,
                            "#7201a8"
                          ],
                          [
                            0.3333333333333333,
                            "#9c179e"
                          ],
                          [
                            0.4444444444444444,
                            "#bd3786"
                          ],
                          [
                            0.5555555555555556,
                            "#d8576b"
                          ],
                          [
                            0.6666666666666666,
                            "#ed7953"
                          ],
                          [
                            0.7777777777777778,
                            "#fb9f3a"
                          ],
                          [
                            0.8888888888888888,
                            "#fdca26"
                          ],
                          [
                            1,
                            "#f0f921"
                          ]
                        ],
                        "type": "histogram2dcontour"
                      }
                    ],
                    "mesh3d": [
                      {
                        "colorbar": {
                          "outlinewidth": 0,
                          "ticks": ""
                        },
                        "type": "mesh3d"
                      }
                    ],
                    "parcoords": [
                      {
                        "line": {
                          "colorbar": {
                            "outlinewidth": 0,
                            "ticks": ""
                          }
                        },
                        "type": "parcoords"
                      }
                    ],
                    "pie": [
                      {
                        "automargin": true,
                        "type": "pie"
                      }
                    ],
                    "scatter": [
                      {
                        "fillpattern": {
                          "fillmode": "overlay",
                          "size": 10,
                          "solidity": 0.2
                        },
                        "type": "scatter"
                      }
                    ],
                    "scatter3d": [
                      {
                        "line": {
                          "colorbar": {
                            "outlinewidth": 0,
                            "ticks": ""
                          }
                        },
                        "marker": {
                          "colorbar": {
                            "outlinewidth": 0,
                            "ticks": ""
                          }
                        },
                        "type": "scatter3d"
                      }
                    ],
                    "scattercarpet": [
                      {
                        "marker": {
                          "colorbar": {
                            "outlinewidth": 0,
                            "ticks": ""
                          }
                        },
                        "type": "scattercarpet"
                      }
                    ],
                    "scattergeo": [
                      {
                        "marker": {
                          "colorbar": {
                            "outlinewidth": 0,
                            "ticks": ""
                          }
                        },
                        "type": "scattergeo"
                      }
                    ],
                    "scattergl": [
                      {
                        "marker": {
                          "colorbar": {
                            "outlinewidth": 0,
                            "ticks": ""
                          }
                        },
                        "type": "scattergl"
                      }
                    ],
                    "scattermapbox": [
                      {
                        "marker": {
                          "colorbar": {
                            "outlinewidth": 0,
                            "ticks": ""
                          }
                        },
                        "type": "scattermapbox"
                      }
                    ],
                    "scatterpolar": [
                      {
                        "marker": {
                          "colorbar": {
                            "outlinewidth": 0,
                            "ticks": ""
                          }
                        },
                        "type": "scatterpolar"
                      }
                    ],
                    "scatterpolargl": [
                      {
                        "marker": {
                          "colorbar": {
                            "outlinewidth": 0,
                            "ticks": ""
                          }
                        },
                        "type": "scatterpolargl"
                      }
                    ],
                    "scatterternary": [
                      {
                        "marker": {
                          "colorbar": {
                            "outlinewidth": 0,
                            "ticks": ""
                          }
                        },
                        "type": "scatterternary"
                      }
                    ],
                    "surface": [
                      {
                        "colorbar": {
                          "outlinewidth": 0,
                          "ticks": ""
                        },
                        "colorscale": [
                          [
                            0,
                            "#0d0887"
                          ],
                          [
                            0.1111111111111111,
                            "#46039f"
                          ],
                          [
                            0.2222222222222222,
                            "#7201a8"
                          ],
                          [
                            0.3333333333333333,
                            "#9c179e"
                          ],
                          [
                            0.4444444444444444,
                            "#bd3786"
                          ],
                          [
                            0.5555555555555556,
                            "#d8576b"
                          ],
                          [
                            0.6666666666666666,
                            "#ed7953"
                          ],
                          [
                            0.7777777777777778,
                            "#fb9f3a"
                          ],
                          [
                            0.8888888888888888,
                            "#fdca26"
                          ],
                          [
                            1,
                            "#f0f921"
                          ]
                        ],
                        "type": "surface"
                      }
                    ],
                    "table": [
                      {
                        "cells": {
                          "fill": {
                            "color": "#EBF0F8"
                          },
                          "line": {
                            "color": "white"
                          }
                        },
                        "header": {
                          "fill": {
                            "color": "#C8D4E3"
                          },
                          "line": {
                            "color": "white"
                          }
                        },
                        "type": "table"
                      }
                    ]
                  },
                  "layout": {
                    "annotationdefaults": {
                      "arrowcolor": "#2a3f5f",
                      "arrowhead": 0,
                      "arrowwidth": 1
                    },
                    "autotypenumbers": "strict",
                    "coloraxis": {
                      "colorbar": {
                        "outlinewidth": 0,
                        "ticks": ""
                      }
                    },
                    "colorscale": {
                      "diverging": [
                        [
                          0,
                          "#8e0152"
                        ],
                        [
                          0.1,
                          "#c51b7d"
                        ],
                        [
                          0.2,
                          "#de77ae"
                        ],
                        [
                          0.3,
                          "#f1b6da"
                        ],
                        [
                          0.4,
                          "#fde0ef"
                        ],
                        [
                          0.5,
                          "#f7f7f7"
                        ],
                        [
                          0.6,
                          "#e6f5d0"
                        ],
                        [
                          0.7,
                          "#b8e186"
                        ],
                        [
                          0.8,
                          "#7fbc41"
                        ],
                        [
                          0.9,
                          "#4d9221"
                        ],
                        [
                          1,
                          "#276419"
                        ]
                      ],
                      "sequential": [
                        [
                          0,
                          "#0d0887"
                        ],
                        [
                          0.1111111111111111,
                          "#46039f"
                        ],
                        [
                          0.2222222222222222,
                          "#7201a8"
                        ],
                        [
                          0.3333333333333333,
                          "#9c179e"
                        ],
                        [
                          0.4444444444444444,
                          "#bd3786"
                        ],
                        [
                          0.5555555555555556,
                          "#d8576b"
                        ],
                        [
                          0.6666666666666666,
                          "#ed7953"
                        ],
                        [
                          0.7777777777777778,
                          "#fb9f3a"
                        ],
                        [
                          0.8888888888888888,
                          "#fdca26"
                        ],
                        [
                          1,
                          "#f0f921"
                        ]
                      ],
                      "sequentialminus": [
                        [
                          0,
                          "#0d0887"
                        ],
                        [
                          0.1111111111111111,
                          "#46039f"
                        ],
                        [
                          0.2222222222222222,
                          "#7201a8"
                        ],
                        [
                          0.3333333333333333,
                          "#9c179e"
                        ],
                        [
                          0.4444444444444444,
                          "#bd3786"
                        ],
                        [
                          0.5555555555555556,
                          "#d8576b"
                        ],
                        [
                          0.6666666666666666,
                          "#ed7953"
                        ],
                        [
                          0.7777777777777778,
                          "#fb9f3a"
                        ],
                        [
                          0.8888888888888888,
                          "#fdca26"
                        ],
                        [
                          1,
                          "#f0f921"
                        ]
                      ]
                    },
                    "colorway": [
                      "#636efa",
                      "#EF553B",
                      "#00cc96",
                      "#ab63fa",
                      "#FFA15A",
                      "#19d3f3",
                      "#FF6692",
                      "#B6E880",
                      "#FF97FF",
                      "#FECB52"
                    ],
                    "font": {
                      "color": "#2a3f5f"
                    },
                    "geo": {
                      "bgcolor": "white",
                      "lakecolor": "white",
                      "landcolor": "white",
                      "showlakes": true,
                      "showland": true,
                      "subunitcolor": "#C8D4E3"
                    },
                    "hoverlabel": {
                      "align": "left"
                    },
                    "hovermode": "closest",
                    "mapbox": {
                      "style": "light"
                    },
                    "paper_bgcolor": "white",
                    "plot_bgcolor": "white",
                    "polar": {
                      "angularaxis": {
                        "gridcolor": "#EBF0F8",
                        "linecolor": "#EBF0F8",
                        "ticks": ""
                      },
                      "bgcolor": "white",
                      "radialaxis": {
                        "gridcolor": "#EBF0F8",
                        "linecolor": "#EBF0F8",
                        "ticks": ""
                      }
                    },
                    "scene": {
                      "xaxis": {
                        "backgroundcolor": "white",
                        "gridcolor": "#DFE8F3",
                        "gridwidth": 2,
                        "linecolor": "#EBF0F8",
                        "showbackground": true,
                        "ticks": "",
                        "zerolinecolor": "#EBF0F8"
                      },
                      "yaxis": {
                        "backgroundcolor": "white",
                        "gridcolor": "#DFE8F3",
                        "gridwidth": 2,
                        "linecolor": "#EBF0F8",
                        "showbackground": true,
                        "ticks": "",
                        "zerolinecolor": "#EBF0F8"
                      },
                      "zaxis": {
                        "backgroundcolor": "white",
                        "gridcolor": "#DFE8F3",
                        "gridwidth": 2,
                        "linecolor": "#EBF0F8",
                        "showbackground": true,
                        "ticks": "",
                        "zerolinecolor": "#EBF0F8"
                      }
                    },
                    "shapedefaults": {
                      "line": {
                        "color": "#2a3f5f"
                      }
                    },
                    "ternary": {
                      "aaxis": {
                        "gridcolor": "#DFE8F3",
                        "linecolor": "#A2B1C6",
                        "ticks": ""
                      },
                      "baxis": {
                        "gridcolor": "#DFE8F3",
                        "linecolor": "#A2B1C6",
                        "ticks": ""
                      },
                      "bgcolor": "white",
                      "caxis": {
                        "gridcolor": "#DFE8F3",
                        "linecolor": "#A2B1C6",
                        "ticks": ""
                      }
                    },
                    "title": {
                      "x": 0.05
                    },
                    "xaxis": {
                      "automargin": true,
                      "gridcolor": "#EBF0F8",
                      "linecolor": "#EBF0F8",
                      "ticks": "",
                      "title": {
                        "standoff": 15
                      },
                      "zerolinecolor": "#EBF0F8",
                      "zerolinewidth": 2
                    },
                    "yaxis": {
                      "automargin": true,
                      "gridcolor": "#EBF0F8",
                      "linecolor": "#EBF0F8",
                      "ticks": "",
                      "title": {
                        "standoff": 15
                      },
                      "zerolinecolor": "#EBF0F8",
                      "zerolinewidth": 2
                    }
                  }
                },
                "title": {
                  "font": {
                    "color": "Black",
                    "size": 22
                  },
                  "text": "Topic Word Scores",
                  "x": 0.5,
                  "xanchor": "center",
                  "yanchor": "top"
                },
                "width": 1000,
                "xaxis": {
                  "anchor": "y",
                  "domain": [
                    0,
                    0.175
                  ],
                  "showgrid": true
                },
                "xaxis2": {
                  "anchor": "y2",
                  "domain": [
                    0.275,
                    0.45
                  ],
                  "showgrid": true
                },
                "xaxis3": {
                  "anchor": "y3",
                  "domain": [
                    0.55,
                    0.7250000000000001
                  ],
                  "showgrid": true
                },
                "xaxis4": {
                  "anchor": "y4",
                  "domain": [
                    0.825,
                    1
                  ],
                  "showgrid": true
                },
                "xaxis5": {
                  "anchor": "y5",
                  "domain": [
                    0,
                    0.175
                  ],
                  "showgrid": true
                },
                "xaxis6": {
                  "anchor": "y6",
                  "domain": [
                    0.275,
                    0.45
                  ],
                  "showgrid": true
                },
                "xaxis7": {
                  "anchor": "y7",
                  "domain": [
                    0.55,
                    0.7250000000000001
                  ],
                  "showgrid": true
                },
                "xaxis8": {
                  "anchor": "y8",
                  "domain": [
                    0.825,
                    1
                  ],
                  "showgrid": true
                },
                "yaxis": {
                  "anchor": "x",
                  "domain": [
                    0.6000000000000001,
                    1
                  ],
                  "showgrid": true
                },
                "yaxis2": {
                  "anchor": "x2",
                  "domain": [
                    0.6000000000000001,
                    1
                  ],
                  "showgrid": true
                },
                "yaxis3": {
                  "anchor": "x3",
                  "domain": [
                    0.6000000000000001,
                    1
                  ],
                  "showgrid": true
                },
                "yaxis4": {
                  "anchor": "x4",
                  "domain": [
                    0.6000000000000001,
                    1
                  ],
                  "showgrid": true
                },
                "yaxis5": {
                  "anchor": "x5",
                  "domain": [
                    0,
                    0.4
                  ],
                  "showgrid": true
                },
                "yaxis6": {
                  "anchor": "x6",
                  "domain": [
                    0,
                    0.4
                  ],
                  "showgrid": true
                },
                "yaxis7": {
                  "anchor": "x7",
                  "domain": [
                    0,
                    0.4
                  ],
                  "showgrid": true
                },
                "yaxis8": {
                  "anchor": "x8",
                  "domain": [
                    0,
                    0.4
                  ],
                  "showgrid": true
                }
              }
            },
            "text/html": [
              "<div>                        <script type=\"text/javascript\">window.PlotlyConfig = {MathJaxConfig: 'local'};</script>\n",
              "        <script charset=\"utf-8\" src=\"https://cdn.plot.ly/plotly-2.29.1.min.js\"></script>                <div id=\"865739f2-a327-462b-8760-db80dbfdc2cd\" class=\"plotly-graph-div\" style=\"height:500px; width:1000px;\"></div>            <script type=\"text/javascript\">                                    window.PLOTLYENV=window.PLOTLYENV || {};                                    if (document.getElementById(\"865739f2-a327-462b-8760-db80dbfdc2cd\")) {                    Plotly.newPlot(                        \"865739f2-a327-462b-8760-db80dbfdc2cd\",                        [{\"marker\":{\"color\":\"#D55E00\"},\"orientation\":\"h\",\"x\":[0.013656749575440998,0.01448069628091833,0.014676975160006038,0.016886318911797822,0.021324508681186665],\"y\":[\"make  \",\"vote  \",\"china  \",\"thank  \",\"amp  \"],\"type\":\"bar\",\"xaxis\":\"x\",\"yaxis\":\"y\"},{\"marker\":{\"color\":\"#0072B2\"},\"orientation\":\"h\",\"x\":[0.0288634957483809,0.04038531036098023,0.09907068649174938,0.11232075960755757,0.3136301979973973],\"y\":[\"merry  \",\"christmas  \",\"birthday  \",\"happy  \",\"thanks  \"],\"type\":\"bar\",\"xaxis\":\"x2\",\"yaxis\":\"y2\"},{\"marker\":{\"color\":\"#CC79A7\"},\"orientation\":\"h\",\"x\":[0.03450960044485094,0.04355210009512805,0.04379540791688855,0.04417849719970491,0.08200740415431565],\"y\":[\"melania  \",\"miss  \",\"celebrity  \",\"celebapprentice  \",\"apprentice  \"],\"type\":\"bar\",\"xaxis\":\"x3\",\"yaxis\":\"y3\"},{\"marker\":{\"color\":\"#E69F00\"},\"orientation\":\"h\",\"x\":[0.023968529750574924,0.03322224900222096,0.0398345851280326,0.056793743770523326,0.09632528017286539],\"y\":[\"passion  \",\"focus  \",\"success  \",\"think  \",\"entrepreneurs  \"],\"type\":\"bar\",\"xaxis\":\"x4\",\"yaxis\":\"y4\"},{\"marker\":{\"color\":\"#56B4E9\"},\"orientation\":\"h\",\"x\":[0.017920071387336207,0.020525890432343163,0.020785720311300243,0.022822116127165063,0.26577300946926935],\"y\":[\"law  \",\"thank  \",\"big  \",\"order  \",\"amp  \"],\"type\":\"bar\",\"xaxis\":\"x5\",\"yaxis\":\"y5\"},{\"marker\":{\"color\":\"#009E73\"},\"orientation\":\"h\",\"x\":[0.039184475626963554,0.040400258429047806,0.14131392997004436,0.16935620714960475,0.2046283627333394],\"y\":[\"birds  \",\"windmills  \",\"turbines  \",\"warming  \",\"wind  \"],\"type\":\"bar\",\"xaxis\":\"x6\",\"yaxis\":\"y6\"},{\"marker\":{\"color\":\"#F0E442\"},\"orientation\":\"h\",\"x\":[0.04261816156802776,0.049154769368457134,0.09365579166354761,0.34854022438054844,0.49718322416631977],\"y\":[\"schneiderman  \",\"continues  \",\"draining  \",\"swamp  \",\"hunt  \"],\"type\":\"bar\",\"xaxis\":\"x7\",\"yaxis\":\"y7\"},{\"marker\":{\"color\":\"#D55E00\"},\"orientation\":\"h\",\"x\":[0.149834431716826,0.15486983517124414,0.1707693916966973,0.27018360907079403,0.28672091774025343],\"y\":[\"samsung  \",\"mobile  \",\"larger  \",\"apple  \",\"screen  \"],\"type\":\"bar\",\"xaxis\":\"x8\",\"yaxis\":\"y8\"}],                        {\"template\":{\"data\":{\"barpolar\":[{\"marker\":{\"line\":{\"color\":\"white\",\"width\":0.5},\"pattern\":{\"fillmode\":\"overlay\",\"size\":10,\"solidity\":0.2}},\"type\":\"barpolar\"}],\"bar\":[{\"error_x\":{\"color\":\"#2a3f5f\"},\"error_y\":{\"color\":\"#2a3f5f\"},\"marker\":{\"line\":{\"color\":\"white\",\"width\":0.5},\"pattern\":{\"fillmode\":\"overlay\",\"size\":10,\"solidity\":0.2}},\"type\":\"bar\"}],\"carpet\":[{\"aaxis\":{\"endlinecolor\":\"#2a3f5f\",\"gridcolor\":\"#C8D4E3\",\"linecolor\":\"#C8D4E3\",\"minorgridcolor\":\"#C8D4E3\",\"startlinecolor\":\"#2a3f5f\"},\"baxis\":{\"endlinecolor\":\"#2a3f5f\",\"gridcolor\":\"#C8D4E3\",\"linecolor\":\"#C8D4E3\",\"minorgridcolor\":\"#C8D4E3\",\"startlinecolor\":\"#2a3f5f\"},\"type\":\"carpet\"}],\"choropleth\":[{\"colorbar\":{\"outlinewidth\":0,\"ticks\":\"\"},\"type\":\"choropleth\"}],\"contourcarpet\":[{\"colorbar\":{\"outlinewidth\":0,\"ticks\":\"\"},\"type\":\"contourcarpet\"}],\"contour\":[{\"colorbar\":{\"outlinewidth\":0,\"ticks\":\"\"},\"colorscale\":[[0.0,\"#0d0887\"],[0.1111111111111111,\"#46039f\"],[0.2222222222222222,\"#7201a8\"],[0.3333333333333333,\"#9c179e\"],[0.4444444444444444,\"#bd3786\"],[0.5555555555555556,\"#d8576b\"],[0.6666666666666666,\"#ed7953\"],[0.7777777777777778,\"#fb9f3a\"],[0.8888888888888888,\"#fdca26\"],[1.0,\"#f0f921\"]],\"type\":\"contour\"}],\"heatmapgl\":[{\"colorbar\":{\"outlinewidth\":0,\"ticks\":\"\"},\"colorscale\":[[0.0,\"#0d0887\"],[0.1111111111111111,\"#46039f\"],[0.2222222222222222,\"#7201a8\"],[0.3333333333333333,\"#9c179e\"],[0.4444444444444444,\"#bd3786\"],[0.5555555555555556,\"#d8576b\"],[0.6666666666666666,\"#ed7953\"],[0.7777777777777778,\"#fb9f3a\"],[0.8888888888888888,\"#fdca26\"],[1.0,\"#f0f921\"]],\"type\":\"heatmapgl\"}],\"heatmap\":[{\"colorbar\":{\"outlinewidth\":0,\"ticks\":\"\"},\"colorscale\":[[0.0,\"#0d0887\"],[0.1111111111111111,\"#46039f\"],[0.2222222222222222,\"#7201a8\"],[0.3333333333333333,\"#9c179e\"],[0.4444444444444444,\"#bd3786\"],[0.5555555555555556,\"#d8576b\"],[0.6666666666666666,\"#ed7953\"],[0.7777777777777778,\"#fb9f3a\"],[0.8888888888888888,\"#fdca26\"],[1.0,\"#f0f921\"]],\"type\":\"heatmap\"}],\"histogram2dcontour\":[{\"colorbar\":{\"outlinewidth\":0,\"ticks\":\"\"},\"colorscale\":[[0.0,\"#0d0887\"],[0.1111111111111111,\"#46039f\"],[0.2222222222222222,\"#7201a8\"],[0.3333333333333333,\"#9c179e\"],[0.4444444444444444,\"#bd3786\"],[0.5555555555555556,\"#d8576b\"],[0.6666666666666666,\"#ed7953\"],[0.7777777777777778,\"#fb9f3a\"],[0.8888888888888888,\"#fdca26\"],[1.0,\"#f0f921\"]],\"type\":\"histogram2dcontour\"}],\"histogram2d\":[{\"colorbar\":{\"outlinewidth\":0,\"ticks\":\"\"},\"colorscale\":[[0.0,\"#0d0887\"],[0.1111111111111111,\"#46039f\"],[0.2222222222222222,\"#7201a8\"],[0.3333333333333333,\"#9c179e\"],[0.4444444444444444,\"#bd3786\"],[0.5555555555555556,\"#d8576b\"],[0.6666666666666666,\"#ed7953\"],[0.7777777777777778,\"#fb9f3a\"],[0.8888888888888888,\"#fdca26\"],[1.0,\"#f0f921\"]],\"type\":\"histogram2d\"}],\"histogram\":[{\"marker\":{\"pattern\":{\"fillmode\":\"overlay\",\"size\":10,\"solidity\":0.2}},\"type\":\"histogram\"}],\"mesh3d\":[{\"colorbar\":{\"outlinewidth\":0,\"ticks\":\"\"},\"type\":\"mesh3d\"}],\"parcoords\":[{\"line\":{\"colorbar\":{\"outlinewidth\":0,\"ticks\":\"\"}},\"type\":\"parcoords\"}],\"pie\":[{\"automargin\":true,\"type\":\"pie\"}],\"scatter3d\":[{\"line\":{\"colorbar\":{\"outlinewidth\":0,\"ticks\":\"\"}},\"marker\":{\"colorbar\":{\"outlinewidth\":0,\"ticks\":\"\"}},\"type\":\"scatter3d\"}],\"scattercarpet\":[{\"marker\":{\"colorbar\":{\"outlinewidth\":0,\"ticks\":\"\"}},\"type\":\"scattercarpet\"}],\"scattergeo\":[{\"marker\":{\"colorbar\":{\"outlinewidth\":0,\"ticks\":\"\"}},\"type\":\"scattergeo\"}],\"scattergl\":[{\"marker\":{\"colorbar\":{\"outlinewidth\":0,\"ticks\":\"\"}},\"type\":\"scattergl\"}],\"scattermapbox\":[{\"marker\":{\"colorbar\":{\"outlinewidth\":0,\"ticks\":\"\"}},\"type\":\"scattermapbox\"}],\"scatterpolargl\":[{\"marker\":{\"colorbar\":{\"outlinewidth\":0,\"ticks\":\"\"}},\"type\":\"scatterpolargl\"}],\"scatterpolar\":[{\"marker\":{\"colorbar\":{\"outlinewidth\":0,\"ticks\":\"\"}},\"type\":\"scatterpolar\"}],\"scatter\":[{\"fillpattern\":{\"fillmode\":\"overlay\",\"size\":10,\"solidity\":0.2},\"type\":\"scatter\"}],\"scatterternary\":[{\"marker\":{\"colorbar\":{\"outlinewidth\":0,\"ticks\":\"\"}},\"type\":\"scatterternary\"}],\"surface\":[{\"colorbar\":{\"outlinewidth\":0,\"ticks\":\"\"},\"colorscale\":[[0.0,\"#0d0887\"],[0.1111111111111111,\"#46039f\"],[0.2222222222222222,\"#7201a8\"],[0.3333333333333333,\"#9c179e\"],[0.4444444444444444,\"#bd3786\"],[0.5555555555555556,\"#d8576b\"],[0.6666666666666666,\"#ed7953\"],[0.7777777777777778,\"#fb9f3a\"],[0.8888888888888888,\"#fdca26\"],[1.0,\"#f0f921\"]],\"type\":\"surface\"}],\"table\":[{\"cells\":{\"fill\":{\"color\":\"#EBF0F8\"},\"line\":{\"color\":\"white\"}},\"header\":{\"fill\":{\"color\":\"#C8D4E3\"},\"line\":{\"color\":\"white\"}},\"type\":\"table\"}]},\"layout\":{\"annotationdefaults\":{\"arrowcolor\":\"#2a3f5f\",\"arrowhead\":0,\"arrowwidth\":1},\"autotypenumbers\":\"strict\",\"coloraxis\":{\"colorbar\":{\"outlinewidth\":0,\"ticks\":\"\"}},\"colorscale\":{\"diverging\":[[0,\"#8e0152\"],[0.1,\"#c51b7d\"],[0.2,\"#de77ae\"],[0.3,\"#f1b6da\"],[0.4,\"#fde0ef\"],[0.5,\"#f7f7f7\"],[0.6,\"#e6f5d0\"],[0.7,\"#b8e186\"],[0.8,\"#7fbc41\"],[0.9,\"#4d9221\"],[1,\"#276419\"]],\"sequential\":[[0.0,\"#0d0887\"],[0.1111111111111111,\"#46039f\"],[0.2222222222222222,\"#7201a8\"],[0.3333333333333333,\"#9c179e\"],[0.4444444444444444,\"#bd3786\"],[0.5555555555555556,\"#d8576b\"],[0.6666666666666666,\"#ed7953\"],[0.7777777777777778,\"#fb9f3a\"],[0.8888888888888888,\"#fdca26\"],[1.0,\"#f0f921\"]],\"sequentialminus\":[[0.0,\"#0d0887\"],[0.1111111111111111,\"#46039f\"],[0.2222222222222222,\"#7201a8\"],[0.3333333333333333,\"#9c179e\"],[0.4444444444444444,\"#bd3786\"],[0.5555555555555556,\"#d8576b\"],[0.6666666666666666,\"#ed7953\"],[0.7777777777777778,\"#fb9f3a\"],[0.8888888888888888,\"#fdca26\"],[1.0,\"#f0f921\"]]},\"colorway\":[\"#636efa\",\"#EF553B\",\"#00cc96\",\"#ab63fa\",\"#FFA15A\",\"#19d3f3\",\"#FF6692\",\"#B6E880\",\"#FF97FF\",\"#FECB52\"],\"font\":{\"color\":\"#2a3f5f\"},\"geo\":{\"bgcolor\":\"white\",\"lakecolor\":\"white\",\"landcolor\":\"white\",\"showlakes\":true,\"showland\":true,\"subunitcolor\":\"#C8D4E3\"},\"hoverlabel\":{\"align\":\"left\"},\"hovermode\":\"closest\",\"mapbox\":{\"style\":\"light\"},\"paper_bgcolor\":\"white\",\"plot_bgcolor\":\"white\",\"polar\":{\"angularaxis\":{\"gridcolor\":\"#EBF0F8\",\"linecolor\":\"#EBF0F8\",\"ticks\":\"\"},\"bgcolor\":\"white\",\"radialaxis\":{\"gridcolor\":\"#EBF0F8\",\"linecolor\":\"#EBF0F8\",\"ticks\":\"\"}},\"scene\":{\"xaxis\":{\"backgroundcolor\":\"white\",\"gridcolor\":\"#DFE8F3\",\"gridwidth\":2,\"linecolor\":\"#EBF0F8\",\"showbackground\":true,\"ticks\":\"\",\"zerolinecolor\":\"#EBF0F8\"},\"yaxis\":{\"backgroundcolor\":\"white\",\"gridcolor\":\"#DFE8F3\",\"gridwidth\":2,\"linecolor\":\"#EBF0F8\",\"showbackground\":true,\"ticks\":\"\",\"zerolinecolor\":\"#EBF0F8\"},\"zaxis\":{\"backgroundcolor\":\"white\",\"gridcolor\":\"#DFE8F3\",\"gridwidth\":2,\"linecolor\":\"#EBF0F8\",\"showbackground\":true,\"ticks\":\"\",\"zerolinecolor\":\"#EBF0F8\"}},\"shapedefaults\":{\"line\":{\"color\":\"#2a3f5f\"}},\"ternary\":{\"aaxis\":{\"gridcolor\":\"#DFE8F3\",\"linecolor\":\"#A2B1C6\",\"ticks\":\"\"},\"baxis\":{\"gridcolor\":\"#DFE8F3\",\"linecolor\":\"#A2B1C6\",\"ticks\":\"\"},\"bgcolor\":\"white\",\"caxis\":{\"gridcolor\":\"#DFE8F3\",\"linecolor\":\"#A2B1C6\",\"ticks\":\"\"}},\"title\":{\"x\":0.05},\"xaxis\":{\"automargin\":true,\"gridcolor\":\"#EBF0F8\",\"linecolor\":\"#EBF0F8\",\"ticks\":\"\",\"title\":{\"standoff\":15},\"zerolinecolor\":\"#EBF0F8\",\"zerolinewidth\":2},\"yaxis\":{\"automargin\":true,\"gridcolor\":\"#EBF0F8\",\"linecolor\":\"#EBF0F8\",\"ticks\":\"\",\"title\":{\"standoff\":15},\"zerolinecolor\":\"#EBF0F8\",\"zerolinewidth\":2}}},\"xaxis\":{\"anchor\":\"y\",\"domain\":[0.0,0.175],\"showgrid\":true},\"yaxis\":{\"anchor\":\"x\",\"domain\":[0.6000000000000001,1.0],\"showgrid\":true},\"xaxis2\":{\"anchor\":\"y2\",\"domain\":[0.275,0.45],\"showgrid\":true},\"yaxis2\":{\"anchor\":\"x2\",\"domain\":[0.6000000000000001,1.0],\"showgrid\":true},\"xaxis3\":{\"anchor\":\"y3\",\"domain\":[0.55,0.7250000000000001],\"showgrid\":true},\"yaxis3\":{\"anchor\":\"x3\",\"domain\":[0.6000000000000001,1.0],\"showgrid\":true},\"xaxis4\":{\"anchor\":\"y4\",\"domain\":[0.825,1.0],\"showgrid\":true},\"yaxis4\":{\"anchor\":\"x4\",\"domain\":[0.6000000000000001,1.0],\"showgrid\":true},\"xaxis5\":{\"anchor\":\"y5\",\"domain\":[0.0,0.175],\"showgrid\":true},\"yaxis5\":{\"anchor\":\"x5\",\"domain\":[0.0,0.4],\"showgrid\":true},\"xaxis6\":{\"anchor\":\"y6\",\"domain\":[0.275,0.45],\"showgrid\":true},\"yaxis6\":{\"anchor\":\"x6\",\"domain\":[0.0,0.4],\"showgrid\":true},\"xaxis7\":{\"anchor\":\"y7\",\"domain\":[0.55,0.7250000000000001],\"showgrid\":true},\"yaxis7\":{\"anchor\":\"x7\",\"domain\":[0.0,0.4],\"showgrid\":true},\"xaxis8\":{\"anchor\":\"y8\",\"domain\":[0.825,1.0],\"showgrid\":true},\"yaxis8\":{\"anchor\":\"x8\",\"domain\":[0.0,0.4],\"showgrid\":true},\"annotations\":[{\"font\":{\"size\":16},\"showarrow\":false,\"text\":\"Topic 0\",\"x\":0.0875,\"xanchor\":\"center\",\"xref\":\"paper\",\"y\":1.0,\"yanchor\":\"bottom\",\"yref\":\"paper\"},{\"font\":{\"size\":16},\"showarrow\":false,\"text\":\"Topic 1\",\"x\":0.36250000000000004,\"xanchor\":\"center\",\"xref\":\"paper\",\"y\":1.0,\"yanchor\":\"bottom\",\"yref\":\"paper\"},{\"font\":{\"size\":16},\"showarrow\":false,\"text\":\"Topic 2\",\"x\":0.6375000000000001,\"xanchor\":\"center\",\"xref\":\"paper\",\"y\":1.0,\"yanchor\":\"bottom\",\"yref\":\"paper\"},{\"font\":{\"size\":16},\"showarrow\":false,\"text\":\"Topic 3\",\"x\":0.9125,\"xanchor\":\"center\",\"xref\":\"paper\",\"y\":1.0,\"yanchor\":\"bottom\",\"yref\":\"paper\"},{\"font\":{\"size\":16},\"showarrow\":false,\"text\":\"Topic 4\",\"x\":0.0875,\"xanchor\":\"center\",\"xref\":\"paper\",\"y\":0.4,\"yanchor\":\"bottom\",\"yref\":\"paper\"},{\"font\":{\"size\":16},\"showarrow\":false,\"text\":\"Topic 5\",\"x\":0.36250000000000004,\"xanchor\":\"center\",\"xref\":\"paper\",\"y\":0.4,\"yanchor\":\"bottom\",\"yref\":\"paper\"},{\"font\":{\"size\":16},\"showarrow\":false,\"text\":\"Topic 6\",\"x\":0.6375000000000001,\"xanchor\":\"center\",\"xref\":\"paper\",\"y\":0.4,\"yanchor\":\"bottom\",\"yref\":\"paper\"},{\"font\":{\"size\":16},\"showarrow\":false,\"text\":\"Topic 7\",\"x\":0.9125,\"xanchor\":\"center\",\"xref\":\"paper\",\"y\":0.4,\"yanchor\":\"bottom\",\"yref\":\"paper\"}],\"title\":{\"font\":{\"size\":22,\"color\":\"Black\"},\"text\":\"Topic Word Scores\",\"x\":0.5,\"xanchor\":\"center\",\"yanchor\":\"top\"},\"hoverlabel\":{\"font\":{\"size\":16,\"family\":\"Rockwell\"},\"bgcolor\":\"white\"},\"showlegend\":false,\"width\":1000,\"height\":500},                        {\"responsive\": true}                    )                };                            </script>        </div>"
            ],
            "text/plain": [
              "Figure({\n",
              "    'data': [{'marker': {'color': '#D55E00'},\n",
              "              'orientation': 'h',\n",
              "              'type': 'bar',\n",
              "              'x': [0.013656749575440998, 0.01448069628091833,\n",
              "                    0.014676975160006038, 0.016886318911797822,\n",
              "                    0.021324508681186665],\n",
              "              'xaxis': 'x',\n",
              "              'y': [make  , vote  , china  , thank  , amp  ],\n",
              "              'yaxis': 'y'},\n",
              "             {'marker': {'color': '#0072B2'},\n",
              "              'orientation': 'h',\n",
              "              'type': 'bar',\n",
              "              'x': [0.0288634957483809, 0.04038531036098023, 0.09907068649174938,\n",
              "                    0.11232075960755757, 0.3136301979973973],\n",
              "              'xaxis': 'x2',\n",
              "              'y': [merry  , christmas  , birthday  , happy  , thanks  ],\n",
              "              'yaxis': 'y2'},\n",
              "             {'marker': {'color': '#CC79A7'},\n",
              "              'orientation': 'h',\n",
              "              'type': 'bar',\n",
              "              'x': [0.03450960044485094, 0.04355210009512805, 0.04379540791688855,\n",
              "                    0.04417849719970491, 0.08200740415431565],\n",
              "              'xaxis': 'x3',\n",
              "              'y': [melania  , miss  , celebrity  , celebapprentice  , apprentice\n",
              "                    ],\n",
              "              'yaxis': 'y3'},\n",
              "             {'marker': {'color': '#E69F00'},\n",
              "              'orientation': 'h',\n",
              "              'type': 'bar',\n",
              "              'x': [0.023968529750574924, 0.03322224900222096, 0.0398345851280326,\n",
              "                    0.056793743770523326, 0.09632528017286539],\n",
              "              'xaxis': 'x4',\n",
              "              'y': [passion  , focus  , success  , think  , entrepreneurs  ],\n",
              "              'yaxis': 'y4'},\n",
              "             {'marker': {'color': '#56B4E9'},\n",
              "              'orientation': 'h',\n",
              "              'type': 'bar',\n",
              "              'x': [0.017920071387336207, 0.020525890432343163,\n",
              "                    0.020785720311300243, 0.022822116127165063,\n",
              "                    0.26577300946926935],\n",
              "              'xaxis': 'x5',\n",
              "              'y': [law  , thank  , big  , order  , amp  ],\n",
              "              'yaxis': 'y5'},\n",
              "             {'marker': {'color': '#009E73'},\n",
              "              'orientation': 'h',\n",
              "              'type': 'bar',\n",
              "              'x': [0.039184475626963554, 0.040400258429047806,\n",
              "                    0.14131392997004436, 0.16935620714960475, 0.2046283627333394],\n",
              "              'xaxis': 'x6',\n",
              "              'y': [birds  , windmills  , turbines  , warming  , wind  ],\n",
              "              'yaxis': 'y6'},\n",
              "             {'marker': {'color': '#F0E442'},\n",
              "              'orientation': 'h',\n",
              "              'type': 'bar',\n",
              "              'x': [0.04261816156802776, 0.049154769368457134,\n",
              "                    0.09365579166354761, 0.34854022438054844, 0.49718322416631977],\n",
              "              'xaxis': 'x7',\n",
              "              'y': [schneiderman  , continues  , draining  , swamp  , hunt  ],\n",
              "              'yaxis': 'y7'},\n",
              "             {'marker': {'color': '#D55E00'},\n",
              "              'orientation': 'h',\n",
              "              'type': 'bar',\n",
              "              'x': [0.149834431716826, 0.15486983517124414, 0.1707693916966973,\n",
              "                    0.27018360907079403, 0.28672091774025343],\n",
              "              'xaxis': 'x8',\n",
              "              'y': [samsung  , mobile  , larger  , apple  , screen  ],\n",
              "              'yaxis': 'y8'}],\n",
              "    'layout': {'annotations': [{'font': {'size': 16},\n",
              "                                'showarrow': False,\n",
              "                                'text': 'Topic 0',\n",
              "                                'x': 0.0875,\n",
              "                                'xanchor': 'center',\n",
              "                                'xref': 'paper',\n",
              "                                'y': 1.0,\n",
              "                                'yanchor': 'bottom',\n",
              "                                'yref': 'paper'},\n",
              "                               {'font': {'size': 16},\n",
              "                                'showarrow': False,\n",
              "                                'text': 'Topic 1',\n",
              "                                'x': 0.36250000000000004,\n",
              "                                'xanchor': 'center',\n",
              "                                'xref': 'paper',\n",
              "                                'y': 1.0,\n",
              "                                'yanchor': 'bottom',\n",
              "                                'yref': 'paper'},\n",
              "                               {'font': {'size': 16},\n",
              "                                'showarrow': False,\n",
              "                                'text': 'Topic 2',\n",
              "                                'x': 0.6375000000000001,\n",
              "                                'xanchor': 'center',\n",
              "                                'xref': 'paper',\n",
              "                                'y': 1.0,\n",
              "                                'yanchor': 'bottom',\n",
              "                                'yref': 'paper'},\n",
              "                               {'font': {'size': 16},\n",
              "                                'showarrow': False,\n",
              "                                'text': 'Topic 3',\n",
              "                                'x': 0.9125,\n",
              "                                'xanchor': 'center',\n",
              "                                'xref': 'paper',\n",
              "                                'y': 1.0,\n",
              "                                'yanchor': 'bottom',\n",
              "                                'yref': 'paper'},\n",
              "                               {'font': {'size': 16},\n",
              "                                'showarrow': False,\n",
              "                                'text': 'Topic 4',\n",
              "                                'x': 0.0875,\n",
              "                                'xanchor': 'center',\n",
              "                                'xref': 'paper',\n",
              "                                'y': 0.4,\n",
              "                                'yanchor': 'bottom',\n",
              "                                'yref': 'paper'},\n",
              "                               {'font': {'size': 16},\n",
              "                                'showarrow': False,\n",
              "                                'text': 'Topic 5',\n",
              "                                'x': 0.36250000000000004,\n",
              "                                'xanchor': 'center',\n",
              "                                'xref': 'paper',\n",
              "                                'y': 0.4,\n",
              "                                'yanchor': 'bottom',\n",
              "                                'yref': 'paper'},\n",
              "                               {'font': {'size': 16},\n",
              "                                'showarrow': False,\n",
              "                                'text': 'Topic 6',\n",
              "                                'x': 0.6375000000000001,\n",
              "                                'xanchor': 'center',\n",
              "                                'xref': 'paper',\n",
              "                                'y': 0.4,\n",
              "                                'yanchor': 'bottom',\n",
              "                                'yref': 'paper'},\n",
              "                               {'font': {'size': 16},\n",
              "                                'showarrow': False,\n",
              "                                'text': 'Topic 7',\n",
              "                                'x': 0.9125,\n",
              "                                'xanchor': 'center',\n",
              "                                'xref': 'paper',\n",
              "                                'y': 0.4,\n",
              "                                'yanchor': 'bottom',\n",
              "                                'yref': 'paper'}],\n",
              "               'height': 500,\n",
              "               'hoverlabel': {'bgcolor': 'white', 'font': {'family': 'Rockwell', 'size': 16}},\n",
              "               'showlegend': False,\n",
              "               'template': '...',\n",
              "               'title': {'font': {'color': 'Black', 'size': 22},\n",
              "                         'text': 'Topic Word Scores',\n",
              "                         'x': 0.5,\n",
              "                         'xanchor': 'center',\n",
              "                         'yanchor': 'top'},\n",
              "               'width': 1000,\n",
              "               'xaxis': {'anchor': 'y', 'domain': [0.0, 0.175], 'showgrid': True},\n",
              "               'xaxis2': {'anchor': 'y2', 'domain': [0.275, 0.45], 'showgrid': True},\n",
              "               'xaxis3': {'anchor': 'y3', 'domain': [0.55, 0.7250000000000001], 'showgrid': True},\n",
              "               'xaxis4': {'anchor': 'y4', 'domain': [0.825, 1.0], 'showgrid': True},\n",
              "               'xaxis5': {'anchor': 'y5', 'domain': [0.0, 0.175], 'showgrid': True},\n",
              "               'xaxis6': {'anchor': 'y6', 'domain': [0.275, 0.45], 'showgrid': True},\n",
              "               'xaxis7': {'anchor': 'y7', 'domain': [0.55, 0.7250000000000001], 'showgrid': True},\n",
              "               'xaxis8': {'anchor': 'y8', 'domain': [0.825, 1.0], 'showgrid': True},\n",
              "               'yaxis': {'anchor': 'x', 'domain': [0.6000000000000001, 1.0], 'showgrid': True},\n",
              "               'yaxis2': {'anchor': 'x2', 'domain': [0.6000000000000001, 1.0], 'showgrid': True},\n",
              "               'yaxis3': {'anchor': 'x3', 'domain': [0.6000000000000001, 1.0], 'showgrid': True},\n",
              "               'yaxis4': {'anchor': 'x4', 'domain': [0.6000000000000001, 1.0], 'showgrid': True},\n",
              "               'yaxis5': {'anchor': 'x5', 'domain': [0.0, 0.4], 'showgrid': True},\n",
              "               'yaxis6': {'anchor': 'x6', 'domain': [0.0, 0.4], 'showgrid': True},\n",
              "               'yaxis7': {'anchor': 'x7', 'domain': [0.0, 0.4], 'showgrid': True},\n",
              "               'yaxis8': {'anchor': 'x8', 'domain': [0.0, 0.4], 'showgrid': True}}\n",
              "})"
            ]
          },
          "execution_count": 32,
          "metadata": {},
          "output_type": "execute_result"
        }
      ],
      "source": [
        "topic_model.visualize_barchart()"
      ]
    },
    {
      "cell_type": "code",
      "execution_count": 33,
      "metadata": {
        "colab": {
          "base_uri": "https://localhost:8080/",
          "height": 817
        },
        "id": "yRyfmybhmhEL",
        "outputId": "b18faac0-5db6-421f-ea24-d5c76c965e41"
      },
      "outputs": [
        {
          "ename": "ValueError",
          "evalue": "Mime type rendering requires nbformat>=4.2.0 but it is not installed",
          "output_type": "error",
          "traceback": [
            "\u001b[1;31m---------------------------------------------------------------------------\u001b[0m",
            "\u001b[1;31mValueError\u001b[0m                                Traceback (most recent call last)",
            "File \u001b[1;32mc:\\Users\\bhava\\anaconda3\\envs\\dsm509\\Lib\\site-packages\\IPython\\core\\formatters.py:925\u001b[0m, in \u001b[0;36mIPythonDisplayFormatter.__call__\u001b[1;34m(self, obj)\u001b[0m\n\u001b[0;32m    923\u001b[0m method \u001b[39m=\u001b[39m get_real_method(obj, \u001b[39mself\u001b[39m\u001b[39m.\u001b[39mprint_method)\n\u001b[0;32m    924\u001b[0m \u001b[39mif\u001b[39;00m method \u001b[39mis\u001b[39;00m \u001b[39mnot\u001b[39;00m \u001b[39mNone\u001b[39;00m:\n\u001b[1;32m--> 925\u001b[0m     method()\n\u001b[0;32m    926\u001b[0m     \u001b[39mreturn\u001b[39;00m \u001b[39mTrue\u001b[39;00m\n",
            "File \u001b[1;32mc:\\Users\\bhava\\anaconda3\\envs\\dsm509\\Lib\\site-packages\\plotly\\basedatatypes.py:832\u001b[0m, in \u001b[0;36mBaseFigure._ipython_display_\u001b[1;34m(self)\u001b[0m\n\u001b[0;32m    829\u001b[0m \u001b[39mimport\u001b[39;00m \u001b[39mplotly\u001b[39;00m\u001b[39m.\u001b[39;00m\u001b[39mio\u001b[39;00m \u001b[39mas\u001b[39;00m \u001b[39mpio\u001b[39;00m\n\u001b[0;32m    831\u001b[0m \u001b[39mif\u001b[39;00m pio\u001b[39m.\u001b[39mrenderers\u001b[39m.\u001b[39mrender_on_display \u001b[39mand\u001b[39;00m pio\u001b[39m.\u001b[39mrenderers\u001b[39m.\u001b[39mdefault:\n\u001b[1;32m--> 832\u001b[0m     pio\u001b[39m.\u001b[39;49mshow(\u001b[39mself\u001b[39;49m)\n\u001b[0;32m    833\u001b[0m \u001b[39melse\u001b[39;00m:\n\u001b[0;32m    834\u001b[0m     \u001b[39mprint\u001b[39m(\u001b[39mrepr\u001b[39m(\u001b[39mself\u001b[39m))\n",
            "File \u001b[1;32mc:\\Users\\bhava\\anaconda3\\envs\\dsm509\\Lib\\site-packages\\plotly\\io\\_renderers.py:394\u001b[0m, in \u001b[0;36mshow\u001b[1;34m(fig, renderer, validate, **kwargs)\u001b[0m\n\u001b[0;32m    389\u001b[0m         \u001b[39mraise\u001b[39;00m \u001b[39mValueError\u001b[39;00m(\n\u001b[0;32m    390\u001b[0m             \u001b[39m\"\u001b[39m\u001b[39mMime type rendering requires ipython but it is not installed\u001b[39m\u001b[39m\"\u001b[39m\n\u001b[0;32m    391\u001b[0m         )\n\u001b[0;32m    393\u001b[0m     \u001b[39mif\u001b[39;00m \u001b[39mnot\u001b[39;00m nbformat \u001b[39mor\u001b[39;00m Version(nbformat\u001b[39m.\u001b[39m__version__) \u001b[39m<\u001b[39m Version(\u001b[39m\"\u001b[39m\u001b[39m4.2.0\u001b[39m\u001b[39m\"\u001b[39m):\n\u001b[1;32m--> 394\u001b[0m         \u001b[39mraise\u001b[39;00m \u001b[39mValueError\u001b[39;00m(\n\u001b[0;32m    395\u001b[0m             \u001b[39m\"\u001b[39m\u001b[39mMime type rendering requires nbformat>=4.2.0 but it is not installed\u001b[39m\u001b[39m\"\u001b[39m\n\u001b[0;32m    396\u001b[0m         )\n\u001b[0;32m    398\u001b[0m     ipython_display\u001b[39m.\u001b[39mdisplay(bundle, raw\u001b[39m=\u001b[39m\u001b[39mTrue\u001b[39;00m)\n\u001b[0;32m    400\u001b[0m \u001b[39m# external renderers\u001b[39;00m\n",
            "\u001b[1;31mValueError\u001b[0m: Mime type rendering requires nbformat>=4.2.0 but it is not installed"
          ]
        },
        {
          "data": {
            "application/vnd.plotly.v1+json": {
              "config": {
                "plotlyServerURL": "https://plot.ly"
              },
              "data": [
                {
                  "coloraxis": "coloraxis",
                  "hovertemplate": "x: %{x}<br>y: %{y}<br>Similarity Score: %{z}<extra></extra>",
                  "name": "0",
                  "type": "heatmap",
                  "x": [
                    "0_amp_thank_china",
                    "1_thanks_happy_birthday",
                    "2_apprentice_celebapprentic...",
                    "3_entrepreneurs_think_success",
                    "4_amp_order_big",
                    "5_wind_warming_turbines",
                    "6_hunt_swamp_draining",
                    "7_screen_apple_larger",
                    "8_pinehurst_golf_greens"
                  ],
                  "xaxis": "x",
                  "y": [
                    "0_amp_thank_china",
                    "1_thanks_happy_birthday",
                    "2_apprentice_celebapprentic...",
                    "3_entrepreneurs_think_success",
                    "4_amp_order_big",
                    "5_wind_warming_turbines",
                    "6_hunt_swamp_draining",
                    "7_screen_apple_larger",
                    "8_pinehurst_golf_greens"
                  ],
                  "yaxis": "y",
                  "z": [
                    [
                      1.0000000000000002,
                      0.4414293481102328,
                      0.6616678116389862,
                      0.5639140168180582,
                      0.503050821540994,
                      0.46801105272374627,
                      0.4399470483237484,
                      0.38835504972105184,
                      0.21944903080253061
                    ],
                    [
                      0.4414293481102328,
                      1,
                      0.5110674778759983,
                      0.38643114330182127,
                      0.39807047552925273,
                      0.19237999710761855,
                      0.19359957067413636,
                      0.3002421398632792,
                      0.22360606819182735
                    ],
                    [
                      0.6616678116389862,
                      0.5110674778759983,
                      0.9999999999999998,
                      0.45903111084815035,
                      0.4630263382939741,
                      0.2469681690812583,
                      0.26461244759301106,
                      0.32381839057588435,
                      0.3308949383891687
                    ],
                    [
                      0.5639140168180582,
                      0.38643114330182127,
                      0.45903111084815035,
                      1,
                      0.39932261405030334,
                      0.33953569154727314,
                      0.26143989605371576,
                      0.3361559820214859,
                      0.20214136175851205
                    ],
                    [
                      0.503050821540994,
                      0.39807047552925273,
                      0.4630263382939741,
                      0.39932261405030334,
                      0.9999999999999998,
                      0.24462812683081414,
                      0.1440761336525096,
                      0.380052126114228,
                      0.15717779354927255
                    ],
                    [
                      0.46801105272374627,
                      0.19237999710761855,
                      0.2469681690812583,
                      0.33953569154727314,
                      0.24462812683081414,
                      1.0000000000000002,
                      0.3151129356552522,
                      0.166121129252687,
                      0.27246283215510614
                    ],
                    [
                      0.4399470483237484,
                      0.19359957067413636,
                      0.26461244759301106,
                      0.26143989605371576,
                      0.1440761336525096,
                      0.3151129356552522,
                      0.9999999999999994,
                      0.13991309121781903,
                      0.16890424364575857
                    ],
                    [
                      0.38835504972105184,
                      0.3002421398632792,
                      0.32381839057588435,
                      0.3361559820214859,
                      0.380052126114228,
                      0.166121129252687,
                      0.13991309121781903,
                      0.9999999999999999,
                      0.1410848489526931
                    ],
                    [
                      0.21944903080253061,
                      0.22360606819182735,
                      0.3308949383891687,
                      0.20214136175851205,
                      0.15717779354927255,
                      0.27246283215510614,
                      0.16890424364575857,
                      0.1410848489526931,
                      1.0000000000000009
                    ]
                  ]
                }
              ],
              "layout": {
                "coloraxis": {
                  "colorbar": {
                    "title": {
                      "text": "Similarity Score"
                    }
                  },
                  "colorscale": [
                    [
                      0,
                      "rgb(247,252,240)"
                    ],
                    [
                      0.125,
                      "rgb(224,243,219)"
                    ],
                    [
                      0.25,
                      "rgb(204,235,197)"
                    ],
                    [
                      0.375,
                      "rgb(168,221,181)"
                    ],
                    [
                      0.5,
                      "rgb(123,204,196)"
                    ],
                    [
                      0.625,
                      "rgb(78,179,211)"
                    ],
                    [
                      0.75,
                      "rgb(43,140,190)"
                    ],
                    [
                      0.875,
                      "rgb(8,104,172)"
                    ],
                    [
                      1,
                      "rgb(8,64,129)"
                    ]
                  ]
                },
                "height": 800,
                "hoverlabel": {
                  "bgcolor": "white",
                  "font": {
                    "family": "Rockwell",
                    "size": 16
                  }
                },
                "legend": {
                  "title": {
                    "text": "Trend"
                  }
                },
                "margin": {
                  "t": 60
                },
                "showlegend": true,
                "template": {
                  "data": {
                    "bar": [
                      {
                        "error_x": {
                          "color": "#2a3f5f"
                        },
                        "error_y": {
                          "color": "#2a3f5f"
                        },
                        "marker": {
                          "line": {
                            "color": "#E5ECF6",
                            "width": 0.5
                          },
                          "pattern": {
                            "fillmode": "overlay",
                            "size": 10,
                            "solidity": 0.2
                          }
                        },
                        "type": "bar"
                      }
                    ],
                    "barpolar": [
                      {
                        "marker": {
                          "line": {
                            "color": "#E5ECF6",
                            "width": 0.5
                          },
                          "pattern": {
                            "fillmode": "overlay",
                            "size": 10,
                            "solidity": 0.2
                          }
                        },
                        "type": "barpolar"
                      }
                    ],
                    "carpet": [
                      {
                        "aaxis": {
                          "endlinecolor": "#2a3f5f",
                          "gridcolor": "white",
                          "linecolor": "white",
                          "minorgridcolor": "white",
                          "startlinecolor": "#2a3f5f"
                        },
                        "baxis": {
                          "endlinecolor": "#2a3f5f",
                          "gridcolor": "white",
                          "linecolor": "white",
                          "minorgridcolor": "white",
                          "startlinecolor": "#2a3f5f"
                        },
                        "type": "carpet"
                      }
                    ],
                    "choropleth": [
                      {
                        "colorbar": {
                          "outlinewidth": 0,
                          "ticks": ""
                        },
                        "type": "choropleth"
                      }
                    ],
                    "contour": [
                      {
                        "colorbar": {
                          "outlinewidth": 0,
                          "ticks": ""
                        },
                        "colorscale": [
                          [
                            0,
                            "#0d0887"
                          ],
                          [
                            0.1111111111111111,
                            "#46039f"
                          ],
                          [
                            0.2222222222222222,
                            "#7201a8"
                          ],
                          [
                            0.3333333333333333,
                            "#9c179e"
                          ],
                          [
                            0.4444444444444444,
                            "#bd3786"
                          ],
                          [
                            0.5555555555555556,
                            "#d8576b"
                          ],
                          [
                            0.6666666666666666,
                            "#ed7953"
                          ],
                          [
                            0.7777777777777778,
                            "#fb9f3a"
                          ],
                          [
                            0.8888888888888888,
                            "#fdca26"
                          ],
                          [
                            1,
                            "#f0f921"
                          ]
                        ],
                        "type": "contour"
                      }
                    ],
                    "contourcarpet": [
                      {
                        "colorbar": {
                          "outlinewidth": 0,
                          "ticks": ""
                        },
                        "type": "contourcarpet"
                      }
                    ],
                    "heatmap": [
                      {
                        "colorbar": {
                          "outlinewidth": 0,
                          "ticks": ""
                        },
                        "colorscale": [
                          [
                            0,
                            "#0d0887"
                          ],
                          [
                            0.1111111111111111,
                            "#46039f"
                          ],
                          [
                            0.2222222222222222,
                            "#7201a8"
                          ],
                          [
                            0.3333333333333333,
                            "#9c179e"
                          ],
                          [
                            0.4444444444444444,
                            "#bd3786"
                          ],
                          [
                            0.5555555555555556,
                            "#d8576b"
                          ],
                          [
                            0.6666666666666666,
                            "#ed7953"
                          ],
                          [
                            0.7777777777777778,
                            "#fb9f3a"
                          ],
                          [
                            0.8888888888888888,
                            "#fdca26"
                          ],
                          [
                            1,
                            "#f0f921"
                          ]
                        ],
                        "type": "heatmap"
                      }
                    ],
                    "heatmapgl": [
                      {
                        "colorbar": {
                          "outlinewidth": 0,
                          "ticks": ""
                        },
                        "colorscale": [
                          [
                            0,
                            "#0d0887"
                          ],
                          [
                            0.1111111111111111,
                            "#46039f"
                          ],
                          [
                            0.2222222222222222,
                            "#7201a8"
                          ],
                          [
                            0.3333333333333333,
                            "#9c179e"
                          ],
                          [
                            0.4444444444444444,
                            "#bd3786"
                          ],
                          [
                            0.5555555555555556,
                            "#d8576b"
                          ],
                          [
                            0.6666666666666666,
                            "#ed7953"
                          ],
                          [
                            0.7777777777777778,
                            "#fb9f3a"
                          ],
                          [
                            0.8888888888888888,
                            "#fdca26"
                          ],
                          [
                            1,
                            "#f0f921"
                          ]
                        ],
                        "type": "heatmapgl"
                      }
                    ],
                    "histogram": [
                      {
                        "marker": {
                          "pattern": {
                            "fillmode": "overlay",
                            "size": 10,
                            "solidity": 0.2
                          }
                        },
                        "type": "histogram"
                      }
                    ],
                    "histogram2d": [
                      {
                        "colorbar": {
                          "outlinewidth": 0,
                          "ticks": ""
                        },
                        "colorscale": [
                          [
                            0,
                            "#0d0887"
                          ],
                          [
                            0.1111111111111111,
                            "#46039f"
                          ],
                          [
                            0.2222222222222222,
                            "#7201a8"
                          ],
                          [
                            0.3333333333333333,
                            "#9c179e"
                          ],
                          [
                            0.4444444444444444,
                            "#bd3786"
                          ],
                          [
                            0.5555555555555556,
                            "#d8576b"
                          ],
                          [
                            0.6666666666666666,
                            "#ed7953"
                          ],
                          [
                            0.7777777777777778,
                            "#fb9f3a"
                          ],
                          [
                            0.8888888888888888,
                            "#fdca26"
                          ],
                          [
                            1,
                            "#f0f921"
                          ]
                        ],
                        "type": "histogram2d"
                      }
                    ],
                    "histogram2dcontour": [
                      {
                        "colorbar": {
                          "outlinewidth": 0,
                          "ticks": ""
                        },
                        "colorscale": [
                          [
                            0,
                            "#0d0887"
                          ],
                          [
                            0.1111111111111111,
                            "#46039f"
                          ],
                          [
                            0.2222222222222222,
                            "#7201a8"
                          ],
                          [
                            0.3333333333333333,
                            "#9c179e"
                          ],
                          [
                            0.4444444444444444,
                            "#bd3786"
                          ],
                          [
                            0.5555555555555556,
                            "#d8576b"
                          ],
                          [
                            0.6666666666666666,
                            "#ed7953"
                          ],
                          [
                            0.7777777777777778,
                            "#fb9f3a"
                          ],
                          [
                            0.8888888888888888,
                            "#fdca26"
                          ],
                          [
                            1,
                            "#f0f921"
                          ]
                        ],
                        "type": "histogram2dcontour"
                      }
                    ],
                    "mesh3d": [
                      {
                        "colorbar": {
                          "outlinewidth": 0,
                          "ticks": ""
                        },
                        "type": "mesh3d"
                      }
                    ],
                    "parcoords": [
                      {
                        "line": {
                          "colorbar": {
                            "outlinewidth": 0,
                            "ticks": ""
                          }
                        },
                        "type": "parcoords"
                      }
                    ],
                    "pie": [
                      {
                        "automargin": true,
                        "type": "pie"
                      }
                    ],
                    "scatter": [
                      {
                        "fillpattern": {
                          "fillmode": "overlay",
                          "size": 10,
                          "solidity": 0.2
                        },
                        "type": "scatter"
                      }
                    ],
                    "scatter3d": [
                      {
                        "line": {
                          "colorbar": {
                            "outlinewidth": 0,
                            "ticks": ""
                          }
                        },
                        "marker": {
                          "colorbar": {
                            "outlinewidth": 0,
                            "ticks": ""
                          }
                        },
                        "type": "scatter3d"
                      }
                    ],
                    "scattercarpet": [
                      {
                        "marker": {
                          "colorbar": {
                            "outlinewidth": 0,
                            "ticks": ""
                          }
                        },
                        "type": "scattercarpet"
                      }
                    ],
                    "scattergeo": [
                      {
                        "marker": {
                          "colorbar": {
                            "outlinewidth": 0,
                            "ticks": ""
                          }
                        },
                        "type": "scattergeo"
                      }
                    ],
                    "scattergl": [
                      {
                        "marker": {
                          "colorbar": {
                            "outlinewidth": 0,
                            "ticks": ""
                          }
                        },
                        "type": "scattergl"
                      }
                    ],
                    "scattermapbox": [
                      {
                        "marker": {
                          "colorbar": {
                            "outlinewidth": 0,
                            "ticks": ""
                          }
                        },
                        "type": "scattermapbox"
                      }
                    ],
                    "scatterpolar": [
                      {
                        "marker": {
                          "colorbar": {
                            "outlinewidth": 0,
                            "ticks": ""
                          }
                        },
                        "type": "scatterpolar"
                      }
                    ],
                    "scatterpolargl": [
                      {
                        "marker": {
                          "colorbar": {
                            "outlinewidth": 0,
                            "ticks": ""
                          }
                        },
                        "type": "scatterpolargl"
                      }
                    ],
                    "scatterternary": [
                      {
                        "marker": {
                          "colorbar": {
                            "outlinewidth": 0,
                            "ticks": ""
                          }
                        },
                        "type": "scatterternary"
                      }
                    ],
                    "surface": [
                      {
                        "colorbar": {
                          "outlinewidth": 0,
                          "ticks": ""
                        },
                        "colorscale": [
                          [
                            0,
                            "#0d0887"
                          ],
                          [
                            0.1111111111111111,
                            "#46039f"
                          ],
                          [
                            0.2222222222222222,
                            "#7201a8"
                          ],
                          [
                            0.3333333333333333,
                            "#9c179e"
                          ],
                          [
                            0.4444444444444444,
                            "#bd3786"
                          ],
                          [
                            0.5555555555555556,
                            "#d8576b"
                          ],
                          [
                            0.6666666666666666,
                            "#ed7953"
                          ],
                          [
                            0.7777777777777778,
                            "#fb9f3a"
                          ],
                          [
                            0.8888888888888888,
                            "#fdca26"
                          ],
                          [
                            1,
                            "#f0f921"
                          ]
                        ],
                        "type": "surface"
                      }
                    ],
                    "table": [
                      {
                        "cells": {
                          "fill": {
                            "color": "#EBF0F8"
                          },
                          "line": {
                            "color": "white"
                          }
                        },
                        "header": {
                          "fill": {
                            "color": "#C8D4E3"
                          },
                          "line": {
                            "color": "white"
                          }
                        },
                        "type": "table"
                      }
                    ]
                  },
                  "layout": {
                    "annotationdefaults": {
                      "arrowcolor": "#2a3f5f",
                      "arrowhead": 0,
                      "arrowwidth": 1
                    },
                    "autotypenumbers": "strict",
                    "coloraxis": {
                      "colorbar": {
                        "outlinewidth": 0,
                        "ticks": ""
                      }
                    },
                    "colorscale": {
                      "diverging": [
                        [
                          0,
                          "#8e0152"
                        ],
                        [
                          0.1,
                          "#c51b7d"
                        ],
                        [
                          0.2,
                          "#de77ae"
                        ],
                        [
                          0.3,
                          "#f1b6da"
                        ],
                        [
                          0.4,
                          "#fde0ef"
                        ],
                        [
                          0.5,
                          "#f7f7f7"
                        ],
                        [
                          0.6,
                          "#e6f5d0"
                        ],
                        [
                          0.7,
                          "#b8e186"
                        ],
                        [
                          0.8,
                          "#7fbc41"
                        ],
                        [
                          0.9,
                          "#4d9221"
                        ],
                        [
                          1,
                          "#276419"
                        ]
                      ],
                      "sequential": [
                        [
                          0,
                          "#0d0887"
                        ],
                        [
                          0.1111111111111111,
                          "#46039f"
                        ],
                        [
                          0.2222222222222222,
                          "#7201a8"
                        ],
                        [
                          0.3333333333333333,
                          "#9c179e"
                        ],
                        [
                          0.4444444444444444,
                          "#bd3786"
                        ],
                        [
                          0.5555555555555556,
                          "#d8576b"
                        ],
                        [
                          0.6666666666666666,
                          "#ed7953"
                        ],
                        [
                          0.7777777777777778,
                          "#fb9f3a"
                        ],
                        [
                          0.8888888888888888,
                          "#fdca26"
                        ],
                        [
                          1,
                          "#f0f921"
                        ]
                      ],
                      "sequentialminus": [
                        [
                          0,
                          "#0d0887"
                        ],
                        [
                          0.1111111111111111,
                          "#46039f"
                        ],
                        [
                          0.2222222222222222,
                          "#7201a8"
                        ],
                        [
                          0.3333333333333333,
                          "#9c179e"
                        ],
                        [
                          0.4444444444444444,
                          "#bd3786"
                        ],
                        [
                          0.5555555555555556,
                          "#d8576b"
                        ],
                        [
                          0.6666666666666666,
                          "#ed7953"
                        ],
                        [
                          0.7777777777777778,
                          "#fb9f3a"
                        ],
                        [
                          0.8888888888888888,
                          "#fdca26"
                        ],
                        [
                          1,
                          "#f0f921"
                        ]
                      ]
                    },
                    "colorway": [
                      "#636efa",
                      "#EF553B",
                      "#00cc96",
                      "#ab63fa",
                      "#FFA15A",
                      "#19d3f3",
                      "#FF6692",
                      "#B6E880",
                      "#FF97FF",
                      "#FECB52"
                    ],
                    "font": {
                      "color": "#2a3f5f"
                    },
                    "geo": {
                      "bgcolor": "white",
                      "lakecolor": "white",
                      "landcolor": "#E5ECF6",
                      "showlakes": true,
                      "showland": true,
                      "subunitcolor": "white"
                    },
                    "hoverlabel": {
                      "align": "left"
                    },
                    "hovermode": "closest",
                    "mapbox": {
                      "style": "light"
                    },
                    "paper_bgcolor": "white",
                    "plot_bgcolor": "#E5ECF6",
                    "polar": {
                      "angularaxis": {
                        "gridcolor": "white",
                        "linecolor": "white",
                        "ticks": ""
                      },
                      "bgcolor": "#E5ECF6",
                      "radialaxis": {
                        "gridcolor": "white",
                        "linecolor": "white",
                        "ticks": ""
                      }
                    },
                    "scene": {
                      "xaxis": {
                        "backgroundcolor": "#E5ECF6",
                        "gridcolor": "white",
                        "gridwidth": 2,
                        "linecolor": "white",
                        "showbackground": true,
                        "ticks": "",
                        "zerolinecolor": "white"
                      },
                      "yaxis": {
                        "backgroundcolor": "#E5ECF6",
                        "gridcolor": "white",
                        "gridwidth": 2,
                        "linecolor": "white",
                        "showbackground": true,
                        "ticks": "",
                        "zerolinecolor": "white"
                      },
                      "zaxis": {
                        "backgroundcolor": "#E5ECF6",
                        "gridcolor": "white",
                        "gridwidth": 2,
                        "linecolor": "white",
                        "showbackground": true,
                        "ticks": "",
                        "zerolinecolor": "white"
                      }
                    },
                    "shapedefaults": {
                      "line": {
                        "color": "#2a3f5f"
                      }
                    },
                    "ternary": {
                      "aaxis": {
                        "gridcolor": "white",
                        "linecolor": "white",
                        "ticks": ""
                      },
                      "baxis": {
                        "gridcolor": "white",
                        "linecolor": "white",
                        "ticks": ""
                      },
                      "bgcolor": "#E5ECF6",
                      "caxis": {
                        "gridcolor": "white",
                        "linecolor": "white",
                        "ticks": ""
                      }
                    },
                    "title": {
                      "x": 0.05
                    },
                    "xaxis": {
                      "automargin": true,
                      "gridcolor": "white",
                      "linecolor": "white",
                      "ticks": "",
                      "title": {
                        "standoff": 15
                      },
                      "zerolinecolor": "white",
                      "zerolinewidth": 2
                    },
                    "yaxis": {
                      "automargin": true,
                      "gridcolor": "white",
                      "linecolor": "white",
                      "ticks": "",
                      "title": {
                        "standoff": 15
                      },
                      "zerolinecolor": "white",
                      "zerolinewidth": 2
                    }
                  }
                },
                "title": {
                  "font": {
                    "color": "Black",
                    "size": 22
                  },
                  "text": "<b>Similarity Matrix</b>",
                  "x": 0.55,
                  "xanchor": "center",
                  "y": 0.95,
                  "yanchor": "top"
                },
                "width": 800,
                "xaxis": {
                  "anchor": "y",
                  "constrain": "domain",
                  "domain": [
                    0,
                    1
                  ],
                  "scaleanchor": "y"
                },
                "yaxis": {
                  "anchor": "x",
                  "autorange": "reversed",
                  "constrain": "domain",
                  "domain": [
                    0,
                    1
                  ]
                }
              }
            },
            "text/html": [
              "<div>                        <script type=\"text/javascript\">window.PlotlyConfig = {MathJaxConfig: 'local'};</script>\n",
              "        <script charset=\"utf-8\" src=\"https://cdn.plot.ly/plotly-2.29.1.min.js\"></script>                <div id=\"5a2db110-5842-4c66-8d78-be72c2cf9b49\" class=\"plotly-graph-div\" style=\"height:800px; width:800px;\"></div>            <script type=\"text/javascript\">                                    window.PLOTLYENV=window.PLOTLYENV || {};                                    if (document.getElementById(\"5a2db110-5842-4c66-8d78-be72c2cf9b49\")) {                    Plotly.newPlot(                        \"5a2db110-5842-4c66-8d78-be72c2cf9b49\",                        [{\"coloraxis\":\"coloraxis\",\"name\":\"0\",\"x\":[\"0_amp_thank_china\",\"1_thanks_happy_birthday\",\"2_apprentice_celebapprentic...\",\"3_entrepreneurs_think_success\",\"4_amp_order_big\",\"5_wind_warming_turbines\",\"6_hunt_swamp_draining\",\"7_screen_apple_larger\",\"8_pinehurst_golf_greens\"],\"y\":[\"0_amp_thank_china\",\"1_thanks_happy_birthday\",\"2_apprentice_celebapprentic...\",\"3_entrepreneurs_think_success\",\"4_amp_order_big\",\"5_wind_warming_turbines\",\"6_hunt_swamp_draining\",\"7_screen_apple_larger\",\"8_pinehurst_golf_greens\"],\"z\":[[1.0000000000000002,0.4414293481102328,0.6616678116389862,0.5639140168180582,0.503050821540994,0.46801105272374627,0.4399470483237484,0.38835504972105184,0.21944903080253061],[0.4414293481102328,1.0,0.5110674778759983,0.38643114330182127,0.39807047552925273,0.19237999710761855,0.19359957067413636,0.3002421398632792,0.22360606819182735],[0.6616678116389862,0.5110674778759983,0.9999999999999998,0.45903111084815035,0.4630263382939741,0.2469681690812583,0.26461244759301106,0.32381839057588435,0.3308949383891687],[0.5639140168180582,0.38643114330182127,0.45903111084815035,1.0,0.39932261405030334,0.33953569154727314,0.26143989605371576,0.3361559820214859,0.20214136175851205],[0.503050821540994,0.39807047552925273,0.4630263382939741,0.39932261405030334,0.9999999999999998,0.24462812683081414,0.1440761336525096,0.380052126114228,0.15717779354927255],[0.46801105272374627,0.19237999710761855,0.2469681690812583,0.33953569154727314,0.24462812683081414,1.0000000000000002,0.3151129356552522,0.166121129252687,0.27246283215510614],[0.4399470483237484,0.19359957067413636,0.26461244759301106,0.26143989605371576,0.1440761336525096,0.3151129356552522,0.9999999999999994,0.13991309121781903,0.16890424364575857],[0.38835504972105184,0.3002421398632792,0.32381839057588435,0.3361559820214859,0.380052126114228,0.166121129252687,0.13991309121781903,0.9999999999999999,0.1410848489526931],[0.21944903080253061,0.22360606819182735,0.3308949383891687,0.20214136175851205,0.15717779354927255,0.27246283215510614,0.16890424364575857,0.1410848489526931,1.0000000000000009]],\"type\":\"heatmap\",\"xaxis\":\"x\",\"yaxis\":\"y\",\"hovertemplate\":\"x: %{x}\\u003cbr\\u003ey: %{y}\\u003cbr\\u003eSimilarity Score: %{z}\\u003cextra\\u003e\\u003c\\u002fextra\\u003e\"}],                        {\"template\":{\"data\":{\"histogram2dcontour\":[{\"type\":\"histogram2dcontour\",\"colorbar\":{\"outlinewidth\":0,\"ticks\":\"\"},\"colorscale\":[[0.0,\"#0d0887\"],[0.1111111111111111,\"#46039f\"],[0.2222222222222222,\"#7201a8\"],[0.3333333333333333,\"#9c179e\"],[0.4444444444444444,\"#bd3786\"],[0.5555555555555556,\"#d8576b\"],[0.6666666666666666,\"#ed7953\"],[0.7777777777777778,\"#fb9f3a\"],[0.8888888888888888,\"#fdca26\"],[1.0,\"#f0f921\"]]}],\"choropleth\":[{\"type\":\"choropleth\",\"colorbar\":{\"outlinewidth\":0,\"ticks\":\"\"}}],\"histogram2d\":[{\"type\":\"histogram2d\",\"colorbar\":{\"outlinewidth\":0,\"ticks\":\"\"},\"colorscale\":[[0.0,\"#0d0887\"],[0.1111111111111111,\"#46039f\"],[0.2222222222222222,\"#7201a8\"],[0.3333333333333333,\"#9c179e\"],[0.4444444444444444,\"#bd3786\"],[0.5555555555555556,\"#d8576b\"],[0.6666666666666666,\"#ed7953\"],[0.7777777777777778,\"#fb9f3a\"],[0.8888888888888888,\"#fdca26\"],[1.0,\"#f0f921\"]]}],\"heatmap\":[{\"type\":\"heatmap\",\"colorbar\":{\"outlinewidth\":0,\"ticks\":\"\"},\"colorscale\":[[0.0,\"#0d0887\"],[0.1111111111111111,\"#46039f\"],[0.2222222222222222,\"#7201a8\"],[0.3333333333333333,\"#9c179e\"],[0.4444444444444444,\"#bd3786\"],[0.5555555555555556,\"#d8576b\"],[0.6666666666666666,\"#ed7953\"],[0.7777777777777778,\"#fb9f3a\"],[0.8888888888888888,\"#fdca26\"],[1.0,\"#f0f921\"]]}],\"heatmapgl\":[{\"type\":\"heatmapgl\",\"colorbar\":{\"outlinewidth\":0,\"ticks\":\"\"},\"colorscale\":[[0.0,\"#0d0887\"],[0.1111111111111111,\"#46039f\"],[0.2222222222222222,\"#7201a8\"],[0.3333333333333333,\"#9c179e\"],[0.4444444444444444,\"#bd3786\"],[0.5555555555555556,\"#d8576b\"],[0.6666666666666666,\"#ed7953\"],[0.7777777777777778,\"#fb9f3a\"],[0.8888888888888888,\"#fdca26\"],[1.0,\"#f0f921\"]]}],\"contourcarpet\":[{\"type\":\"contourcarpet\",\"colorbar\":{\"outlinewidth\":0,\"ticks\":\"\"}}],\"contour\":[{\"type\":\"contour\",\"colorbar\":{\"outlinewidth\":0,\"ticks\":\"\"},\"colorscale\":[[0.0,\"#0d0887\"],[0.1111111111111111,\"#46039f\"],[0.2222222222222222,\"#7201a8\"],[0.3333333333333333,\"#9c179e\"],[0.4444444444444444,\"#bd3786\"],[0.5555555555555556,\"#d8576b\"],[0.6666666666666666,\"#ed7953\"],[0.7777777777777778,\"#fb9f3a\"],[0.8888888888888888,\"#fdca26\"],[1.0,\"#f0f921\"]]}],\"surface\":[{\"type\":\"surface\",\"colorbar\":{\"outlinewidth\":0,\"ticks\":\"\"},\"colorscale\":[[0.0,\"#0d0887\"],[0.1111111111111111,\"#46039f\"],[0.2222222222222222,\"#7201a8\"],[0.3333333333333333,\"#9c179e\"],[0.4444444444444444,\"#bd3786\"],[0.5555555555555556,\"#d8576b\"],[0.6666666666666666,\"#ed7953\"],[0.7777777777777778,\"#fb9f3a\"],[0.8888888888888888,\"#fdca26\"],[1.0,\"#f0f921\"]]}],\"mesh3d\":[{\"type\":\"mesh3d\",\"colorbar\":{\"outlinewidth\":0,\"ticks\":\"\"}}],\"scatter\":[{\"fillpattern\":{\"fillmode\":\"overlay\",\"size\":10,\"solidity\":0.2},\"type\":\"scatter\"}],\"parcoords\":[{\"type\":\"parcoords\",\"line\":{\"colorbar\":{\"outlinewidth\":0,\"ticks\":\"\"}}}],\"scatterpolargl\":[{\"type\":\"scatterpolargl\",\"marker\":{\"colorbar\":{\"outlinewidth\":0,\"ticks\":\"\"}}}],\"bar\":[{\"error_x\":{\"color\":\"#2a3f5f\"},\"error_y\":{\"color\":\"#2a3f5f\"},\"marker\":{\"line\":{\"color\":\"#E5ECF6\",\"width\":0.5},\"pattern\":{\"fillmode\":\"overlay\",\"size\":10,\"solidity\":0.2}},\"type\":\"bar\"}],\"scattergeo\":[{\"type\":\"scattergeo\",\"marker\":{\"colorbar\":{\"outlinewidth\":0,\"ticks\":\"\"}}}],\"scatterpolar\":[{\"type\":\"scatterpolar\",\"marker\":{\"colorbar\":{\"outlinewidth\":0,\"ticks\":\"\"}}}],\"histogram\":[{\"marker\":{\"pattern\":{\"fillmode\":\"overlay\",\"size\":10,\"solidity\":0.2}},\"type\":\"histogram\"}],\"scattergl\":[{\"type\":\"scattergl\",\"marker\":{\"colorbar\":{\"outlinewidth\":0,\"ticks\":\"\"}}}],\"scatter3d\":[{\"type\":\"scatter3d\",\"line\":{\"colorbar\":{\"outlinewidth\":0,\"ticks\":\"\"}},\"marker\":{\"colorbar\":{\"outlinewidth\":0,\"ticks\":\"\"}}}],\"scattermapbox\":[{\"type\":\"scattermapbox\",\"marker\":{\"colorbar\":{\"outlinewidth\":0,\"ticks\":\"\"}}}],\"scatterternary\":[{\"type\":\"scatterternary\",\"marker\":{\"colorbar\":{\"outlinewidth\":0,\"ticks\":\"\"}}}],\"scattercarpet\":[{\"type\":\"scattercarpet\",\"marker\":{\"colorbar\":{\"outlinewidth\":0,\"ticks\":\"\"}}}],\"carpet\":[{\"aaxis\":{\"endlinecolor\":\"#2a3f5f\",\"gridcolor\":\"white\",\"linecolor\":\"white\",\"minorgridcolor\":\"white\",\"startlinecolor\":\"#2a3f5f\"},\"baxis\":{\"endlinecolor\":\"#2a3f5f\",\"gridcolor\":\"white\",\"linecolor\":\"white\",\"minorgridcolor\":\"white\",\"startlinecolor\":\"#2a3f5f\"},\"type\":\"carpet\"}],\"table\":[{\"cells\":{\"fill\":{\"color\":\"#EBF0F8\"},\"line\":{\"color\":\"white\"}},\"header\":{\"fill\":{\"color\":\"#C8D4E3\"},\"line\":{\"color\":\"white\"}},\"type\":\"table\"}],\"barpolar\":[{\"marker\":{\"line\":{\"color\":\"#E5ECF6\",\"width\":0.5},\"pattern\":{\"fillmode\":\"overlay\",\"size\":10,\"solidity\":0.2}},\"type\":\"barpolar\"}],\"pie\":[{\"automargin\":true,\"type\":\"pie\"}]},\"layout\":{\"autotypenumbers\":\"strict\",\"colorway\":[\"#636efa\",\"#EF553B\",\"#00cc96\",\"#ab63fa\",\"#FFA15A\",\"#19d3f3\",\"#FF6692\",\"#B6E880\",\"#FF97FF\",\"#FECB52\"],\"font\":{\"color\":\"#2a3f5f\"},\"hovermode\":\"closest\",\"hoverlabel\":{\"align\":\"left\"},\"paper_bgcolor\":\"white\",\"plot_bgcolor\":\"#E5ECF6\",\"polar\":{\"bgcolor\":\"#E5ECF6\",\"angularaxis\":{\"gridcolor\":\"white\",\"linecolor\":\"white\",\"ticks\":\"\"},\"radialaxis\":{\"gridcolor\":\"white\",\"linecolor\":\"white\",\"ticks\":\"\"}},\"ternary\":{\"bgcolor\":\"#E5ECF6\",\"aaxis\":{\"gridcolor\":\"white\",\"linecolor\":\"white\",\"ticks\":\"\"},\"baxis\":{\"gridcolor\":\"white\",\"linecolor\":\"white\",\"ticks\":\"\"},\"caxis\":{\"gridcolor\":\"white\",\"linecolor\":\"white\",\"ticks\":\"\"}},\"coloraxis\":{\"colorbar\":{\"outlinewidth\":0,\"ticks\":\"\"}},\"colorscale\":{\"sequential\":[[0.0,\"#0d0887\"],[0.1111111111111111,\"#46039f\"],[0.2222222222222222,\"#7201a8\"],[0.3333333333333333,\"#9c179e\"],[0.4444444444444444,\"#bd3786\"],[0.5555555555555556,\"#d8576b\"],[0.6666666666666666,\"#ed7953\"],[0.7777777777777778,\"#fb9f3a\"],[0.8888888888888888,\"#fdca26\"],[1.0,\"#f0f921\"]],\"sequentialminus\":[[0.0,\"#0d0887\"],[0.1111111111111111,\"#46039f\"],[0.2222222222222222,\"#7201a8\"],[0.3333333333333333,\"#9c179e\"],[0.4444444444444444,\"#bd3786\"],[0.5555555555555556,\"#d8576b\"],[0.6666666666666666,\"#ed7953\"],[0.7777777777777778,\"#fb9f3a\"],[0.8888888888888888,\"#fdca26\"],[1.0,\"#f0f921\"]],\"diverging\":[[0,\"#8e0152\"],[0.1,\"#c51b7d\"],[0.2,\"#de77ae\"],[0.3,\"#f1b6da\"],[0.4,\"#fde0ef\"],[0.5,\"#f7f7f7\"],[0.6,\"#e6f5d0\"],[0.7,\"#b8e186\"],[0.8,\"#7fbc41\"],[0.9,\"#4d9221\"],[1,\"#276419\"]]},\"xaxis\":{\"gridcolor\":\"white\",\"linecolor\":\"white\",\"ticks\":\"\",\"title\":{\"standoff\":15},\"zerolinecolor\":\"white\",\"automargin\":true,\"zerolinewidth\":2},\"yaxis\":{\"gridcolor\":\"white\",\"linecolor\":\"white\",\"ticks\":\"\",\"title\":{\"standoff\":15},\"zerolinecolor\":\"white\",\"automargin\":true,\"zerolinewidth\":2},\"scene\":{\"xaxis\":{\"backgroundcolor\":\"#E5ECF6\",\"gridcolor\":\"white\",\"linecolor\":\"white\",\"showbackground\":true,\"ticks\":\"\",\"zerolinecolor\":\"white\",\"gridwidth\":2},\"yaxis\":{\"backgroundcolor\":\"#E5ECF6\",\"gridcolor\":\"white\",\"linecolor\":\"white\",\"showbackground\":true,\"ticks\":\"\",\"zerolinecolor\":\"white\",\"gridwidth\":2},\"zaxis\":{\"backgroundcolor\":\"#E5ECF6\",\"gridcolor\":\"white\",\"linecolor\":\"white\",\"showbackground\":true,\"ticks\":\"\",\"zerolinecolor\":\"white\",\"gridwidth\":2}},\"shapedefaults\":{\"line\":{\"color\":\"#2a3f5f\"}},\"annotationdefaults\":{\"arrowcolor\":\"#2a3f5f\",\"arrowhead\":0,\"arrowwidth\":1},\"geo\":{\"bgcolor\":\"white\",\"landcolor\":\"#E5ECF6\",\"subunitcolor\":\"white\",\"showland\":true,\"showlakes\":true,\"lakecolor\":\"white\"},\"title\":{\"x\":0.05},\"mapbox\":{\"style\":\"light\"}}},\"xaxis\":{\"anchor\":\"y\",\"domain\":[0.0,1.0],\"scaleanchor\":\"y\",\"constrain\":\"domain\"},\"yaxis\":{\"anchor\":\"x\",\"domain\":[0.0,1.0],\"autorange\":\"reversed\",\"constrain\":\"domain\"},\"coloraxis\":{\"colorbar\":{\"title\":{\"text\":\"Similarity Score\"}},\"colorscale\":[[0.0,\"rgb(247,252,240)\"],[0.125,\"rgb(224,243,219)\"],[0.25,\"rgb(204,235,197)\"],[0.375,\"rgb(168,221,181)\"],[0.5,\"rgb(123,204,196)\"],[0.625,\"rgb(78,179,211)\"],[0.75,\"rgb(43,140,190)\"],[0.875,\"rgb(8,104,172)\"],[1.0,\"rgb(8,64,129)\"]]},\"margin\":{\"t\":60},\"title\":{\"font\":{\"size\":22,\"color\":\"Black\"},\"text\":\"\\u003cb\\u003eSimilarity Matrix\\u003c\\u002fb\\u003e\",\"y\":0.95,\"x\":0.55,\"xanchor\":\"center\",\"yanchor\":\"top\"},\"hoverlabel\":{\"font\":{\"size\":16,\"family\":\"Rockwell\"},\"bgcolor\":\"white\"},\"width\":800,\"height\":800,\"showlegend\":true,\"legend\":{\"title\":{\"text\":\"Trend\"}}},                        {\"responsive\": true}                    )                };                            </script>        </div>"
            ],
            "text/plain": [
              "Figure({\n",
              "    'data': [{'coloraxis': 'coloraxis',\n",
              "              'hovertemplate': 'x: %{x}<br>y: %{y}<br>Similarity Score: %{z}<extra></extra>',\n",
              "              'name': '0',\n",
              "              'type': 'heatmap',\n",
              "              'x': [0_amp_thank_china, 1_thanks_happy_birthday,\n",
              "                    2_apprentice_celebapprentic..., 3_entrepreneurs_think_success,\n",
              "                    4_amp_order_big, 5_wind_warming_turbines,\n",
              "                    6_hunt_swamp_draining, 7_screen_apple_larger,\n",
              "                    8_pinehurst_golf_greens],\n",
              "              'xaxis': 'x',\n",
              "              'y': [0_amp_thank_china, 1_thanks_happy_birthday,\n",
              "                    2_apprentice_celebapprentic..., 3_entrepreneurs_think_success,\n",
              "                    4_amp_order_big, 5_wind_warming_turbines,\n",
              "                    6_hunt_swamp_draining, 7_screen_apple_larger,\n",
              "                    8_pinehurst_golf_greens],\n",
              "              'yaxis': 'y',\n",
              "              'z': array([[1.        , 0.44142935, 0.66166781, 0.56391402, 0.50305082,\n",
              "                           0.46801105, 0.43994705, 0.38835505, 0.21944903],\n",
              "                          [0.44142935, 1.        , 0.51106748, 0.38643114, 0.39807048,\n",
              "                           0.19238   , 0.19359957, 0.30024214, 0.22360607],\n",
              "                          [0.66166781, 0.51106748, 1.        , 0.45903111, 0.46302634,\n",
              "                           0.24696817, 0.26461245, 0.32381839, 0.33089494],\n",
              "                          [0.56391402, 0.38643114, 0.45903111, 1.        , 0.39932261,\n",
              "                           0.33953569, 0.2614399 , 0.33615598, 0.20214136],\n",
              "                          [0.50305082, 0.39807048, 0.46302634, 0.39932261, 1.        ,\n",
              "                           0.24462813, 0.14407613, 0.38005213, 0.15717779],\n",
              "                          [0.46801105, 0.19238   , 0.24696817, 0.33953569, 0.24462813,\n",
              "                           1.        , 0.31511294, 0.16612113, 0.27246283],\n",
              "                          [0.43994705, 0.19359957, 0.26461245, 0.2614399 , 0.14407613,\n",
              "                           0.31511294, 1.        , 0.13991309, 0.16890424],\n",
              "                          [0.38835505, 0.30024214, 0.32381839, 0.33615598, 0.38005213,\n",
              "                           0.16612113, 0.13991309, 1.        , 0.14108485],\n",
              "                          [0.21944903, 0.22360607, 0.33089494, 0.20214136, 0.15717779,\n",
              "                           0.27246283, 0.16890424, 0.14108485, 1.        ]])}],\n",
              "    'layout': {'coloraxis': {'colorbar': {'title': {'text': 'Similarity Score'}},\n",
              "                             'colorscale': [[0.0, 'rgb(247,252,240)'], [0.125,\n",
              "                                            'rgb(224,243,219)'], [0.25,\n",
              "                                            'rgb(204,235,197)'], [0.375,\n",
              "                                            'rgb(168,221,181)'], [0.5,\n",
              "                                            'rgb(123,204,196)'], [0.625,\n",
              "                                            'rgb(78,179,211)'], [0.75,\n",
              "                                            'rgb(43,140,190)'], [0.875,\n",
              "                                            'rgb(8,104,172)'], [1.0,\n",
              "                                            'rgb(8,64,129)']]},\n",
              "               'height': 800,\n",
              "               'hoverlabel': {'bgcolor': 'white', 'font': {'family': 'Rockwell', 'size': 16}},\n",
              "               'legend': {'title': {'text': 'Trend'}},\n",
              "               'margin': {'t': 60},\n",
              "               'showlegend': True,\n",
              "               'template': '...',\n",
              "               'title': {'font': {'color': 'Black', 'size': 22},\n",
              "                         'text': '<b>Similarity Matrix</b>',\n",
              "                         'x': 0.55,\n",
              "                         'xanchor': 'center',\n",
              "                         'y': 0.95,\n",
              "                         'yanchor': 'top'},\n",
              "               'width': 800,\n",
              "               'xaxis': {'anchor': 'y', 'constrain': 'domain', 'domain': [0.0, 1.0], 'scaleanchor': 'y'},\n",
              "               'yaxis': {'anchor': 'x', 'autorange': 'reversed', 'constrain': 'domain', 'domain': [0.0, 1.0]}}\n",
              "})"
            ]
          },
          "execution_count": 33,
          "metadata": {},
          "output_type": "execute_result"
        }
      ],
      "source": [
        "topic_model.visualize_heatmap()"
      ]
    },
    {
      "cell_type": "code",
      "execution_count": 34,
      "metadata": {
        "colab": {
          "base_uri": "https://localhost:8080/",
          "height": 363
        },
        "id": "B3e70DMTmm0g",
        "outputId": "e81a0341-2ce1-4a03-aff2-c297bbcb4110"
      },
      "outputs": [
        {
          "data": {
            "text/html": [
              "<div>\n",
              "<style scoped>\n",
              "    .dataframe tbody tr th:only-of-type {\n",
              "        vertical-align: middle;\n",
              "    }\n",
              "\n",
              "    .dataframe tbody tr th {\n",
              "        vertical-align: top;\n",
              "    }\n",
              "\n",
              "    .dataframe thead th {\n",
              "        text-align: right;\n",
              "    }\n",
              "</style>\n",
              "<table border=\"1\" class=\"dataframe\">\n",
              "  <thead>\n",
              "    <tr style=\"text-align: right;\">\n",
              "      <th></th>\n",
              "      <th>Topic</th>\n",
              "      <th>Count</th>\n",
              "      <th>Name</th>\n",
              "      <th>Representation</th>\n",
              "      <th>Representative_Docs</th>\n",
              "    </tr>\n",
              "  </thead>\n",
              "  <tbody>\n",
              "    <tr>\n",
              "      <th>0</th>\n",
              "      <td>-1</td>\n",
              "      <td>16086</td>\n",
              "      <td>-1_amp_obama_big_like</td>\n",
              "      <td>[amp, obama, big, like, make, fake, today, tha...</td>\n",
              "      <td>[thank you governor make america safe and grea...</td>\n",
              "    </tr>\n",
              "    <tr>\n",
              "      <th>1</th>\n",
              "      <td>0</td>\n",
              "      <td>21517</td>\n",
              "      <td>0_amp_thank_china_vote</td>\n",
              "      <td>[amp, thank, china, vote, make, obama, news, l...</td>\n",
              "      <td>[make america great again, thank you trump, th...</td>\n",
              "    </tr>\n",
              "    <tr>\n",
              "      <th>2</th>\n",
              "      <td>1</td>\n",
              "      <td>2875</td>\n",
              "      <td>1_thanks_happy_birthday_christmas</td>\n",
              "      <td>[thanks, happy, birthday, christmas, merry, mo...</td>\n",
              "      <td>[thanks, thanks, thanks]</td>\n",
              "    </tr>\n",
              "    <tr>\n",
              "      <th>3</th>\n",
              "      <td>2</td>\n",
              "      <td>2500</td>\n",
              "      <td>2_apprentice_celebapprentice_celebrity_miss</td>\n",
              "      <td>[apprentice, celebapprentice, celebrity, miss,...</td>\n",
              "      <td>[the celebrity apprentice sunday night at pm o...</td>\n",
              "    </tr>\n",
              "    <tr>\n",
              "      <th>4</th>\n",
              "      <td>3</td>\n",
              "      <td>1252</td>\n",
              "      <td>3_entrepreneurs_think_success_focus</td>\n",
              "      <td>[entrepreneurs, think, success, focus, passion...</td>\n",
              "      <td>[entrepreneurs don t sell yourself short don t...</td>\n",
              "    </tr>\n",
              "    <tr>\n",
              "      <th>5</th>\n",
              "      <td>4</td>\n",
              "      <td>590</td>\n",
              "      <td>4_amp_order_big_thank</td>\n",
              "      <td>[amp, order, big, thank, law, think, trump, ru...</td>\n",
              "      <td>[law amp order, my int with on obama being all...</td>\n",
              "    </tr>\n",
              "    <tr>\n",
              "      <th>6</th>\n",
              "      <td>5</td>\n",
              "      <td>391</td>\n",
              "      <td>5_wind_warming_turbines_windmills</td>\n",
              "      <td>[wind, warming, turbines, windmills, birds, fa...</td>\n",
              "      <td>[wind turbines are a disaster, for those that ...</td>\n",
              "    </tr>\n",
              "    <tr>\n",
              "      <th>7</th>\n",
              "      <td>6</td>\n",
              "      <td>73</td>\n",
              "      <td>6_hunt_swamp_draining_continues</td>\n",
              "      <td>[hunt, swamp, draining, continues, schneiderma...</td>\n",
              "      <td>[witch hunt, witch hunt, witch hunt]</td>\n",
              "    </tr>\n",
              "    <tr>\n",
              "      <th>8</th>\n",
              "      <td>7</td>\n",
              "      <td>54</td>\n",
              "      <td>7_screen_apple_larger_mobile</td>\n",
              "      <td>[screen, apple, larger, mobile, samsung, tmobi...</td>\n",
              "      <td>[i can t believe apple isn t moving faster to ...</td>\n",
              "    </tr>\n",
              "    <tr>\n",
              "      <th>9</th>\n",
              "      <td>8</td>\n",
              "      <td>17</td>\n",
              "      <td>8_pinehurst_golf_greens_critical</td>\n",
              "      <td>[pinehurst, golf, greens, critical, looked, pl...</td>\n",
              "      <td>[matt you don t understand golf even though yo...</td>\n",
              "    </tr>\n",
              "  </tbody>\n",
              "</table>\n",
              "</div>"
            ],
            "text/plain": [
              "   Topic  Count                                         Name  \\\n",
              "0     -1  16086                        -1_amp_obama_big_like   \n",
              "1      0  21517                       0_amp_thank_china_vote   \n",
              "2      1   2875            1_thanks_happy_birthday_christmas   \n",
              "3      2   2500  2_apprentice_celebapprentice_celebrity_miss   \n",
              "4      3   1252          3_entrepreneurs_think_success_focus   \n",
              "5      4    590                        4_amp_order_big_thank   \n",
              "6      5    391            5_wind_warming_turbines_windmills   \n",
              "7      6     73              6_hunt_swamp_draining_continues   \n",
              "8      7     54                 7_screen_apple_larger_mobile   \n",
              "9      8     17             8_pinehurst_golf_greens_critical   \n",
              "\n",
              "                                      Representation  \\\n",
              "0  [amp, obama, big, like, make, fake, today, tha...   \n",
              "1  [amp, thank, china, vote, make, obama, news, l...   \n",
              "2  [thanks, happy, birthday, christmas, merry, mo...   \n",
              "3  [apprentice, celebapprentice, celebrity, miss,...   \n",
              "4  [entrepreneurs, think, success, focus, passion...   \n",
              "5  [amp, order, big, thank, law, think, trump, ru...   \n",
              "6  [wind, warming, turbines, windmills, birds, fa...   \n",
              "7  [hunt, swamp, draining, continues, schneiderma...   \n",
              "8  [screen, apple, larger, mobile, samsung, tmobi...   \n",
              "9  [pinehurst, golf, greens, critical, looked, pl...   \n",
              "\n",
              "                                 Representative_Docs  \n",
              "0  [thank you governor make america safe and grea...  \n",
              "1  [make america great again, thank you trump, th...  \n",
              "2                           [thanks, thanks, thanks]  \n",
              "3  [the celebrity apprentice sunday night at pm o...  \n",
              "4  [entrepreneurs don t sell yourself short don t...  \n",
              "5  [law amp order, my int with on obama being all...  \n",
              "6  [wind turbines are a disaster, for those that ...  \n",
              "7               [witch hunt, witch hunt, witch hunt]  \n",
              "8  [i can t believe apple isn t moving faster to ...  \n",
              "9  [matt you don t understand golf even though yo...  "
            ]
          },
          "execution_count": 34,
          "metadata": {},
          "output_type": "execute_result"
        }
      ],
      "source": [
        "topic_model.get_topic_info()"
      ]
    },
    {
      "cell_type": "code",
      "execution_count": 35,
      "metadata": {
        "id": "QOIMhz0YmoNg"
      },
      "outputs": [],
      "source": [
        "probs_df=pd.DataFrame(probs)\n",
        "probs_df['main percentage'] = pd.DataFrame({'max': probs_df.max(axis=1)})\n",
        "probs_text=probs_df[[\"main percentage\"]]\n",
        "text_topics_assinged=pd.concat([full_train,probs_text],axis=1)"
      ]
    },
    {
      "cell_type": "code",
      "execution_count": 36,
      "metadata": {
        "colab": {
          "base_uri": "https://localhost:8080/",
          "height": 206
        },
        "id": "ci6ZgfTpmsu5",
        "outputId": "6e2965b1-e3d4-4da6-df2d-d26ea5b89a08"
      },
      "outputs": [
        {
          "data": {
            "text/html": [
              "<div>\n",
              "<style scoped>\n",
              "    .dataframe tbody tr th:only-of-type {\n",
              "        vertical-align: middle;\n",
              "    }\n",
              "\n",
              "    .dataframe tbody tr th {\n",
              "        vertical-align: top;\n",
              "    }\n",
              "\n",
              "    .dataframe thead th {\n",
              "        text-align: right;\n",
              "    }\n",
              "</style>\n",
              "<table border=\"1\" class=\"dataframe\">\n",
              "  <thead>\n",
              "    <tr style=\"text-align: right;\">\n",
              "      <th></th>\n",
              "      <th>text</th>\n",
              "      <th>main percentage</th>\n",
              "    </tr>\n",
              "  </thead>\n",
              "  <tbody>\n",
              "    <tr>\n",
              "      <th>0</th>\n",
              "      <td>Republicans and Democrats have both created ou...</td>\n",
              "      <td>0.0</td>\n",
              "    </tr>\n",
              "    <tr>\n",
              "      <th>1</th>\n",
              "      <td>I was thrilled to be back in the Great city of...</td>\n",
              "      <td>0.0</td>\n",
              "    </tr>\n",
              "    <tr>\n",
              "      <th>2</th>\n",
              "      <td>RT @CBS_Herridge: READ: Letter to surveillance...</td>\n",
              "      <td>1.0</td>\n",
              "    </tr>\n",
              "    <tr>\n",
              "      <th>3</th>\n",
              "      <td>The Unsolicited Mail In Ballot Scam is a major...</td>\n",
              "      <td>0.0</td>\n",
              "    </tr>\n",
              "    <tr>\n",
              "      <th>4</th>\n",
              "      <td>RT @MZHemingway: Very friendly telling of even...</td>\n",
              "      <td>1.0</td>\n",
              "    </tr>\n",
              "  </tbody>\n",
              "</table>\n",
              "</div>"
            ],
            "text/plain": [
              "                                                text  main percentage\n",
              "0  Republicans and Democrats have both created ou...              0.0\n",
              "1  I was thrilled to be back in the Great city of...              0.0\n",
              "2  RT @CBS_Herridge: READ: Letter to surveillance...              1.0\n",
              "3  The Unsolicited Mail In Ballot Scam is a major...              0.0\n",
              "4  RT @MZHemingway: Very friendly telling of even...              1.0"
            ]
          },
          "execution_count": 36,
          "metadata": {},
          "output_type": "execute_result"
        }
      ],
      "source": [
        "text_topics_assinged.head()"
      ]
    },
    {
      "cell_type": "code",
      "execution_count": 37,
      "metadata": {
        "id": "vOLyZALsmz4X"
      },
      "outputs": [],
      "source": [
        "topic_labels = topic_model.generate_topic_labels(topic_prefix=False,nr_words=5,\n",
        "                                                 separator=\",\")"
      ]
    },
    {
      "cell_type": "code",
      "execution_count": 38,
      "metadata": {
        "id": "l2vglVVgm3AH"
      },
      "outputs": [],
      "source": [
        "topic_model.set_topic_labels(topic_labels)"
      ]
    },
    {
      "cell_type": "code",
      "execution_count": 39,
      "metadata": {
        "colab": {
          "base_uri": "https://localhost:8080/",
          "height": 363
        },
        "id": "kXFU2o7Hm5CY",
        "outputId": "857b77b2-fd24-4026-e6c4-6c1db6b189df"
      },
      "outputs": [
        {
          "data": {
            "text/html": [
              "<div>\n",
              "<style scoped>\n",
              "    .dataframe tbody tr th:only-of-type {\n",
              "        vertical-align: middle;\n",
              "    }\n",
              "\n",
              "    .dataframe tbody tr th {\n",
              "        vertical-align: top;\n",
              "    }\n",
              "\n",
              "    .dataframe thead th {\n",
              "        text-align: right;\n",
              "    }\n",
              "</style>\n",
              "<table border=\"1\" class=\"dataframe\">\n",
              "  <thead>\n",
              "    <tr style=\"text-align: right;\">\n",
              "      <th></th>\n",
              "      <th>Topic</th>\n",
              "      <th>Count</th>\n",
              "      <th>Name</th>\n",
              "      <th>CustomName</th>\n",
              "      <th>Representation</th>\n",
              "      <th>Representative_Docs</th>\n",
              "    </tr>\n",
              "  </thead>\n",
              "  <tbody>\n",
              "    <tr>\n",
              "      <th>0</th>\n",
              "      <td>-1</td>\n",
              "      <td>16086</td>\n",
              "      <td>-1_amp_obama_big_like</td>\n",
              "      <td>amp,obama,big,like,make</td>\n",
              "      <td>[amp, obama, big, like, make, fake, today, tha...</td>\n",
              "      <td>[thank you governor make america safe and grea...</td>\n",
              "    </tr>\n",
              "    <tr>\n",
              "      <th>1</th>\n",
              "      <td>0</td>\n",
              "      <td>21517</td>\n",
              "      <td>0_amp_thank_china_vote</td>\n",
              "      <td>amp,thank,china,vote,make</td>\n",
              "      <td>[amp, thank, china, vote, make, obama, news, l...</td>\n",
              "      <td>[make america great again, thank you trump, th...</td>\n",
              "    </tr>\n",
              "    <tr>\n",
              "      <th>2</th>\n",
              "      <td>1</td>\n",
              "      <td>2875</td>\n",
              "      <td>1_thanks_happy_birthday_christmas</td>\n",
              "      <td>thanks,happy,birthday,christmas,merry</td>\n",
              "      <td>[thanks, happy, birthday, christmas, merry, mo...</td>\n",
              "      <td>[thanks, thanks, thanks]</td>\n",
              "    </tr>\n",
              "    <tr>\n",
              "      <th>3</th>\n",
              "      <td>2</td>\n",
              "      <td>2500</td>\n",
              "      <td>2_apprentice_celebapprentice_celebrity_miss</td>\n",
              "      <td>apprentice,celebapprentice,celebrity,miss,melania</td>\n",
              "      <td>[apprentice, celebapprentice, celebrity, miss,...</td>\n",
              "      <td>[the celebrity apprentice sunday night at pm o...</td>\n",
              "    </tr>\n",
              "    <tr>\n",
              "      <th>4</th>\n",
              "      <td>3</td>\n",
              "      <td>1252</td>\n",
              "      <td>3_entrepreneurs_think_success_focus</td>\n",
              "      <td>entrepreneurs,think,success,focus,passion</td>\n",
              "      <td>[entrepreneurs, think, success, focus, passion...</td>\n",
              "      <td>[entrepreneurs don t sell yourself short don t...</td>\n",
              "    </tr>\n",
              "    <tr>\n",
              "      <th>5</th>\n",
              "      <td>4</td>\n",
              "      <td>590</td>\n",
              "      <td>4_amp_order_big_thank</td>\n",
              "      <td>amp,order,big,thank,law</td>\n",
              "      <td>[amp, order, big, thank, law, think, trump, ru...</td>\n",
              "      <td>[law amp order, my int with on obama being all...</td>\n",
              "    </tr>\n",
              "    <tr>\n",
              "      <th>6</th>\n",
              "      <td>5</td>\n",
              "      <td>391</td>\n",
              "      <td>5_wind_warming_turbines_windmills</td>\n",
              "      <td>wind,warming,turbines,windmills,birds</td>\n",
              "      <td>[wind, warming, turbines, windmills, birds, fa...</td>\n",
              "      <td>[wind turbines are a disaster, for those that ...</td>\n",
              "    </tr>\n",
              "    <tr>\n",
              "      <th>7</th>\n",
              "      <td>6</td>\n",
              "      <td>73</td>\n",
              "      <td>6_hunt_swamp_draining_continues</td>\n",
              "      <td>hunt,swamp,draining,continues,schneiderman</td>\n",
              "      <td>[hunt, swamp, draining, continues, schneiderma...</td>\n",
              "      <td>[witch hunt, witch hunt, witch hunt]</td>\n",
              "    </tr>\n",
              "    <tr>\n",
              "      <th>8</th>\n",
              "      <td>7</td>\n",
              "      <td>54</td>\n",
              "      <td>7_screen_apple_larger_mobile</td>\n",
              "      <td>screen,apple,larger,mobile,samsung</td>\n",
              "      <td>[screen, apple, larger, mobile, samsung, tmobi...</td>\n",
              "      <td>[i can t believe apple isn t moving faster to ...</td>\n",
              "    </tr>\n",
              "    <tr>\n",
              "      <th>9</th>\n",
              "      <td>8</td>\n",
              "      <td>17</td>\n",
              "      <td>8_pinehurst_golf_greens_critical</td>\n",
              "      <td>pinehurst,golf,greens,critical,looked</td>\n",
              "      <td>[pinehurst, golf, greens, critical, looked, pl...</td>\n",
              "      <td>[matt you don t understand golf even though yo...</td>\n",
              "    </tr>\n",
              "  </tbody>\n",
              "</table>\n",
              "</div>"
            ],
            "text/plain": [
              "   Topic  Count                                         Name  \\\n",
              "0     -1  16086                        -1_amp_obama_big_like   \n",
              "1      0  21517                       0_amp_thank_china_vote   \n",
              "2      1   2875            1_thanks_happy_birthday_christmas   \n",
              "3      2   2500  2_apprentice_celebapprentice_celebrity_miss   \n",
              "4      3   1252          3_entrepreneurs_think_success_focus   \n",
              "5      4    590                        4_amp_order_big_thank   \n",
              "6      5    391            5_wind_warming_turbines_windmills   \n",
              "7      6     73              6_hunt_swamp_draining_continues   \n",
              "8      7     54                 7_screen_apple_larger_mobile   \n",
              "9      8     17             8_pinehurst_golf_greens_critical   \n",
              "\n",
              "                                          CustomName  \\\n",
              "0                            amp,obama,big,like,make   \n",
              "1                          amp,thank,china,vote,make   \n",
              "2              thanks,happy,birthday,christmas,merry   \n",
              "3  apprentice,celebapprentice,celebrity,miss,melania   \n",
              "4          entrepreneurs,think,success,focus,passion   \n",
              "5                            amp,order,big,thank,law   \n",
              "6              wind,warming,turbines,windmills,birds   \n",
              "7         hunt,swamp,draining,continues,schneiderman   \n",
              "8                 screen,apple,larger,mobile,samsung   \n",
              "9              pinehurst,golf,greens,critical,looked   \n",
              "\n",
              "                                      Representation  \\\n",
              "0  [amp, obama, big, like, make, fake, today, tha...   \n",
              "1  [amp, thank, china, vote, make, obama, news, l...   \n",
              "2  [thanks, happy, birthday, christmas, merry, mo...   \n",
              "3  [apprentice, celebapprentice, celebrity, miss,...   \n",
              "4  [entrepreneurs, think, success, focus, passion...   \n",
              "5  [amp, order, big, thank, law, think, trump, ru...   \n",
              "6  [wind, warming, turbines, windmills, birds, fa...   \n",
              "7  [hunt, swamp, draining, continues, schneiderma...   \n",
              "8  [screen, apple, larger, mobile, samsung, tmobi...   \n",
              "9  [pinehurst, golf, greens, critical, looked, pl...   \n",
              "\n",
              "                                 Representative_Docs  \n",
              "0  [thank you governor make america safe and grea...  \n",
              "1  [make america great again, thank you trump, th...  \n",
              "2                           [thanks, thanks, thanks]  \n",
              "3  [the celebrity apprentice sunday night at pm o...  \n",
              "4  [entrepreneurs don t sell yourself short don t...  \n",
              "5  [law amp order, my int with on obama being all...  \n",
              "6  [wind turbines are a disaster, for those that ...  \n",
              "7               [witch hunt, witch hunt, witch hunt]  \n",
              "8  [i can t believe apple isn t moving faster to ...  \n",
              "9  [matt you don t understand golf even though yo...  "
            ]
          },
          "execution_count": 39,
          "metadata": {},
          "output_type": "execute_result"
        }
      ],
      "source": [
        "topic_list = topic_model.get_topic_info()\n",
        "topic_list"
      ]
    },
    {
      "cell_type": "code",
      "execution_count": 41,
      "metadata": {
        "id": "gqMrmQ9_m6pM"
      },
      "outputs": [],
      "source": [
        "topic_list.to_excel('topic_list.xlsx')"
      ]
    },
    {
      "cell_type": "code",
      "execution_count": null,
      "metadata": {
        "id": "JUBZCyklm-ym"
      },
      "outputs": [],
      "source": [
        "import pickle"
      ]
    },
    {
      "cell_type": "code",
      "execution_count": null,
      "metadata": {
        "colab": {
          "base_uri": "https://localhost:8080/"
        },
        "id": "z4EN9eNonBmE",
        "outputId": "479ba362-483e-46a2-c2d6-9b539b442765"
      },
      "outputs": [
        {
          "name": "stderr",
          "output_type": "stream",
          "text": [
            "/usr/local/lib/python3.10/dist-packages/scipy/sparse/_index.py:143: SparseEfficiencyWarning:\n",
            "\n",
            "Changing the sparsity structure of a csr_matrix is expensive. lil_matrix is more efficient.\n",
            "\n"
          ]
        }
      ],
      "source": [
        "with open(\"Bertopic_model.pkl\", \"wb\") as f:\n",
        "    pickle.dump(topic_model, f)"
      ]
    },
    {
      "cell_type": "code",
      "execution_count": 42,
      "metadata": {
        "id": "Q5MvDXpknEXI"
      },
      "outputs": [],
      "source": [
        "tweets = pd.DataFrame({\"Tweets\": filtered_text,\n",
        "                          \"ID\": range(len(filtered_text)),\n",
        "                          \"Topic\": topics})\n",
        "tweets_per_topic = tweets.groupby(['Topic'], as_index=False).agg({'Tweets': ' '.join})\n",
        "cleaned_topics = topic_model._preprocess_text(tweets_per_topic.Tweets.values)\n",
        "\n",
        "# Extract vectorizer and analyzer from BERTopic\n",
        "vectorizer = topic_model.vectorizer_model\n",
        "analyzer = vectorizer.build_analyzer()\n",
        "\n",
        "# Extract features for Topic Coherence evaluation\n",
        "words = vectorizer.get_feature_names_out()\n",
        "tokens = [analyzer(doc) for doc in cleaned_topics]\n",
        "dictionary = corpora.Dictionary(tokens)\n",
        "corpus = [dictionary.doc2bow(token) for token in tokens]\n",
        "topic_words = [[words for words, _ in topic_model.get_topic(topic)]\n",
        "               for topic in range(len(set(topics))-1)]\n",
        "\n",
        "# Evaluate\n",
        "coherence_model = CoherenceModel(topics=topic_words,\n",
        "                                 texts=tokens,\n",
        "                                 corpus=corpus,\n",
        "                                 dictionary=dictionary,\n",
        "                                 coherence='c_v')\n",
        "coherence = coherence_model.get_coherence()"
      ]
    },
    {
      "cell_type": "code",
      "execution_count": 43,
      "metadata": {
        "colab": {
          "base_uri": "https://localhost:8080/"
        },
        "id": "ML97RMY8nPQN",
        "outputId": "b9c4fb44-a242-4de4-81a3-9550a679b26d"
      },
      "outputs": [
        {
          "name": "stdout",
          "output_type": "stream",
          "text": [
            "0.5807259485336854\n"
          ]
        }
      ],
      "source": [
        "print(coherence)"
      ]
    },
    {
      "cell_type": "code",
      "execution_count": 44,
      "metadata": {
        "id": "Ef-I-i5nnQzq"
      },
      "outputs": [],
      "source": [
        "def get_topics_with_coherence():\n",
        "  topic_list.to_excel('topic_list.xlsx'),coherence"
      ]
    },
    {
      "cell_type": "code",
      "execution_count": 45,
      "metadata": {},
      "outputs": [
        {
          "name": "stderr",
          "output_type": "stream",
          "text": [
            "2024-03-06 00:13:44,545 - BERTopic - WARNING: When you use `pickle` to save/load a BERTopic model,please make sure that the environments in which you saveand load the model are **exactly** the same. The version of BERTopic,its dependencies, and python need to remain the same.\n"
          ]
        }
      ],
      "source": [
        "topic_model.save(\"topicmodel.pkl\",serialization=\"pickle\")"
      ]
    },
    {
      "cell_type": "code",
      "execution_count": null,
      "metadata": {},
      "outputs": [],
      "source": []
    }
  ],
  "metadata": {
    "colab": {
      "provenance": []
    },
    "kernelspec": {
      "display_name": "Python 3",
      "name": "python3"
    },
    "language_info": {
      "codemirror_mode": {
        "name": "ipython",
        "version": 3
      },
      "file_extension": ".py",
      "mimetype": "text/x-python",
      "name": "python",
      "nbconvert_exporter": "python",
      "pygments_lexer": "ipython3",
      "version": "3.12.2"
    }
  },
  "nbformat": 4,
  "nbformat_minor": 0
}
